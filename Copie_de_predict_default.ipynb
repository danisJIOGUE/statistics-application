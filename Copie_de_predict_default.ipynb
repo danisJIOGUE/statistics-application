{
  "nbformat": 4,
  "nbformat_minor": 0,
  "metadata": {
    "colab": {
      "name": "Copie de predict_default.ipynb",
      "provenance": [],
      "collapsed_sections": [
        "RCAxb9d1fP7L",
        "ckKjz0gkWE-T",
        "XHr7lBHDLUDV",
        "UbHF5lLofP7L",
        "wfL4t-Pkz4Vy",
        "SvPtb6K8fP7N",
        "swg7nu_2fP7N",
        "TAucGXR0fP7O",
        "K6qyfPyofP7M"
      ],
      "include_colab_link": true
    },
    "kernelspec": {
      "display_name": "Python 3",
      "language": "python",
      "name": "python3"
    },
    "language_info": {
      "codemirror_mode": {
        "name": "ipython",
        "version": 3
      },
      "file_extension": ".py",
      "mimetype": "text/x-python",
      "name": "python",
      "nbconvert_exporter": "python",
      "pygments_lexer": "ipython3",
      "version": "3.7.6"
    }
  },
  "cells": [
    {
      "cell_type": "markdown",
      "metadata": {
        "id": "view-in-github",
        "colab_type": "text"
      },
      "source": [
        "<a href=\"https://colab.research.google.com/github/danisJIOGUE/statistics-application/blob/master/Copie_de_predict_default.ipynb\" target=\"_parent\"><img src=\"https://colab.research.google.com/assets/colab-badge.svg\" alt=\"Open In Colab\"/></a>"
      ]
    },
    {
      "cell_type": "markdown",
      "metadata": {
        "id": "M1HZC9H1PfhL"
      },
      "source": [
        "# Default risk rating in non profit microfinance : case of non profit orgnisation KIVA"
      ]
    },
    {
      "cell_type": "markdown",
      "metadata": {
        "id": "3MTTdCbdQFqj"
      },
      "source": [
        "# Loading Databases"
      ]
    },
    {
      "cell_type": "code",
      "metadata": {
        "id": "1MzhyEUtfP7F",
        "colab": {
          "base_uri": "https://localhost:8080/"
        },
        "outputId": "6ab0a886-6017-4b36-eae3-255829c714dd"
      },
      "source": [
        "#!pip install pycountry_convert\n",
        "\n",
        "import pandas as pd\n",
        "import numpy as np\n",
        "import matplotlib.pyplot as plt\n",
        "import seaborn as sns\n",
        "import missingno as msno\n",
        "from subprocess import check_output\n",
        "from plotnine import *\n",
        "from google.colab import drive\n",
        "import pycountry_convert as pc\n",
        "drive.mount('/content/drive')"
      ],
      "execution_count": 3,
      "outputs": [
        {
          "output_type": "stream",
          "text": [
            "Mounted at /content/drive\n"
          ],
          "name": "stdout"
        }
      ]
    },
    {
      "cell_type": "code",
      "metadata": {
        "colab": {
          "base_uri": "https://localhost:8080/"
        },
        "id": "dk6_HtipfP7G",
        "outputId": "e3556964-cee3-4b9f-b102-e406e5a21349"
      },
      "source": [
        "#Detection of the dataset'encoding\n",
        "import chardet\n",
        "\n",
        "#Loan dataset\n",
        "with open(\"/content/drive/My Drive/Stat_App/loans.csv\", 'rb') as f:\n",
        "    c = f.read()\n",
        "chardet.detect(c)"
      ],
      "execution_count": null,
      "outputs": [
        {
          "output_type": "execute_result",
          "data": {
            "text/plain": [
              "{'confidence': 0.7291077209623456, 'encoding': 'ISO-8859-1', 'language': ''}"
            ]
          },
          "metadata": {
            "tags": []
          },
          "execution_count": 4
        }
      ]
    },
    {
      "cell_type": "code",
      "metadata": {
        "colab": {
          "base_uri": "https://localhost:8080/"
        },
        "id": "W7Lt1bRcfP7H",
        "outputId": "f0c716f2-f336-4bdc-e86c-68d76e761a55"
      },
      "source": [
        "loan = pd.read_csv('/content/drive/My Drive/Stat_App/loans.csv', encoding ='ISO-8859-1',  sep=\";\")"
      ],
      "execution_count": 4,
      "outputs": [
        {
          "output_type": "stream",
          "text": [
            "/usr/local/lib/python3.6/dist-packages/IPython/core/interactiveshell.py:2718: DtypeWarning: Columns (0,3,4,11,30,32,38) have mixed types.Specify dtype option on import or set low_memory=False.\n",
            "  interactivity=interactivity, compiler=compiler, result=result)\n"
          ],
          "name": "stderr"
        }
      ]
    },
    {
      "cell_type": "code",
      "metadata": {
        "colab": {
          "base_uri": "https://localhost:8080/"
        },
        "id": "W3tXdJZofP7H",
        "outputId": "d32a38a9-d919-4bfe-ee93-f8e6e5ecdb23"
      },
      "source": [
        "#Description dataset\n",
        "with open(\"/content/drive/My Drive/Stat_App/description.csv\", 'rb') as f:\n",
        "    c = f.read()\n",
        "chardet.detect(c)"
      ],
      "execution_count": null,
      "outputs": [
        {
          "output_type": "execute_result",
          "data": {
            "text/plain": [
              "{'confidence': 0.99, 'encoding': 'utf-8', 'language': ''}"
            ]
          },
          "metadata": {
            "tags": []
          },
          "execution_count": 30
        }
      ]
    },
    {
      "cell_type": "code",
      "metadata": {
        "id": "I1KH9tC8fP7H"
      },
      "source": [
        "db_desc = pd.read_csv('/content/drive/My Drive/Stat_App/description.csv', encoding ='utf-8',  sep=\";\")"
      ],
      "execution_count": 5,
      "outputs": []
    },
    {
      "cell_type": "code",
      "metadata": {
        "colab": {
          "base_uri": "https://localhost:8080/"
        },
        "id": "wMNvT0b-fP7I",
        "outputId": "65d86e14-4436-4836-9a1a-60e82105eca4"
      },
      "source": [
        "loan.columns"
      ],
      "execution_count": null,
      "outputs": [
        {
          "output_type": "execute_result",
          "data": {
            "text/plain": [
              "Index(['id', 'description.languages', 'status', 'funded_amount', 'paid_amount',\n",
              "       'activity', 'sector', 'location.country_code', 'location.country',\n",
              "       'location.town', 'location.geo.level', 'partner_id',\n",
              "       'borrowers.first_name', 'borrowers.last_name', 'borrowers.gender',\n",
              "       'borrowers.pictured', 'terms.disbursal_amount',\n",
              "       'terms.disbursal_currency', 'terms.disbursal_date', 'terms.loan_amount',\n",
              "       'terms.loss_liability.nonpayment',\n",
              "       'terms.loss_liability.currency_exchange', 'posted_date', 'funded_date',\n",
              "       'journal_totals.entries', 'paid_date', 'defaulted_date',\n",
              "       'terms.local_payments.due_date', 'terms.local_payments.amount',\n",
              "       'terms.scheduled_payments.due_date', 'terms.scheduled_payments.amount',\n",
              "       'delinquent', 'video.youtube_id', 'basket_amount', 'amount',\n",
              "       'payment_id', 'local_amount', 'processed_date', 'rounded_local_amount',\n",
              "       'settlement_date', 'lat', 'lon'],\n",
              "      dtype='object')"
            ]
          },
          "metadata": {
            "tags": []
          },
          "execution_count": 30
        }
      ]
    },
    {
      "cell_type": "code",
      "metadata": {
        "colab": {
          "base_uri": "https://localhost:8080/"
        },
        "id": "QbQb1N9LfP7I",
        "outputId": "eb362063-4542-416d-9b27-5d0f8de81d19"
      },
      "source": [
        "db_desc.columns"
      ],
      "execution_count": null,
      "outputs": [
        {
          "output_type": "execute_result",
          "data": {
            "text/plain": [
              "Index(['id', 'loan_name', 'description', 'description_translated', 'loan_use',\n",
              "       'country_code', 'country_name', 'town_name', 'currency_policy',\n",
              "       'currency_exchange_coverage_rate', 'partner_id', 'lender_term',\n",
              "       'num_lenders_total', 'tags', 'borrower_names', 'borrower_genders',\n",
              "       'borrower_pictured', 'repayment_interval', 'distribution_model'],\n",
              "      dtype='object')"
            ]
          },
          "metadata": {
            "tags": []
          },
          "execution_count": 8
        }
      ]
    },
    {
      "cell_type": "code",
      "metadata": {
        "colab": {
          "base_uri": "https://localhost:8080/"
        },
        "id": "KhXXixOdqzG3",
        "outputId": "3f13436c-b056-4204-a332-0acd14cb3294"
      },
      "source": [
        "## We identify the variables which are the same in these databaes\n",
        "loan.filter(items=db_desc.columns).columns"
      ],
      "execution_count": null,
      "outputs": [
        {
          "output_type": "execute_result",
          "data": {
            "text/plain": [
              "Index(['id', 'partner_id'], dtype='object')"
            ]
          },
          "metadata": {
            "tags": []
          },
          "execution_count": 5
        }
      ]
    },
    {
      "cell_type": "code",
      "metadata": {
        "colab": {
          "base_uri": "https://localhost:8080/"
        },
        "id": "dLjVxhGWfP7I",
        "outputId": "1f432211-8c1d-4e4e-e32a-e737afadf504"
      },
      "source": [
        "print('The shape (nb obs ; nb var) of the data set : \\n\\n loan :', loan.shape,'\\n description : ', db_desc.shape)"
      ],
      "execution_count": null,
      "outputs": [
        {
          "output_type": "stream",
          "text": [
            "The shape (nb obs ; nb var) of the data set : \n",
            "\n",
            " loan : (42181, 42) \n",
            " description :  (3182, 19)\n"
          ],
          "name": "stdout"
        }
      ]
    },
    {
      "cell_type": "code",
      "metadata": {
        "colab": {
          "base_uri": "https://localhost:8080/",
          "height": 217
        },
        "id": "ZvLBlRq0fP7I",
        "outputId": "4f2a581d-e2f8-472e-e134-a56021f02217"
      },
      "source": [
        "db_desc.head(2)"
      ],
      "execution_count": null,
      "outputs": [
        {
          "output_type": "execute_result",
          "data": {
            "text/html": [
              "<div>\n",
              "<style scoped>\n",
              "    .dataframe tbody tr th:only-of-type {\n",
              "        vertical-align: middle;\n",
              "    }\n",
              "\n",
              "    .dataframe tbody tr th {\n",
              "        vertical-align: top;\n",
              "    }\n",
              "\n",
              "    .dataframe thead th {\n",
              "        text-align: right;\n",
              "    }\n",
              "</style>\n",
              "<table border=\"1\" class=\"dataframe\">\n",
              "  <thead>\n",
              "    <tr style=\"text-align: right;\">\n",
              "      <th></th>\n",
              "      <th>id</th>\n",
              "      <th>loan_name</th>\n",
              "      <th>description</th>\n",
              "      <th>description_translated</th>\n",
              "      <th>loan_use</th>\n",
              "      <th>country_code</th>\n",
              "      <th>country_name</th>\n",
              "      <th>town_name</th>\n",
              "      <th>currency_policy</th>\n",
              "      <th>currency_exchange_coverage_rate</th>\n",
              "      <th>partner_id</th>\n",
              "      <th>lender_term</th>\n",
              "      <th>num_lenders_total</th>\n",
              "      <th>tags</th>\n",
              "      <th>borrower_names</th>\n",
              "      <th>borrower_genders</th>\n",
              "      <th>borrower_pictured</th>\n",
              "      <th>repayment_interval</th>\n",
              "      <th>distribution_model</th>\n",
              "    </tr>\n",
              "  </thead>\n",
              "  <tbody>\n",
              "    <tr>\n",
              "      <th>0</th>\n",
              "      <td>156</td>\n",
              "      <td>Marks Antonio</td>\n",
              "      <td>Through my association with the local elementa...</td>\n",
              "      <td>NaN</td>\n",
              "      <td>Purchase of tools and materials to full first ...</td>\n",
              "      <td>NI</td>\n",
              "      <td>Nicaragua</td>\n",
              "      <td>Managua</td>\n",
              "      <td>standard</td>\n",
              "      <td>NaN</td>\n",
              "      <td>5</td>\n",
              "      <td>6</td>\n",
              "      <td>1</td>\n",
              "      <td>NaN</td>\n",
              "      <td>Marks Antonio</td>\n",
              "      <td>male</td>\n",
              "      <td>true</td>\n",
              "      <td>monthly</td>\n",
              "      <td>field_partner</td>\n",
              "    </tr>\n",
              "    <tr>\n",
              "      <th>1</th>\n",
              "      <td>173</td>\n",
              "      <td>NaN</td>\n",
              "      <td>NaN</td>\n",
              "      <td>NaN</td>\n",
              "      <td>NaN</td>\n",
              "      <td>GZ</td>\n",
              "      <td>Gaza</td>\n",
              "      <td>NaN</td>\n",
              "      <td>standard</td>\n",
              "      <td>NaN</td>\n",
              "      <td>2</td>\n",
              "      <td>12</td>\n",
              "      <td>7</td>\n",
              "      <td>user_favorite</td>\n",
              "      <td>NaN</td>\n",
              "      <td>NaN</td>\n",
              "      <td>NaN</td>\n",
              "      <td>monthly</td>\n",
              "      <td>field_partner</td>\n",
              "    </tr>\n",
              "  </tbody>\n",
              "</table>\n",
              "</div>"
            ],
            "text/plain": [
              "    id      loan_name  ... repayment_interval distribution_model\n",
              "0  156  Marks Antonio  ...            monthly      field_partner\n",
              "1  173            NaN  ...            monthly      field_partner\n",
              "\n",
              "[2 rows x 19 columns]"
            ]
          },
          "metadata": {
            "tags": []
          },
          "execution_count": 9
        }
      ]
    },
    {
      "cell_type": "code",
      "metadata": {
        "colab": {
          "base_uri": "https://localhost:8080/",
          "height": 130
        },
        "id": "ZBDqsXf9fP7I",
        "outputId": "4a28b821-9889-499a-a229-2bec0d55ba63"
      },
      "source": [
        "loan.head(2)"
      ],
      "execution_count": null,
      "outputs": [
        {
          "output_type": "execute_result",
          "data": {
            "text/html": [
              "<div>\n",
              "<style scoped>\n",
              "    .dataframe tbody tr th:only-of-type {\n",
              "        vertical-align: middle;\n",
              "    }\n",
              "\n",
              "    .dataframe tbody tr th {\n",
              "        vertical-align: top;\n",
              "    }\n",
              "\n",
              "    .dataframe thead th {\n",
              "        text-align: right;\n",
              "    }\n",
              "</style>\n",
              "<table border=\"1\" class=\"dataframe\">\n",
              "  <thead>\n",
              "    <tr style=\"text-align: right;\">\n",
              "      <th></th>\n",
              "      <th>id</th>\n",
              "      <th>description.languages</th>\n",
              "      <th>status</th>\n",
              "      <th>funded_amount</th>\n",
              "      <th>paid_amount</th>\n",
              "      <th>activity</th>\n",
              "      <th>sector</th>\n",
              "      <th>location.country_code</th>\n",
              "      <th>location.country</th>\n",
              "      <th>location.town</th>\n",
              "      <th>location.geo.level</th>\n",
              "      <th>partner_id</th>\n",
              "      <th>borrowers.first_name</th>\n",
              "      <th>borrowers.last_name</th>\n",
              "      <th>borrowers.gender</th>\n",
              "      <th>borrowers.pictured</th>\n",
              "      <th>terms.disbursal_amount</th>\n",
              "      <th>terms.disbursal_currency</th>\n",
              "      <th>terms.disbursal_date</th>\n",
              "      <th>terms.loan_amount</th>\n",
              "      <th>terms.loss_liability.nonpayment</th>\n",
              "      <th>terms.loss_liability.currency_exchange</th>\n",
              "      <th>posted_date</th>\n",
              "      <th>funded_date</th>\n",
              "      <th>journal_totals.entries</th>\n",
              "      <th>paid_date</th>\n",
              "      <th>defaulted_date</th>\n",
              "      <th>terms.local_payments.due_date</th>\n",
              "      <th>terms.local_payments.amount</th>\n",
              "      <th>terms.scheduled_payments.due_date</th>\n",
              "      <th>terms.scheduled_payments.amount</th>\n",
              "      <th>delinquent</th>\n",
              "      <th>video.youtube_id</th>\n",
              "      <th>basket_amount</th>\n",
              "      <th>amount</th>\n",
              "      <th>payment_id</th>\n",
              "      <th>local_amount</th>\n",
              "      <th>processed_date</th>\n",
              "      <th>rounded_local_amount</th>\n",
              "      <th>settlement_date</th>\n",
              "      <th>lat</th>\n",
              "      <th>lon</th>\n",
              "    </tr>\n",
              "  </thead>\n",
              "  <tbody>\n",
              "    <tr>\n",
              "      <th>0</th>\n",
              "      <td>156</td>\n",
              "      <td>en</td>\n",
              "      <td>paid</td>\n",
              "      <td>500</td>\n",
              "      <td>500</td>\n",
              "      <td>Carpentry</td>\n",
              "      <td>Construction</td>\n",
              "      <td>NI</td>\n",
              "      <td>Nicaragua</td>\n",
              "      <td>Managua</td>\n",
              "      <td>town</td>\n",
              "      <td>5</td>\n",
              "      <td>Marks Antonio</td>\n",
              "      <td>Fernandez</td>\n",
              "      <td>M</td>\n",
              "      <td>True</td>\n",
              "      <td>500</td>\n",
              "      <td>USD</td>\n",
              "      <td>14/04/2005</td>\n",
              "      <td>500.0</td>\n",
              "      <td>partner</td>\n",
              "      <td>none</td>\n",
              "      <td>15/02/2006</td>\n",
              "      <td>31/03/2005</td>\n",
              "      <td>1.0</td>\n",
              "      <td>16/09/2006</td>\n",
              "      <td>NaN</td>\n",
              "      <td>NaN</td>\n",
              "      <td>NaN</td>\n",
              "      <td>NaN</td>\n",
              "      <td>NaN</td>\n",
              "      <td>NaN</td>\n",
              "      <td>NaN</td>\n",
              "      <td>NaN</td>\n",
              "      <td>50.0</td>\n",
              "      <td>209.0</td>\n",
              "      <td>50</td>\n",
              "      <td>20/04/2006</td>\n",
              "      <td>50</td>\n",
              "      <td>16/09/2006</td>\n",
              "      <td>12.150833</td>\n",
              "      <td>-86.268333</td>\n",
              "    </tr>\n",
              "    <tr>\n",
              "      <th>1</th>\n",
              "      <td>156</td>\n",
              "      <td>en</td>\n",
              "      <td>paid</td>\n",
              "      <td>500</td>\n",
              "      <td>500</td>\n",
              "      <td>Carpentry</td>\n",
              "      <td>Construction</td>\n",
              "      <td>NI</td>\n",
              "      <td>Nicaragua</td>\n",
              "      <td>Managua</td>\n",
              "      <td>town</td>\n",
              "      <td>5</td>\n",
              "      <td>Marks Antonio</td>\n",
              "      <td>Fernandez</td>\n",
              "      <td>M</td>\n",
              "      <td>True</td>\n",
              "      <td>500</td>\n",
              "      <td>USD</td>\n",
              "      <td>14/04/2005</td>\n",
              "      <td>500.0</td>\n",
              "      <td>partner</td>\n",
              "      <td>none</td>\n",
              "      <td>15/02/2006</td>\n",
              "      <td>31/03/2005</td>\n",
              "      <td>1.0</td>\n",
              "      <td>16/09/2006</td>\n",
              "      <td>NaN</td>\n",
              "      <td>NaN</td>\n",
              "      <td>NaN</td>\n",
              "      <td>NaN</td>\n",
              "      <td>NaN</td>\n",
              "      <td>NaN</td>\n",
              "      <td>NaN</td>\n",
              "      <td>NaN</td>\n",
              "      <td>50.0</td>\n",
              "      <td>362.0</td>\n",
              "      <td>50</td>\n",
              "      <td>05/06/2006</td>\n",
              "      <td>50</td>\n",
              "      <td>16/09/2006</td>\n",
              "      <td>12.150833</td>\n",
              "      <td>-86.268333</td>\n",
              "    </tr>\n",
              "  </tbody>\n",
              "</table>\n",
              "</div>"
            ],
            "text/plain": [
              "    id description.languages status  ... settlement_date        lat        lon\n",
              "0  156                    en   paid  ...      16/09/2006  12.150833 -86.268333\n",
              "1  156                    en   paid  ...      16/09/2006  12.150833 -86.268333\n",
              "\n",
              "[2 rows x 42 columns]"
            ]
          },
          "metadata": {
            "tags": []
          },
          "execution_count": 10
        }
      ]
    },
    {
      "cell_type": "markdown",
      "metadata": {
        "id": "c3DfBQ2lfP7J"
      },
      "source": [
        "### Drop dupplicates observations"
      ]
    },
    {
      "cell_type": "code",
      "metadata": {
        "colab": {
          "base_uri": "https://localhost:8080/"
        },
        "id": "ubf95MJJtWpW",
        "outputId": "09a0fbda-83dd-4754-f735-33758efecbab"
      },
      "source": [
        "## Number of dupplicates values (loan database)\n",
        "loan.duplicated(subset=['id']).sum()"
      ],
      "execution_count": null,
      "outputs": [
        {
          "output_type": "execute_result",
          "data": {
            "text/plain": [
              "37177"
            ]
          },
          "metadata": {
            "tags": []
          },
          "execution_count": 7
        }
      ]
    },
    {
      "cell_type": "code",
      "metadata": {
        "colab": {
          "base_uri": "https://localhost:8080/"
        },
        "id": "OMiQx_qqfP7J",
        "scrolled": true,
        "outputId": "74263688-8653-45b4-9970-edf60b18d8f9"
      },
      "source": [
        "#stats desc on dupplicates obs\n",
        "loan.loc[loan.id.duplicated()].count()"
      ],
      "execution_count": null,
      "outputs": [
        {
          "output_type": "execute_result",
          "data": {
            "text/plain": [
              "id                                        37177\n",
              "description.languages                     26875\n",
              "status                                    37177\n",
              "funded_amount                             37177\n",
              "paid_amount                               36671\n",
              "activity                                  37177\n",
              "sector                                    37177\n",
              "location.country_code                     36312\n",
              "location.country                          37177\n",
              "location.town                             36536\n",
              "location.geo.level                        37154\n",
              "partner_id                                37154\n",
              "borrowers.first_name                      37148\n",
              "borrowers.last_name                       34912\n",
              "borrowers.gender                          37107\n",
              "borrowers.pictured                        37118\n",
              "terms.disbursal_amount                    37105\n",
              "terms.disbursal_currency                  37094\n",
              "terms.disbursal_date                      37118\n",
              "terms.loan_amount                         37107\n",
              "terms.loss_liability.nonpayment           37107\n",
              "terms.loss_liability.currency_exchange    37107\n",
              "posted_date                               37094\n",
              "funded_date                               37094\n",
              "journal_totals.entries                    37085\n",
              "paid_date                                 24535\n",
              "defaulted_date                              541\n",
              "terms.local_payments.due_date             37058\n",
              "terms.local_payments.amount               37058\n",
              "terms.scheduled_payments.due_date         37058\n",
              "terms.scheduled_payments.amount           37047\n",
              "delinquent                                 1673\n",
              "video.youtube_id                             78\n",
              "basket_amount                                 0\n",
              "amount                                    37083\n",
              "payment_id                                37083\n",
              "local_amount                              37083\n",
              "processed_date                            37083\n",
              "rounded_local_amount                      37083\n",
              "settlement_date                           36951\n",
              "lat                                       37083\n",
              "lon                                       37083\n",
              "dtype: int64"
            ]
          },
          "metadata": {
            "tags": []
          },
          "execution_count": 15
        }
      ]
    },
    {
      "cell_type": "code",
      "metadata": {
        "colab": {
          "base_uri": "https://localhost:8080/"
        },
        "id": "CcRFHSWjfP7J",
        "outputId": "6b4b157f-3627-44b9-91b7-9d6b6dbc6cbd"
      },
      "source": [
        "#create variable dupplicates which gives the status of each id\n",
        "loan.id.duplicated().value_counts()"
      ],
      "execution_count": null,
      "outputs": [
        {
          "output_type": "execute_result",
          "data": {
            "text/plain": [
              "True     37177\n",
              "False     5004\n",
              "Name: id, dtype: int64"
            ]
          },
          "metadata": {
            "tags": []
          },
          "execution_count": 16
        }
      ]
    },
    {
      "cell_type": "code",
      "metadata": {
        "colab": {
          "base_uri": "https://localhost:8080/",
          "height": 130
        },
        "id": "kcsGEtSUfP7J",
        "outputId": "97bf9bd5-068c-4a2b-bb79-83ec93dfb3fb"
      },
      "source": [
        "#Database without dupplicates values\n",
        "data = loan.drop_duplicates(subset='id')\n",
        "data.reset_index(inplace=True)\n",
        "data = data.drop('index',axis=1)\n",
        "data.head(2)"
      ],
      "execution_count": 6,
      "outputs": [
        {
          "output_type": "execute_result",
          "data": {
            "text/html": [
              "<div>\n",
              "<style scoped>\n",
              "    .dataframe tbody tr th:only-of-type {\n",
              "        vertical-align: middle;\n",
              "    }\n",
              "\n",
              "    .dataframe tbody tr th {\n",
              "        vertical-align: top;\n",
              "    }\n",
              "\n",
              "    .dataframe thead th {\n",
              "        text-align: right;\n",
              "    }\n",
              "</style>\n",
              "<table border=\"1\" class=\"dataframe\">\n",
              "  <thead>\n",
              "    <tr style=\"text-align: right;\">\n",
              "      <th></th>\n",
              "      <th>id</th>\n",
              "      <th>description.languages</th>\n",
              "      <th>status</th>\n",
              "      <th>funded_amount</th>\n",
              "      <th>paid_amount</th>\n",
              "      <th>activity</th>\n",
              "      <th>sector</th>\n",
              "      <th>location.country_code</th>\n",
              "      <th>location.country</th>\n",
              "      <th>location.town</th>\n",
              "      <th>location.geo.level</th>\n",
              "      <th>partner_id</th>\n",
              "      <th>borrowers.first_name</th>\n",
              "      <th>borrowers.last_name</th>\n",
              "      <th>borrowers.gender</th>\n",
              "      <th>borrowers.pictured</th>\n",
              "      <th>terms.disbursal_amount</th>\n",
              "      <th>terms.disbursal_currency</th>\n",
              "      <th>terms.disbursal_date</th>\n",
              "      <th>terms.loan_amount</th>\n",
              "      <th>terms.loss_liability.nonpayment</th>\n",
              "      <th>terms.loss_liability.currency_exchange</th>\n",
              "      <th>posted_date</th>\n",
              "      <th>funded_date</th>\n",
              "      <th>journal_totals.entries</th>\n",
              "      <th>paid_date</th>\n",
              "      <th>defaulted_date</th>\n",
              "      <th>terms.local_payments.due_date</th>\n",
              "      <th>terms.local_payments.amount</th>\n",
              "      <th>terms.scheduled_payments.due_date</th>\n",
              "      <th>terms.scheduled_payments.amount</th>\n",
              "      <th>delinquent</th>\n",
              "      <th>video.youtube_id</th>\n",
              "      <th>basket_amount</th>\n",
              "      <th>amount</th>\n",
              "      <th>payment_id</th>\n",
              "      <th>local_amount</th>\n",
              "      <th>processed_date</th>\n",
              "      <th>rounded_local_amount</th>\n",
              "      <th>settlement_date</th>\n",
              "      <th>lat</th>\n",
              "      <th>lon</th>\n",
              "    </tr>\n",
              "  </thead>\n",
              "  <tbody>\n",
              "    <tr>\n",
              "      <th>0</th>\n",
              "      <td>156</td>\n",
              "      <td>en</td>\n",
              "      <td>paid</td>\n",
              "      <td>500</td>\n",
              "      <td>500</td>\n",
              "      <td>Carpentry</td>\n",
              "      <td>Construction</td>\n",
              "      <td>NI</td>\n",
              "      <td>Nicaragua</td>\n",
              "      <td>Managua</td>\n",
              "      <td>town</td>\n",
              "      <td>5</td>\n",
              "      <td>Marks Antonio</td>\n",
              "      <td>Fernandez</td>\n",
              "      <td>M</td>\n",
              "      <td>True</td>\n",
              "      <td>500</td>\n",
              "      <td>USD</td>\n",
              "      <td>14/04/2005</td>\n",
              "      <td>500.0</td>\n",
              "      <td>partner</td>\n",
              "      <td>none</td>\n",
              "      <td>15/02/2006</td>\n",
              "      <td>31/03/2005</td>\n",
              "      <td>1.0</td>\n",
              "      <td>16/09/2006</td>\n",
              "      <td>NaN</td>\n",
              "      <td>NaN</td>\n",
              "      <td>NaN</td>\n",
              "      <td>NaN</td>\n",
              "      <td>NaN</td>\n",
              "      <td>NaN</td>\n",
              "      <td>NaN</td>\n",
              "      <td>NaN</td>\n",
              "      <td>50.0</td>\n",
              "      <td>209.0</td>\n",
              "      <td>50</td>\n",
              "      <td>20/04/2006</td>\n",
              "      <td>50</td>\n",
              "      <td>16/09/2006</td>\n",
              "      <td>12.150833</td>\n",
              "      <td>-86.268333</td>\n",
              "    </tr>\n",
              "    <tr>\n",
              "      <th>1</th>\n",
              "      <td>173</td>\n",
              "      <td>en</td>\n",
              "      <td>defaulted</td>\n",
              "      <td>600</td>\n",
              "      <td>NaN</td>\n",
              "      <td>Construction</td>\n",
              "      <td>Construction</td>\n",
              "      <td>NaN</td>\n",
              "      <td>Gaza</td>\n",
              "      <td>Rafah</td>\n",
              "      <td>town</td>\n",
              "      <td>2</td>\n",
              "      <td>Mansour</td>\n",
              "      <td>Al Nawajha</td>\n",
              "      <td>M</td>\n",
              "      <td>True</td>\n",
              "      <td>600</td>\n",
              "      <td>USD</td>\n",
              "      <td>14/04/2005</td>\n",
              "      <td>600.0</td>\n",
              "      <td>lender</td>\n",
              "      <td>none</td>\n",
              "      <td>15/02/2006</td>\n",
              "      <td>31/03/2005</td>\n",
              "      <td>7.0</td>\n",
              "      <td>11/09/2007</td>\n",
              "      <td>11/09/2007</td>\n",
              "      <td>NaN</td>\n",
              "      <td>NaN</td>\n",
              "      <td>NaN</td>\n",
              "      <td>NaN</td>\n",
              "      <td>NaN</td>\n",
              "      <td>NaN</td>\n",
              "      <td>NaN</td>\n",
              "      <td>50.0</td>\n",
              "      <td>261.0</td>\n",
              "      <td>50</td>\n",
              "      <td>27/04/2006</td>\n",
              "      <td>50</td>\n",
              "      <td>NaN</td>\n",
              "      <td>31.284167</td>\n",
              "      <td>34.250833</td>\n",
              "    </tr>\n",
              "  </tbody>\n",
              "</table>\n",
              "</div>"
            ],
            "text/plain": [
              "    id description.languages     status  ... settlement_date        lat        lon\n",
              "0  156                    en       paid  ...      16/09/2006  12.150833 -86.268333\n",
              "1  173                    en  defaulted  ...             NaN  31.284167  34.250833\n",
              "\n",
              "[2 rows x 42 columns]"
            ]
          },
          "metadata": {
            "tags": []
          },
          "execution_count": 6
        }
      ]
    },
    {
      "cell_type": "code",
      "metadata": {
        "colab": {
          "base_uri": "https://localhost:8080/"
        },
        "id": "Qs1bftqUfP7J",
        "outputId": "7cb97c79-702a-43ca-e0d4-be05e6f0ab09"
      },
      "source": [
        "data.shape"
      ],
      "execution_count": null,
      "outputs": [
        {
          "output_type": "execute_result",
          "data": {
            "text/plain": [
              "(5004, 42)"
            ]
          },
          "metadata": {
            "tags": []
          },
          "execution_count": 18
        }
      ]
    },
    {
      "cell_type": "code",
      "metadata": {
        "colab": {
          "base_uri": "https://localhost:8080/"
        },
        "id": "IR0KwuG4fP7J",
        "outputId": "2cc9e4c2-65e5-453f-b76a-3aca08ead4b6"
      },
      "source": [
        "data.status.unique()"
      ],
      "execution_count": null,
      "outputs": [
        {
          "output_type": "execute_result",
          "data": {
            "text/plain": [
              "array(['paid', 'defaulted', 'in_repayment', '101', 'F'], dtype=object)"
            ]
          },
          "metadata": {
            "tags": []
          },
          "execution_count": 10
        }
      ]
    },
    {
      "cell_type": "code",
      "metadata": {
        "colab": {
          "base_uri": "https://localhost:8080/",
          "height": 233
        },
        "id": "hu1liv-kfP7J",
        "outputId": "1677f156-2639-4486-bd74-7ca05772f77d"
      },
      "source": [
        "#There are some mistakes in this variables\n",
        "pd.crosstab(data.status,\"freq\")"
      ],
      "execution_count": 7,
      "outputs": [
        {
          "output_type": "execute_result",
          "data": {
            "text/html": [
              "<div>\n",
              "<style scoped>\n",
              "    .dataframe tbody tr th:only-of-type {\n",
              "        vertical-align: middle;\n",
              "    }\n",
              "\n",
              "    .dataframe tbody tr th {\n",
              "        vertical-align: top;\n",
              "    }\n",
              "\n",
              "    .dataframe thead th {\n",
              "        text-align: right;\n",
              "    }\n",
              "</style>\n",
              "<table border=\"1\" class=\"dataframe\">\n",
              "  <thead>\n",
              "    <tr style=\"text-align: right;\">\n",
              "      <th>col_0</th>\n",
              "      <th>freq</th>\n",
              "    </tr>\n",
              "    <tr>\n",
              "      <th>status</th>\n",
              "      <th></th>\n",
              "    </tr>\n",
              "  </thead>\n",
              "  <tbody>\n",
              "    <tr>\n",
              "      <th>101</th>\n",
              "      <td>1</td>\n",
              "    </tr>\n",
              "    <tr>\n",
              "      <th>F</th>\n",
              "      <td>1</td>\n",
              "    </tr>\n",
              "    <tr>\n",
              "      <th>defaulted</th>\n",
              "      <td>100</td>\n",
              "    </tr>\n",
              "    <tr>\n",
              "      <th>in_repayment</th>\n",
              "      <td>1818</td>\n",
              "    </tr>\n",
              "    <tr>\n",
              "      <th>paid</th>\n",
              "      <td>3084</td>\n",
              "    </tr>\n",
              "  </tbody>\n",
              "</table>\n",
              "</div>"
            ],
            "text/plain": [
              "col_0         freq\n",
              "status            \n",
              "101              1\n",
              "F                1\n",
              "defaulted      100\n",
              "in_repayment  1818\n",
              "paid          3084"
            ]
          },
          "metadata": {
            "tags": []
          },
          "execution_count": 7
        }
      ]
    },
    {
      "cell_type": "code",
      "metadata": {
        "colab": {
          "base_uri": "https://localhost:8080/"
        },
        "id": "U3UXRtq9fP7K",
        "outputId": "191e075a-f220-47fb-85a1-b6e2f25afe43"
      },
      "source": [
        "#Drop modality '101' and 'F'\n",
        "data = data[data.status != '101']\n",
        "data = data[data.status != 'F']\n",
        "data.shape"
      ],
      "execution_count": 8,
      "outputs": [
        {
          "output_type": "execute_result",
          "data": {
            "text/plain": [
              "(5002, 42)"
            ]
          },
          "metadata": {
            "tags": []
          },
          "execution_count": 8
        }
      ]
    },
    {
      "cell_type": "code",
      "metadata": {
        "colab": {
          "base_uri": "https://localhost:8080/"
        },
        "id": "LjE49AJZfP7K",
        "scrolled": true,
        "outputId": "fd1e7e2f-6e0d-4c91-a5bd-46a3e599aacf"
      },
      "source": [
        "data.info()"
      ],
      "execution_count": null,
      "outputs": [
        {
          "output_type": "stream",
          "text": [
            "<class 'pandas.core.frame.DataFrame'>\n",
            "Int64Index: 5002 entries, 0 to 42173\n",
            "Data columns (total 42 columns):\n",
            " #   Column                                  Non-Null Count  Dtype  \n",
            "---  ------                                  --------------  -----  \n",
            " 0   id                                      5002 non-null   object \n",
            " 1   description.languages                   3265 non-null   object \n",
            " 2   status                                  5002 non-null   object \n",
            " 3   funded_amount                           5002 non-null   object \n",
            " 4   paid_amount                             4902 non-null   object \n",
            " 5   activity                                5002 non-null   object \n",
            " 6   sector                                  5002 non-null   object \n",
            " 7   location.country_code                   4960 non-null   object \n",
            " 8   location.country                        5002 non-null   object \n",
            " 9   location.town                           4869 non-null   object \n",
            " 10  location.geo.level                      5000 non-null   object \n",
            " 11  partner_id                              5000 non-null   object \n",
            " 12  borrowers.first_name                    4999 non-null   object \n",
            " 13  borrowers.last_name                     4470 non-null   object \n",
            " 14  borrowers.gender                        4995 non-null   object \n",
            " 15  borrowers.pictured                      4995 non-null   object \n",
            " 16  terms.disbursal_amount                  4995 non-null   object \n",
            " 17  terms.disbursal_currency                4995 non-null   object \n",
            " 18  terms.disbursal_date                    4995 non-null   object \n",
            " 19  terms.loan_amount                       4995 non-null   float64\n",
            " 20  terms.loss_liability.nonpayment         4995 non-null   object \n",
            " 21  terms.loss_liability.currency_exchange  4995 non-null   object \n",
            " 22  posted_date                             4995 non-null   object \n",
            " 23  funded_date                             4995 non-null   object \n",
            " 24  journal_totals.entries                  4987 non-null   float64\n",
            " 25  paid_date                               3089 non-null   object \n",
            " 26  defaulted_date                          100 non-null    object \n",
            " 27  terms.local_payments.due_date           4986 non-null   object \n",
            " 28  terms.local_payments.amount             4986 non-null   object \n",
            " 29  terms.scheduled_payments.due_date       4986 non-null   object \n",
            " 30  terms.scheduled_payments.amount         4986 non-null   object \n",
            " 31  delinquent                              246 non-null    object \n",
            " 32  video.youtube_id                        2 non-null      object \n",
            " 33  basket_amount                           0 non-null      float64\n",
            " 34  amount                                  4995 non-null   float64\n",
            " 35  payment_id                              4995 non-null   float64\n",
            " 36  local_amount                            4995 non-null   object \n",
            " 37  processed_date                          4995 non-null   object \n",
            " 38  rounded_local_amount                    4995 non-null   object \n",
            " 39  settlement_date                         4960 non-null   object \n",
            " 40  lat                                     4995 non-null   float64\n",
            " 41  lon                                     4995 non-null   float64\n",
            "dtypes: float64(7), object(35)\n",
            "memory usage: 1.6+ MB\n"
          ],
          "name": "stdout"
        }
      ]
    },
    {
      "cell_type": "code",
      "metadata": {
        "colab": {
          "base_uri": "https://localhost:8080/"
        },
        "id": "dZ_RXzRMfP7K",
        "outputId": "b1d723e1-8a17-4dfc-b2ed-0e5c7dbc095a"
      },
      "source": [
        "len(data['location.country'].unique())"
      ],
      "execution_count": null,
      "outputs": [
        {
          "output_type": "execute_result",
          "data": {
            "text/plain": [
              "51"
            ]
          },
          "metadata": {
            "tags": []
          },
          "execution_count": 20
        }
      ]
    },
    {
      "cell_type": "code",
      "metadata": {
        "colab": {
          "base_uri": "https://localhost:8080/"
        },
        "id": "XbM9ctNWfP7K",
        "scrolled": true,
        "outputId": "f8708bcb-334e-4053-f836-df18858864ca"
      },
      "source": [
        "data['location.country'].unique()"
      ],
      "execution_count": null,
      "outputs": [
        {
          "output_type": "execute_result",
          "data": {
            "text/plain": [
              "array(['Nicaragua', 'Gaza', 'Honduras', 'Kenya', 'Uganda', 'Bulgaria',\n",
              "       'Cambodia', 'Moldova', 'Mexico', 'Tanzania', 'Azerbaijan', 'Ghana',\n",
              "       'Samoa', 'Afghanistan', 'Bolivia', 'Ecuador', 'Viet Nam',\n",
              "       'Ukraine', 'Dominican Republic',\n",
              "       'The Democratic Republic of the Congo', 'Peru', 'Philippines',\n",
              "       'Nigeria', 'Senegal', 'Tajikistan', 'South Sudan', 'El Salvador',\n",
              "       'Togo', 'Guatemala', 'Pakistan', 'Mali', 'Lebanon', 'Paraguay',\n",
              "       'Mongolia', 'Sierra Leone', 'Costa Rica', 'Benin', 'Indonesia',\n",
              "       'Nepal', 'Rwanda', 'Iraq', 'Cameroon', \"Cote D'Ivoire\",\n",
              "       'Palestine', 'Liberia', 'United States', 'Kyrgyzstan', 'Armenia',\n",
              "       'Mozambique', 'Haiti', 'Bosnia and Herzegovina'], dtype=object)"
            ]
          },
          "metadata": {
            "tags": []
          },
          "execution_count": 21
        }
      ]
    },
    {
      "cell_type": "code",
      "metadata": {
        "colab": {
          "base_uri": "https://localhost:8080/",
          "height": 1000
        },
        "id": "mp-RgjiLfP7K",
        "scrolled": true,
        "outputId": "57cefaf9-ba24-423a-87e7-d05d04564523"
      },
      "source": [
        "#display the list of variables\n",
        "pd.DataFrame(data.columns)"
      ],
      "execution_count": null,
      "outputs": [
        {
          "output_type": "execute_result",
          "data": {
            "text/html": [
              "<div>\n",
              "<style scoped>\n",
              "    .dataframe tbody tr th:only-of-type {\n",
              "        vertical-align: middle;\n",
              "    }\n",
              "\n",
              "    .dataframe tbody tr th {\n",
              "        vertical-align: top;\n",
              "    }\n",
              "\n",
              "    .dataframe thead th {\n",
              "        text-align: right;\n",
              "    }\n",
              "</style>\n",
              "<table border=\"1\" class=\"dataframe\">\n",
              "  <thead>\n",
              "    <tr style=\"text-align: right;\">\n",
              "      <th></th>\n",
              "      <th>0</th>\n",
              "    </tr>\n",
              "  </thead>\n",
              "  <tbody>\n",
              "    <tr>\n",
              "      <th>0</th>\n",
              "      <td>id</td>\n",
              "    </tr>\n",
              "    <tr>\n",
              "      <th>1</th>\n",
              "      <td>description.languages</td>\n",
              "    </tr>\n",
              "    <tr>\n",
              "      <th>2</th>\n",
              "      <td>status</td>\n",
              "    </tr>\n",
              "    <tr>\n",
              "      <th>3</th>\n",
              "      <td>funded_amount</td>\n",
              "    </tr>\n",
              "    <tr>\n",
              "      <th>4</th>\n",
              "      <td>paid_amount</td>\n",
              "    </tr>\n",
              "    <tr>\n",
              "      <th>5</th>\n",
              "      <td>activity</td>\n",
              "    </tr>\n",
              "    <tr>\n",
              "      <th>6</th>\n",
              "      <td>sector</td>\n",
              "    </tr>\n",
              "    <tr>\n",
              "      <th>7</th>\n",
              "      <td>location.country_code</td>\n",
              "    </tr>\n",
              "    <tr>\n",
              "      <th>8</th>\n",
              "      <td>location.country</td>\n",
              "    </tr>\n",
              "    <tr>\n",
              "      <th>9</th>\n",
              "      <td>location.town</td>\n",
              "    </tr>\n",
              "    <tr>\n",
              "      <th>10</th>\n",
              "      <td>location.geo.level</td>\n",
              "    </tr>\n",
              "    <tr>\n",
              "      <th>11</th>\n",
              "      <td>partner_id</td>\n",
              "    </tr>\n",
              "    <tr>\n",
              "      <th>12</th>\n",
              "      <td>borrowers.first_name</td>\n",
              "    </tr>\n",
              "    <tr>\n",
              "      <th>13</th>\n",
              "      <td>borrowers.last_name</td>\n",
              "    </tr>\n",
              "    <tr>\n",
              "      <th>14</th>\n",
              "      <td>borrowers.gender</td>\n",
              "    </tr>\n",
              "    <tr>\n",
              "      <th>15</th>\n",
              "      <td>borrowers.pictured</td>\n",
              "    </tr>\n",
              "    <tr>\n",
              "      <th>16</th>\n",
              "      <td>terms.disbursal_amount</td>\n",
              "    </tr>\n",
              "    <tr>\n",
              "      <th>17</th>\n",
              "      <td>terms.disbursal_currency</td>\n",
              "    </tr>\n",
              "    <tr>\n",
              "      <th>18</th>\n",
              "      <td>terms.disbursal_date</td>\n",
              "    </tr>\n",
              "    <tr>\n",
              "      <th>19</th>\n",
              "      <td>terms.loan_amount</td>\n",
              "    </tr>\n",
              "    <tr>\n",
              "      <th>20</th>\n",
              "      <td>terms.loss_liability.nonpayment</td>\n",
              "    </tr>\n",
              "    <tr>\n",
              "      <th>21</th>\n",
              "      <td>terms.loss_liability.currency_exchange</td>\n",
              "    </tr>\n",
              "    <tr>\n",
              "      <th>22</th>\n",
              "      <td>posted_date</td>\n",
              "    </tr>\n",
              "    <tr>\n",
              "      <th>23</th>\n",
              "      <td>funded_date</td>\n",
              "    </tr>\n",
              "    <tr>\n",
              "      <th>24</th>\n",
              "      <td>journal_totals.entries</td>\n",
              "    </tr>\n",
              "    <tr>\n",
              "      <th>25</th>\n",
              "      <td>paid_date</td>\n",
              "    </tr>\n",
              "    <tr>\n",
              "      <th>26</th>\n",
              "      <td>defaulted_date</td>\n",
              "    </tr>\n",
              "    <tr>\n",
              "      <th>27</th>\n",
              "      <td>terms.local_payments.due_date</td>\n",
              "    </tr>\n",
              "    <tr>\n",
              "      <th>28</th>\n",
              "      <td>terms.local_payments.amount</td>\n",
              "    </tr>\n",
              "    <tr>\n",
              "      <th>29</th>\n",
              "      <td>terms.scheduled_payments.due_date</td>\n",
              "    </tr>\n",
              "    <tr>\n",
              "      <th>30</th>\n",
              "      <td>terms.scheduled_payments.amount</td>\n",
              "    </tr>\n",
              "    <tr>\n",
              "      <th>31</th>\n",
              "      <td>delinquent</td>\n",
              "    </tr>\n",
              "    <tr>\n",
              "      <th>32</th>\n",
              "      <td>video.youtube_id</td>\n",
              "    </tr>\n",
              "    <tr>\n",
              "      <th>33</th>\n",
              "      <td>basket_amount</td>\n",
              "    </tr>\n",
              "    <tr>\n",
              "      <th>34</th>\n",
              "      <td>amount</td>\n",
              "    </tr>\n",
              "    <tr>\n",
              "      <th>35</th>\n",
              "      <td>payment_id</td>\n",
              "    </tr>\n",
              "    <tr>\n",
              "      <th>36</th>\n",
              "      <td>local_amount</td>\n",
              "    </tr>\n",
              "    <tr>\n",
              "      <th>37</th>\n",
              "      <td>processed_date</td>\n",
              "    </tr>\n",
              "    <tr>\n",
              "      <th>38</th>\n",
              "      <td>rounded_local_amount</td>\n",
              "    </tr>\n",
              "    <tr>\n",
              "      <th>39</th>\n",
              "      <td>settlement_date</td>\n",
              "    </tr>\n",
              "    <tr>\n",
              "      <th>40</th>\n",
              "      <td>lat</td>\n",
              "    </tr>\n",
              "    <tr>\n",
              "      <th>41</th>\n",
              "      <td>lon</td>\n",
              "    </tr>\n",
              "  </tbody>\n",
              "</table>\n",
              "</div>"
            ],
            "text/plain": [
              "                                         0\n",
              "0                                       id\n",
              "1                    description.languages\n",
              "2                                   status\n",
              "3                            funded_amount\n",
              "4                              paid_amount\n",
              "5                                 activity\n",
              "6                                   sector\n",
              "7                    location.country_code\n",
              "8                         location.country\n",
              "9                            location.town\n",
              "10                      location.geo.level\n",
              "11                              partner_id\n",
              "12                    borrowers.first_name\n",
              "13                     borrowers.last_name\n",
              "14                        borrowers.gender\n",
              "15                      borrowers.pictured\n",
              "16                  terms.disbursal_amount\n",
              "17                terms.disbursal_currency\n",
              "18                    terms.disbursal_date\n",
              "19                       terms.loan_amount\n",
              "20         terms.loss_liability.nonpayment\n",
              "21  terms.loss_liability.currency_exchange\n",
              "22                             posted_date\n",
              "23                             funded_date\n",
              "24                  journal_totals.entries\n",
              "25                               paid_date\n",
              "26                          defaulted_date\n",
              "27           terms.local_payments.due_date\n",
              "28             terms.local_payments.amount\n",
              "29       terms.scheduled_payments.due_date\n",
              "30         terms.scheduled_payments.amount\n",
              "31                              delinquent\n",
              "32                        video.youtube_id\n",
              "33                           basket_amount\n",
              "34                                  amount\n",
              "35                              payment_id\n",
              "36                            local_amount\n",
              "37                          processed_date\n",
              "38                    rounded_local_amount\n",
              "39                         settlement_date\n",
              "40                                     lat\n",
              "41                                     lon"
            ]
          },
          "metadata": {
            "tags": []
          },
          "execution_count": 25
        }
      ]
    },
    {
      "cell_type": "code",
      "metadata": {
        "id": "HtNhEKYEfP7K"
      },
      "source": [
        "#list of unsual variables\n",
        "unusual = ['description.languages','country_code',\"borrowers.first_name\",'borrowers.last_name',\"video.youtube_id\"]\n",
        "usual = ['id','funded_amount','status','sector','location.country','location.town','terms.disbursal_amount','terms.disbursal_date','terms.loss_liability.nonpayment','posted_date','funded_date','paid_date','defaulted_date','amount','borrowers.gender',\"borrowers.pictured\",\"journal_totals.entries\",'basket_amount', 'delinquent']\n",
        "#list of renames variables\n",
        "renam = ['location.country','location.town','location.geo.level','borrowers.gender','terms.disbursal_amount','terms.disbursal_currency','terms.disbursal_date','terms.loan_amount','terms.loss_liability.nonpayment','terms.loss_liability.currency_exchange','terms.local_payments.due_date','terms.local_payments.amount','terms.scheduled_payments.due_date','terms.scheduled_payments.amount']"
      ],
      "execution_count": 9,
      "outputs": []
    },
    {
      "cell_type": "code",
      "metadata": {
        "colab": {
          "base_uri": "https://localhost:8080/"
        },
        "id": "FhsOiiMsfP7K",
        "outputId": "4c6f9322-d97d-47a4-fa39-7c95b7eb138a"
      },
      "source": [
        "data = data.filter(items=usual)\n",
        "data.shape"
      ],
      "execution_count": 10,
      "outputs": [
        {
          "output_type": "execute_result",
          "data": {
            "text/plain": [
              "(5002, 19)"
            ]
          },
          "metadata": {
            "tags": []
          },
          "execution_count": 10
        }
      ]
    },
    {
      "cell_type": "code",
      "metadata": {
        "colab": {
          "base_uri": "https://localhost:8080/",
          "height": 130
        },
        "id": "72IbhLFlfP7K",
        "outputId": "e458f1d7-e8fa-4b7a-990e-493df06b1e78"
      },
      "source": [
        "data.head(2)"
      ],
      "execution_count": null,
      "outputs": [
        {
          "output_type": "execute_result",
          "data": {
            "text/html": [
              "<div>\n",
              "<style scoped>\n",
              "    .dataframe tbody tr th:only-of-type {\n",
              "        vertical-align: middle;\n",
              "    }\n",
              "\n",
              "    .dataframe tbody tr th {\n",
              "        vertical-align: top;\n",
              "    }\n",
              "\n",
              "    .dataframe thead th {\n",
              "        text-align: right;\n",
              "    }\n",
              "</style>\n",
              "<table border=\"1\" class=\"dataframe\">\n",
              "  <thead>\n",
              "    <tr style=\"text-align: right;\">\n",
              "      <th></th>\n",
              "      <th>id</th>\n",
              "      <th>funded_amount</th>\n",
              "      <th>status</th>\n",
              "      <th>sector</th>\n",
              "      <th>location.country</th>\n",
              "      <th>location.town</th>\n",
              "      <th>terms.disbursal_amount</th>\n",
              "      <th>terms.disbursal_date</th>\n",
              "      <th>terms.loss_liability.nonpayment</th>\n",
              "      <th>posted_date</th>\n",
              "      <th>funded_date</th>\n",
              "      <th>paid_date</th>\n",
              "      <th>defaulted_date</th>\n",
              "      <th>amount</th>\n",
              "      <th>borrowers.gender</th>\n",
              "      <th>borrowers.pictured</th>\n",
              "      <th>journal_totals.entries</th>\n",
              "      <th>basket_amount</th>\n",
              "      <th>delinquent</th>\n",
              "    </tr>\n",
              "  </thead>\n",
              "  <tbody>\n",
              "    <tr>\n",
              "      <th>0</th>\n",
              "      <td>156</td>\n",
              "      <td>500</td>\n",
              "      <td>paid</td>\n",
              "      <td>Construction</td>\n",
              "      <td>Nicaragua</td>\n",
              "      <td>Managua</td>\n",
              "      <td>500</td>\n",
              "      <td>14/04/2005</td>\n",
              "      <td>partner</td>\n",
              "      <td>15/02/2006</td>\n",
              "      <td>31/03/2005</td>\n",
              "      <td>16/09/2006</td>\n",
              "      <td>NaN</td>\n",
              "      <td>50.0</td>\n",
              "      <td>M</td>\n",
              "      <td>True</td>\n",
              "      <td>1.0</td>\n",
              "      <td>NaN</td>\n",
              "      <td>NaN</td>\n",
              "    </tr>\n",
              "    <tr>\n",
              "      <th>1</th>\n",
              "      <td>173</td>\n",
              "      <td>600</td>\n",
              "      <td>defaulted</td>\n",
              "      <td>Construction</td>\n",
              "      <td>Gaza</td>\n",
              "      <td>Rafah</td>\n",
              "      <td>600</td>\n",
              "      <td>14/04/2005</td>\n",
              "      <td>lender</td>\n",
              "      <td>15/02/2006</td>\n",
              "      <td>31/03/2005</td>\n",
              "      <td>11/09/2007</td>\n",
              "      <td>11/09/2007</td>\n",
              "      <td>50.0</td>\n",
              "      <td>M</td>\n",
              "      <td>True</td>\n",
              "      <td>7.0</td>\n",
              "      <td>NaN</td>\n",
              "      <td>NaN</td>\n",
              "    </tr>\n",
              "  </tbody>\n",
              "</table>\n",
              "</div>"
            ],
            "text/plain": [
              "    id funded_amount  ... basket_amount delinquent\n",
              "0  156           500  ...           NaN        NaN\n",
              "1  173           600  ...           NaN        NaN\n",
              "\n",
              "[2 rows x 19 columns]"
            ]
          },
          "metadata": {
            "tags": []
          },
          "execution_count": 24
        }
      ]
    },
    {
      "cell_type": "markdown",
      "metadata": {
        "id": "RCAxb9d1fP7L"
      },
      "source": [
        "### Merge dataset laon with description"
      ]
    },
    {
      "cell_type": "markdown",
      "metadata": {
        "id": "3U0DG--XfP7L"
      },
      "source": [
        "These dataset do not have the same size we are going to merge them"
      ]
    },
    {
      "cell_type": "code",
      "metadata": {
        "id": "2ZIegR-4fP7L"
      },
      "source": [
        "resul = pd.merge(data, db_desc, how = 'left', on = ['id','id'])"
      ],
      "execution_count": 21,
      "outputs": []
    },
    {
      "cell_type": "code",
      "metadata": {
        "colab": {
          "base_uri": "https://localhost:8080/"
        },
        "id": "z2eE6jWwfP7L",
        "outputId": "e1fef854-bf39-4f0a-fabb-e7607afa48d6"
      },
      "source": [
        "resul.columns"
      ],
      "execution_count": 12,
      "outputs": [
        {
          "output_type": "execute_result",
          "data": {
            "text/plain": [
              "Index(['id', 'funded_amount', 'status', 'sector', 'location.country',\n",
              "       'location.town', 'terms.disbursal_amount', 'terms.disbursal_date',\n",
              "       'terms.loss_liability.nonpayment', 'posted_date', 'funded_date',\n",
              "       'paid_date', 'defaulted_date', 'amount', 'borrowers.gender',\n",
              "       'borrowers.pictured', 'journal_totals.entries', 'basket_amount',\n",
              "       'delinquent', 'loan_name', 'description', 'description_translated',\n",
              "       'loan_use', 'country_code', 'country_name', 'town_name',\n",
              "       'currency_policy', 'currency_exchange_coverage_rate', 'partner_id',\n",
              "       'lender_term', 'num_lenders_total', 'tags', 'borrower_names',\n",
              "       'borrower_genders', 'borrower_pictured', 'repayment_interval',\n",
              "       'distribution_model'],\n",
              "      dtype='object')"
            ]
          },
          "metadata": {
            "tags": []
          },
          "execution_count": 12
        }
      ]
    },
    {
      "cell_type": "code",
      "metadata": {
        "id": "F5Yp15wlfP7L"
      },
      "source": [
        "usual.append('repayment_interval')\n",
        "#resul = resul.filter(items=usual)"
      ],
      "execution_count": 13,
      "outputs": []
    },
    {
      "cell_type": "code",
      "metadata": {
        "colab": {
          "base_uri": "https://localhost:8080/",
          "height": 434
        },
        "id": "nKQsc6He4GiJ",
        "outputId": "e0a16655-f23a-430f-dfe0-e1a19acaed7d"
      },
      "source": [
        "## Missing values visualization\n",
        "null_counts = resul.isnull().sum()/len(resul)\n",
        "plt.figure(figsize=(100,20))\n",
        "plt.xticks(np.arange(len(null_counts))+0.5,null_counts.index,rotation='vertical', fontsize=50)\n",
        "plt.yticks(fontsize=50)\n",
        "plt.ylabel('Missing values proportion', fontsize=50)\n",
        "plt.bar(np.arange(len(null_counts)),null_counts)"
      ],
      "execution_count": null,
      "outputs": [
        {
          "output_type": "execute_result",
          "data": {
            "text/plain": [
              "<BarContainer object of 37 artists>"
            ]
          },
          "metadata": {
            "tags": []
          },
          "execution_count": 33
        },
        {
          "output_type": "display_data",
          "data": {
            "image/png": "[encoded data removed]",
            "text/plain": [
              "<Figure size 7200x1440 with 1 Axes>"
            ]
          },
          "metadata": {
            "tags": []
          }
        }
      ]
    },
    {
      "cell_type": "code",
      "metadata": {
        "colab": {
          "base_uri": "https://localhost:8080/",
          "height": 647
        },
        "id": "pOwIxd0mGLEY",
        "outputId": "7a4184e5-abc9-4fe3-d367-b64b2fffe131"
      },
      "source": [
        "msno.matrix(resul)"
      ],
      "execution_count": null,
      "outputs": [
        {
          "output_type": "execute_result",
          "data": {
            "text/plain": [
              "<matplotlib.axes._subplots.AxesSubplot at 0x7f043073ce10>"
            ]
          },
          "metadata": {
            "tags": []
          },
          "execution_count": 34
        },
        {
          "output_type": "display_data",
          "data": {
            "image/png": "[encoded data removed]",
            "text/plain": [
              "<Figure size 1800x720 with 2 Axes>"
            ]
          },
          "metadata": {
            "tags": []
          }
        }
      ]
    },
    {
      "cell_type": "code",
      "metadata": {
        "colab": {
          "base_uri": "https://localhost:8080/",
          "height": 691
        },
        "id": "fjtdMh1UGb6W",
        "outputId": "4ece0eff-8fdd-4ad4-eca6-9795d2aff713"
      },
      "source": [
        "msno.bar(resul)"
      ],
      "execution_count": null,
      "outputs": [
        {
          "output_type": "execute_result",
          "data": {
            "text/plain": [
              "<matplotlib.axes._subplots.AxesSubplot at 0x7f04305ef0f0>"
            ]
          },
          "metadata": {
            "tags": []
          },
          "execution_count": 35
        },
        {
          "output_type": "display_data",
          "data": {
            "image/png": "[encoded data removed]",
            "text/plain": [
              "<Figure size 1728x720 with 3 Axes>"
            ]
          },
          "metadata": {
            "tags": []
          }
        }
      ]
    },
    {
      "cell_type": "code",
      "metadata": {
        "colab": {
          "base_uri": "https://localhost:8080/",
          "height": 171
        },
        "id": "XwTXC08pfP7L",
        "outputId": "15222766-346f-41a7-da13-e6962d8730c8"
      },
      "source": [
        "pd.crosstab(resul.status,\"freq\")"
      ],
      "execution_count": 22,
      "outputs": [
        {
          "output_type": "execute_result",
          "data": {
            "text/html": [
              "<div>\n",
              "<style scoped>\n",
              "    .dataframe tbody tr th:only-of-type {\n",
              "        vertical-align: middle;\n",
              "    }\n",
              "\n",
              "    .dataframe tbody tr th {\n",
              "        vertical-align: top;\n",
              "    }\n",
              "\n",
              "    .dataframe thead th {\n",
              "        text-align: right;\n",
              "    }\n",
              "</style>\n",
              "<table border=\"1\" class=\"dataframe\">\n",
              "  <thead>\n",
              "    <tr style=\"text-align: right;\">\n",
              "      <th>col_0</th>\n",
              "      <th>freq</th>\n",
              "    </tr>\n",
              "    <tr>\n",
              "      <th>status</th>\n",
              "      <th></th>\n",
              "    </tr>\n",
              "  </thead>\n",
              "  <tbody>\n",
              "    <tr>\n",
              "      <th>defaulted</th>\n",
              "      <td>100</td>\n",
              "    </tr>\n",
              "    <tr>\n",
              "      <th>in_repayment</th>\n",
              "      <td>1818</td>\n",
              "    </tr>\n",
              "    <tr>\n",
              "      <th>paid</th>\n",
              "      <td>3084</td>\n",
              "    </tr>\n",
              "  </tbody>\n",
              "</table>\n",
              "</div>"
            ],
            "text/plain": [
              "col_0         freq\n",
              "status            \n",
              "defaulted      100\n",
              "in_repayment  1818\n",
              "paid          3084"
            ]
          },
          "metadata": {
            "tags": []
          },
          "execution_count": 22
        }
      ]
    },
    {
      "cell_type": "code",
      "metadata": {
        "id": "SCj9dnbhG1iu"
      },
      "source": [
        "# We keep only paid and defaulted observations\r\n",
        "resul = resul[resul.status != 'in_repayment']"
      ],
      "execution_count": 23,
      "outputs": []
    },
    {
      "cell_type": "code",
      "metadata": {
        "colab": {
          "base_uri": "https://localhost:8080/"
        },
        "id": "kj280HWAAFpu",
        "outputId": "03151862-cb48-4eab-bfe6-11d126c4751c"
      },
      "source": [
        "resul.status.unique()"
      ],
      "execution_count": 24,
      "outputs": [
        {
          "output_type": "execute_result",
          "data": {
            "text/plain": [
              "array(['paid', 'defaulted'], dtype=object)"
            ]
          },
          "metadata": {
            "tags": []
          },
          "execution_count": 24
        }
      ]
    },
    {
      "cell_type": "code",
      "metadata": {
        "id": "bncLiWzEfP7L"
      },
      "source": [
        "conditions = [\n",
        "    (resul.status == 'defaulted'),\n",
        "    (resul.status == 'paid')\n",
        "]\n",
        "values = [1,0]"
      ],
      "execution_count": 25,
      "outputs": []
    },
    {
      "cell_type": "code",
      "metadata": {
        "id": "aqJfoe-xfP7L"
      },
      "source": [
        "resul['target'] = np.select(conditions, values)"
      ],
      "execution_count": 26,
      "outputs": []
    },
    {
      "cell_type": "code",
      "metadata": {
        "colab": {
          "base_uri": "https://localhost:8080/",
          "height": 141
        },
        "id": "DSOtATN8fP7L",
        "outputId": "644f6261-f92a-45f7-b310-224b4cf8716c"
      },
      "source": [
        "pd.crosstab(resul.target,\"freq\")"
      ],
      "execution_count": 27,
      "outputs": [
        {
          "output_type": "execute_result",
          "data": {
            "text/html": [
              "<div>\n",
              "<style scoped>\n",
              "    .dataframe tbody tr th:only-of-type {\n",
              "        vertical-align: middle;\n",
              "    }\n",
              "\n",
              "    .dataframe tbody tr th {\n",
              "        vertical-align: top;\n",
              "    }\n",
              "\n",
              "    .dataframe thead th {\n",
              "        text-align: right;\n",
              "    }\n",
              "</style>\n",
              "<table border=\"1\" class=\"dataframe\">\n",
              "  <thead>\n",
              "    <tr style=\"text-align: right;\">\n",
              "      <th>col_0</th>\n",
              "      <th>freq</th>\n",
              "    </tr>\n",
              "    <tr>\n",
              "      <th>target</th>\n",
              "      <th></th>\n",
              "    </tr>\n",
              "  </thead>\n",
              "  <tbody>\n",
              "    <tr>\n",
              "      <th>0</th>\n",
              "      <td>3084</td>\n",
              "    </tr>\n",
              "    <tr>\n",
              "      <th>1</th>\n",
              "      <td>100</td>\n",
              "    </tr>\n",
              "  </tbody>\n",
              "</table>\n",
              "</div>"
            ],
            "text/plain": [
              "col_0   freq\n",
              "target      \n",
              "0       3084\n",
              "1        100"
            ]
          },
          "metadata": {
            "tags": []
          },
          "execution_count": 27
        }
      ]
    },
    {
      "cell_type": "markdown",
      "metadata": {
        "id": "ckKjz0gkWE-T"
      },
      "source": [
        "# NLP\r\n",
        "The purpose of this part is to better understand the descriptions and uses of the loan. So, we will this algorithm for first the description variable and next the loan use. For archieving our target we are going to :\r\n",
        "- Detect the languages of the description\r\n",
        "- Tokens all the observation\r\n",
        "- Delect the stop words\r\n",
        "- Lammanize the information"
      ]
    },
    {
      "cell_type": "code",
      "metadata": {
        "colab": {
          "base_uri": "https://localhost:8080/"
        },
        "id": "Wgxao__QWDb4",
        "outputId": "263b4fd2-f424-4bff-b4d0-b22aa4f4ae1d"
      },
      "source": [
        "\r\n",
        "# Looking for missing values\r\n",
        "description = resul['loan_use'].tolist()\r\n",
        "desc_pb = []\r\n",
        "for myst in description:\r\n",
        "    if isinstance(myst,float): # Les variables nan sont de type float \r\n",
        "        desc_pb.append(myst)\r\n",
        "\r\n",
        "print(' Ainsi on obtient ', len(desc_pb),' valeurs manquantees.',\r\n",
        "     \"\\n Etant donnée l'importance de cette variable, nous allons supprimer toutes les observations présentant des valeurs manquantes.\")"
      ],
      "execution_count": 28,
      "outputs": [
        {
          "output_type": "stream",
          "text": [
            " Ainsi on obtient  1644  valeurs manquantees. \n",
            " Etant donnée l'importance de cette variable, nous allons supprimer toutes les observations présentant des valeurs manquantes.\n"
          ],
          "name": "stdout"
        }
      ]
    },
    {
      "cell_type": "code",
      "metadata": {
        "colab": {
          "base_uri": "https://localhost:8080/",
          "height": 35
        },
        "id": "igs3sszw8H9e",
        "outputId": "481a823c-5f6c-4ef0-be64-14bc883bdbde"
      },
      "source": [
        "resul = resul.dropna(how='all', subset=['loan_use'])\r\n",
        "\r\n",
        "# Affichage d'une ligne de la série\r\n",
        "resul.at[10,'loan_use']"
      ],
      "execution_count": 29,
      "outputs": [
        {
          "output_type": "execute_result",
          "data": {
            "application/vnd.google.colaboratory.intrinsic+json": {
              "type": "string"
            },
            "text/plain": [
              "'New refrigerator'"
            ]
          },
          "metadata": {
            "tags": []
          },
          "execution_count": 29
        }
      ]
    },
    {
      "cell_type": "code",
      "metadata": {
        "colab": {
          "base_uri": "https://localhost:8080/",
          "height": 110
        },
        "id": "TMtC5nCl8IKC",
        "outputId": "92ef5252-4be6-4ee8-a7ab-101adbb0731f"
      },
      "source": [
        "# Taille des message de description du prêt\r\n",
        "resul['length'] = resul['loan_use'].map(len,)\r\n",
        "#groupe suivant le statut du prêt\r\n",
        "resul.groupby('target').length.describe()"
      ],
      "execution_count": 30,
      "outputs": [
        {
          "output_type": "execute_result",
          "data": {
            "text/html": [
              "<div>\n",
              "<style scoped>\n",
              "    .dataframe tbody tr th:only-of-type {\n",
              "        vertical-align: middle;\n",
              "    }\n",
              "\n",
              "    .dataframe tbody tr th {\n",
              "        vertical-align: top;\n",
              "    }\n",
              "\n",
              "    .dataframe thead th {\n",
              "        text-align: right;\n",
              "    }\n",
              "</style>\n",
              "<table border=\"1\" class=\"dataframe\">\n",
              "  <thead>\n",
              "    <tr style=\"text-align: right;\">\n",
              "      <th></th>\n",
              "      <th>count</th>\n",
              "      <th>mean</th>\n",
              "      <th>std</th>\n",
              "      <th>min</th>\n",
              "      <th>25%</th>\n",
              "      <th>50%</th>\n",
              "      <th>75%</th>\n",
              "      <th>max</th>\n",
              "    </tr>\n",
              "    <tr>\n",
              "      <th>target</th>\n",
              "      <th></th>\n",
              "      <th></th>\n",
              "      <th></th>\n",
              "      <th></th>\n",
              "      <th></th>\n",
              "      <th></th>\n",
              "      <th></th>\n",
              "      <th></th>\n",
              "    </tr>\n",
              "  </thead>\n",
              "  <tbody>\n",
              "    <tr>\n",
              "      <th>0</th>\n",
              "      <td>1540.0</td>\n",
              "      <td>42.486364</td>\n",
              "      <td>27.493714</td>\n",
              "      <td>4.0</td>\n",
              "      <td>25.0</td>\n",
              "      <td>38.0</td>\n",
              "      <td>51.0</td>\n",
              "      <td>491.0</td>\n",
              "    </tr>\n",
              "  </tbody>\n",
              "</table>\n",
              "</div>"
            ],
            "text/plain": [
              "         count       mean        std  min   25%   50%   75%    max\n",
              "target                                                            \n",
              "0       1540.0  42.486364  27.493714  4.0  25.0  38.0  51.0  491.0"
            ]
          },
          "metadata": {
            "tags": []
          },
          "execution_count": 30
        }
      ]
    },
    {
      "cell_type": "markdown",
      "metadata": {
        "id": "odgEaTg8JBrZ"
      },
      "source": [
        "As we can see only the entrepreneurs who are not in default situation pay give the use of their loan. We are going to search for the informations which are containing in this description."
      ]
    },
    {
      "cell_type": "code",
      "metadata": {
        "id": "TCAy5ufuKIex"
      },
      "source": [
        "#!pip install langdetect\r\n",
        "from langdetect import detect"
      ],
      "execution_count": 33,
      "outputs": []
    },
    {
      "cell_type": "code",
      "metadata": {
        "id": "hGqGoiIeKXfo"
      },
      "source": [
        "resul.reset_index(inplace=True)"
      ],
      "execution_count": 34,
      "outputs": []
    },
    {
      "cell_type": "code",
      "metadata": {
        "id": "CLx1OOvz8IRJ"
      },
      "source": [
        "# Fonction pour rechercher des éventuels erreur dans la détection de la langue de description\r\n",
        "texte_decrip = resul['loan_use']\r\n",
        "langdet = []                                                    \r\n",
        "\r\n",
        "for i in range(len(resul)):                                         \r\n",
        "    try:                                                          \r\n",
        "       lang=detect(texte_decrip[i])                                      \r\n",
        "    except:                                                       \r\n",
        "       lang='no'                                                  \r\n",
        "       print(\"This row throws error:\", texte_decrip[i])                 \r\n",
        "    langdet.append(lang)   "
      ],
      "execution_count": 35,
      "outputs": []
    },
    {
      "cell_type": "code",
      "metadata": {
        "colab": {
          "base_uri": "https://localhost:8080/"
        },
        "id": "g9toIyR8Kkgy",
        "outputId": "a9d55e5f-a039-4351-d640-543f9f6050ac"
      },
      "source": [
        "langdet\r\n",
        "output = []\r\n",
        "for x in langdet:\r\n",
        "    if x not in output:\r\n",
        "        output.append(x)\r\n",
        "print(' The differents languages which are using to describe the loan are : ',output,\r\n",
        "     '\\n The number of this languages are :',len(output))"
      ],
      "execution_count": 36,
      "outputs": [
        {
          "output_type": "stream",
          "text": [
            " The differents languages which are using to describe the loan are :  ['en', 'tl', 'es', 'ca', 'af', 'id', 'so', 'no', 'sv', 'fi', 'fr', 'it', 'de', 'et', 'da', 'tr', 'ro', 'pt', 'lt', 'cy', 'pl', 'nl', 'vi', 'sk'] \n",
            " The number of this languages are : 24\n"
          ],
          "name": "stdout"
        }
      ]
    },
    {
      "cell_type": "code",
      "metadata": {
        "colab": {
          "base_uri": "https://localhost:8080/",
          "height": 815
        },
        "id": "tMIOSnhdK1Co",
        "outputId": "29d023d0-ab9b-4683-d3fa-9fe031b04164"
      },
      "source": [
        "resul['langdet'] = pd.DataFrame({'langue':langdet})\r\n",
        "pd.crosstab(resul['langdet'],'freq').apply(lambda r: 100 * r/len(resul), axis=1).round(2)"
      ],
      "execution_count": 37,
      "outputs": [
        {
          "output_type": "execute_result",
          "data": {
            "text/html": [
              "<div>\n",
              "<style scoped>\n",
              "    .dataframe tbody tr th:only-of-type {\n",
              "        vertical-align: middle;\n",
              "    }\n",
              "\n",
              "    .dataframe tbody tr th {\n",
              "        vertical-align: top;\n",
              "    }\n",
              "\n",
              "    .dataframe thead th {\n",
              "        text-align: right;\n",
              "    }\n",
              "</style>\n",
              "<table border=\"1\" class=\"dataframe\">\n",
              "  <thead>\n",
              "    <tr style=\"text-align: right;\">\n",
              "      <th>col_0</th>\n",
              "      <th>freq</th>\n",
              "    </tr>\n",
              "    <tr>\n",
              "      <th>langdet</th>\n",
              "      <th></th>\n",
              "    </tr>\n",
              "  </thead>\n",
              "  <tbody>\n",
              "    <tr>\n",
              "      <th>af</th>\n",
              "      <td>0.39</td>\n",
              "    </tr>\n",
              "    <tr>\n",
              "      <th>ca</th>\n",
              "      <td>0.39</td>\n",
              "    </tr>\n",
              "    <tr>\n",
              "      <th>cy</th>\n",
              "      <td>0.06</td>\n",
              "    </tr>\n",
              "    <tr>\n",
              "      <th>da</th>\n",
              "      <td>0.19</td>\n",
              "    </tr>\n",
              "    <tr>\n",
              "      <th>de</th>\n",
              "      <td>0.52</td>\n",
              "    </tr>\n",
              "    <tr>\n",
              "      <th>en</th>\n",
              "      <td>89.87</td>\n",
              "    </tr>\n",
              "    <tr>\n",
              "      <th>es</th>\n",
              "      <td>2.99</td>\n",
              "    </tr>\n",
              "    <tr>\n",
              "      <th>et</th>\n",
              "      <td>0.13</td>\n",
              "    </tr>\n",
              "    <tr>\n",
              "      <th>fi</th>\n",
              "      <td>0.19</td>\n",
              "    </tr>\n",
              "    <tr>\n",
              "      <th>fr</th>\n",
              "      <td>0.58</td>\n",
              "    </tr>\n",
              "    <tr>\n",
              "      <th>id</th>\n",
              "      <td>0.19</td>\n",
              "    </tr>\n",
              "    <tr>\n",
              "      <th>it</th>\n",
              "      <td>1.56</td>\n",
              "    </tr>\n",
              "    <tr>\n",
              "      <th>lt</th>\n",
              "      <td>0.06</td>\n",
              "    </tr>\n",
              "    <tr>\n",
              "      <th>nl</th>\n",
              "      <td>0.13</td>\n",
              "    </tr>\n",
              "    <tr>\n",
              "      <th>no</th>\n",
              "      <td>0.58</td>\n",
              "    </tr>\n",
              "    <tr>\n",
              "      <th>pl</th>\n",
              "      <td>0.06</td>\n",
              "    </tr>\n",
              "    <tr>\n",
              "      <th>pt</th>\n",
              "      <td>0.13</td>\n",
              "    </tr>\n",
              "    <tr>\n",
              "      <th>ro</th>\n",
              "      <td>0.39</td>\n",
              "    </tr>\n",
              "    <tr>\n",
              "      <th>sk</th>\n",
              "      <td>0.13</td>\n",
              "    </tr>\n",
              "    <tr>\n",
              "      <th>so</th>\n",
              "      <td>0.19</td>\n",
              "    </tr>\n",
              "    <tr>\n",
              "      <th>sv</th>\n",
              "      <td>0.06</td>\n",
              "    </tr>\n",
              "    <tr>\n",
              "      <th>tl</th>\n",
              "      <td>0.71</td>\n",
              "    </tr>\n",
              "    <tr>\n",
              "      <th>tr</th>\n",
              "      <td>0.39</td>\n",
              "    </tr>\n",
              "    <tr>\n",
              "      <th>vi</th>\n",
              "      <td>0.06</td>\n",
              "    </tr>\n",
              "  </tbody>\n",
              "</table>\n",
              "</div>"
            ],
            "text/plain": [
              "col_0     freq\n",
              "langdet       \n",
              "af        0.39\n",
              "ca        0.39\n",
              "cy        0.06\n",
              "da        0.19\n",
              "de        0.52\n",
              "en       89.87\n",
              "es        2.99\n",
              "et        0.13\n",
              "fi        0.19\n",
              "fr        0.58\n",
              "id        0.19\n",
              "it        1.56\n",
              "lt        0.06\n",
              "nl        0.13\n",
              "no        0.58\n",
              "pl        0.06\n",
              "pt        0.13\n",
              "ro        0.39\n",
              "sk        0.13\n",
              "so        0.19\n",
              "sv        0.06\n",
              "tl        0.71\n",
              "tr        0.39\n",
              "vi        0.06"
            ]
          },
          "metadata": {
            "tags": []
          },
          "execution_count": 37
        }
      ]
    },
    {
      "cell_type": "code",
      "metadata": {
        "id": "TRb9nPIjLDMo"
      },
      "source": [
        "# We will have a description only for english language\r\n",
        "database_eng = resul[['loan_use','langdet']]\r\n",
        "database_eng = database_eng[database_eng['langdet'] == 'en']\r\n",
        "database_eng.reset_index(inplace=True)"
      ],
      "execution_count": 38,
      "outputs": []
    },
    {
      "cell_type": "markdown",
      "metadata": {
        "id": "XHr7lBHDLUDV"
      },
      "source": [
        "## Tokenisation"
      ]
    },
    {
      "cell_type": "code",
      "metadata": {
        "colab": {
          "base_uri": "https://localhost:8080/"
        },
        "id": "5h63m-pFLnZ7",
        "outputId": "1d823bde-7239-42fc-9035-263b6c54cdb1"
      },
      "source": [
        "!pip install nltk"
      ],
      "execution_count": 39,
      "outputs": [
        {
          "output_type": "stream",
          "text": [
            "Requirement already satisfied: nltk in /usr/local/lib/python3.6/dist-packages (3.2.5)\n",
            "Requirement already satisfied: six in /usr/local/lib/python3.6/dist-packages (from nltk) (1.15.0)\n"
          ],
          "name": "stdout"
        }
      ]
    },
    {
      "cell_type": "code",
      "metadata": {
        "colab": {
          "base_uri": "https://localhost:8080/"
        },
        "id": "TbC1lBcjLRYz",
        "outputId": "6dec4d30-81c5-4f8c-b1a2-d6388c9b35cd"
      },
      "source": [
        "import nltk\r\n",
        "nltk.download('stopwords')\r\n",
        "nltk.download('wordnet')\r\n",
        "nltk.download('punkt')"
      ],
      "execution_count": 40,
      "outputs": [
        {
          "output_type": "stream",
          "text": [
            "[nltk_data] Downloading package stopwords to /root/nltk_data...\n",
            "[nltk_data]   Unzipping corpora/stopwords.zip.\n",
            "[nltk_data] Downloading package wordnet to /root/nltk_data...\n",
            "[nltk_data]   Unzipping corpora/wordnet.zip.\n",
            "[nltk_data] Downloading package punkt to /root/nltk_data...\n",
            "[nltk_data]   Unzipping tokenizers/punkt.zip.\n"
          ],
          "name": "stdout"
        },
        {
          "output_type": "execute_result",
          "data": {
            "text/plain": [
              "True"
            ]
          },
          "metadata": {
            "tags": []
          },
          "execution_count": 40
        }
      ]
    },
    {
      "cell_type": "code",
      "metadata": {
        "id": "NOctkupyLRgP"
      },
      "source": [
        "tokens = []\r\n",
        "for i in range(len(database_eng)):\r\n",
        "    tokens.append(nltk.tokenize.word_tokenize(database_eng['loan_use'][i]))\r\n",
        "    \r\n",
        "# Adding token variable in the dataset\r\n",
        "database_eng['tokens'] = tokens"
      ],
      "execution_count": 41,
      "outputs": []
    },
    {
      "cell_type": "code",
      "metadata": {
        "colab": {
          "base_uri": "https://localhost:8080/"
        },
        "id": "59cXgFAxL8zJ",
        "outputId": "df222e6a-93c1-4ffb-9242-3bf0ccd3331b"
      },
      "source": [
        "# Suppression of stops words\r\n",
        "# uploading the corpus of english's stop-words\r\n",
        "stop_words = set(nltk.corpus.stopwords.words('english'))\r\n",
        "database_eng['filtered_text'] = database_eng['tokens'].map(lambda tokens: [w for w in tokens if not w in stop_words])\r\n",
        "\r\n",
        "# Print the previous text without tokens\r\n",
        "print(database_eng['tokens'][3],end='\\n\\n')\r\n",
        "print(database_eng['filtered_text'][3],end='\\n\\n')\r\n",
        "print(\"Mots différents :\", set(database_eng['tokens'][3]) - set(database_eng['filtered_text'][3]))"
      ],
      "execution_count": 42,
      "outputs": [
        {
          "output_type": "stream",
          "text": [
            "['Buy', 'inventory', 'like', 'bread', ',', 'ham', ',', 'pens', 'and', 'paper', ',', 'medicine', ',', 'juices', ',', 'and', 'the', 'like', '.']\n",
            "\n",
            "['Buy', 'inventory', 'like', 'bread', ',', 'ham', ',', 'pens', 'paper', ',', 'medicine', ',', 'juices', ',', 'like', '.']\n",
            "\n",
            "Mots différents : {'the', 'and'}\n"
          ],
          "name": "stdout"
        }
      ]
    },
    {
      "cell_type": "code",
      "metadata": {
        "colab": {
          "base_uri": "https://localhost:8080/",
          "height": 398
        },
        "id": "kp3Y8f2jPdK2",
        "outputId": "f0556983-a7b8-4ac9-9426-c4e428e3adcb"
      },
      "source": [
        "wnl = nltk.WordNetLemmatizer()\r\n",
        "database_eng['filtered_text'] = database_eng['filtered_text'].map(lambda text: wnl.lemmatize(text))\r\n",
        "\r\n",
        "database_eng['target'] = resul['target']"
      ],
      "execution_count": 43,
      "outputs": [
        {
          "output_type": "error",
          "ename": "TypeError",
          "evalue": "ignored",
          "traceback": [
            "\u001b[0;31m---------------------------------------------------------------------------\u001b[0m",
            "\u001b[0;31mTypeError\u001b[0m                                 Traceback (most recent call last)",
            "\u001b[0;32m<ipython-input-43-46919300f4b0>\u001b[0m in \u001b[0;36m<module>\u001b[0;34m()\u001b[0m\n\u001b[1;32m      1\u001b[0m \u001b[0mwnl\u001b[0m \u001b[0;34m=\u001b[0m \u001b[0mnltk\u001b[0m\u001b[0;34m.\u001b[0m\u001b[0mWordNetLemmatizer\u001b[0m\u001b[0;34m(\u001b[0m\u001b[0;34m)\u001b[0m\u001b[0;34m\u001b[0m\u001b[0;34m\u001b[0m\u001b[0m\n\u001b[0;32m----> 2\u001b[0;31m \u001b[0mdatabase_eng\u001b[0m\u001b[0;34m[\u001b[0m\u001b[0;34m'filtered_text'\u001b[0m\u001b[0;34m]\u001b[0m \u001b[0;34m=\u001b[0m \u001b[0mdatabase_eng\u001b[0m\u001b[0;34m[\u001b[0m\u001b[0;34m'filtered_text'\u001b[0m\u001b[0;34m]\u001b[0m\u001b[0;34m.\u001b[0m\u001b[0mmap\u001b[0m\u001b[0;34m(\u001b[0m\u001b[0;32mlambda\u001b[0m \u001b[0mtext\u001b[0m\u001b[0;34m:\u001b[0m \u001b[0mwnl\u001b[0m\u001b[0;34m.\u001b[0m\u001b[0mlemmatize\u001b[0m\u001b[0;34m(\u001b[0m\u001b[0mtext\u001b[0m\u001b[0;34m)\u001b[0m\u001b[0;34m)\u001b[0m\u001b[0;34m\u001b[0m\u001b[0;34m\u001b[0m\u001b[0m\n\u001b[0m\u001b[1;32m      3\u001b[0m \u001b[0;34m\u001b[0m\u001b[0m\n\u001b[1;32m      4\u001b[0m \u001b[0mdatabase_eng\u001b[0m\u001b[0;34m[\u001b[0m\u001b[0;34m'target'\u001b[0m\u001b[0;34m]\u001b[0m \u001b[0;34m=\u001b[0m \u001b[0mresul\u001b[0m\u001b[0;34m[\u001b[0m\u001b[0;34m'target'\u001b[0m\u001b[0;34m]\u001b[0m\u001b[0;34m\u001b[0m\u001b[0;34m\u001b[0m\u001b[0m\n",
            "\u001b[0;32m/usr/local/lib/python3.6/dist-packages/pandas/core/series.py\u001b[0m in \u001b[0;36mmap\u001b[0;34m(self, arg, na_action)\u001b[0m\n\u001b[1;32m   3981\u001b[0m         \u001b[0mdtype\u001b[0m\u001b[0;34m:\u001b[0m \u001b[0mobject\u001b[0m\u001b[0;34m\u001b[0m\u001b[0;34m\u001b[0m\u001b[0m\n\u001b[1;32m   3982\u001b[0m         \"\"\"\n\u001b[0;32m-> 3983\u001b[0;31m         \u001b[0mnew_values\u001b[0m \u001b[0;34m=\u001b[0m \u001b[0msuper\u001b[0m\u001b[0;34m(\u001b[0m\u001b[0;34m)\u001b[0m\u001b[0;34m.\u001b[0m\u001b[0m_map_values\u001b[0m\u001b[0;34m(\u001b[0m\u001b[0marg\u001b[0m\u001b[0;34m,\u001b[0m \u001b[0mna_action\u001b[0m\u001b[0;34m=\u001b[0m\u001b[0mna_action\u001b[0m\u001b[0;34m)\u001b[0m\u001b[0;34m\u001b[0m\u001b[0;34m\u001b[0m\u001b[0m\n\u001b[0m\u001b[1;32m   3984\u001b[0m         return self._constructor(new_values, index=self.index).__finalize__(\n\u001b[1;32m   3985\u001b[0m             \u001b[0mself\u001b[0m\u001b[0;34m,\u001b[0m \u001b[0mmethod\u001b[0m\u001b[0;34m=\u001b[0m\u001b[0;34m\"map\"\u001b[0m\u001b[0;34m\u001b[0m\u001b[0;34m\u001b[0m\u001b[0m\n",
            "\u001b[0;32m/usr/local/lib/python3.6/dist-packages/pandas/core/base.py\u001b[0m in \u001b[0;36m_map_values\u001b[0;34m(self, mapper, na_action)\u001b[0m\n\u001b[1;32m   1158\u001b[0m \u001b[0;34m\u001b[0m\u001b[0m\n\u001b[1;32m   1159\u001b[0m         \u001b[0;31m# mapper is a function\u001b[0m\u001b[0;34m\u001b[0m\u001b[0;34m\u001b[0m\u001b[0;34m\u001b[0m\u001b[0m\n\u001b[0;32m-> 1160\u001b[0;31m         \u001b[0mnew_values\u001b[0m \u001b[0;34m=\u001b[0m \u001b[0mmap_f\u001b[0m\u001b[0;34m(\u001b[0m\u001b[0mvalues\u001b[0m\u001b[0;34m,\u001b[0m \u001b[0mmapper\u001b[0m\u001b[0;34m)\u001b[0m\u001b[0;34m\u001b[0m\u001b[0;34m\u001b[0m\u001b[0m\n\u001b[0m\u001b[1;32m   1161\u001b[0m \u001b[0;34m\u001b[0m\u001b[0m\n\u001b[1;32m   1162\u001b[0m         \u001b[0;32mreturn\u001b[0m \u001b[0mnew_values\u001b[0m\u001b[0;34m\u001b[0m\u001b[0;34m\u001b[0m\u001b[0m\n",
            "\u001b[0;32mpandas/_libs/lib.pyx\u001b[0m in \u001b[0;36mpandas._libs.lib.map_infer\u001b[0;34m()\u001b[0m\n",
            "\u001b[0;32m<ipython-input-43-46919300f4b0>\u001b[0m in \u001b[0;36m<lambda>\u001b[0;34m(text)\u001b[0m\n\u001b[1;32m      1\u001b[0m \u001b[0mwnl\u001b[0m \u001b[0;34m=\u001b[0m \u001b[0mnltk\u001b[0m\u001b[0;34m.\u001b[0m\u001b[0mWordNetLemmatizer\u001b[0m\u001b[0;34m(\u001b[0m\u001b[0;34m)\u001b[0m\u001b[0;34m\u001b[0m\u001b[0;34m\u001b[0m\u001b[0m\n\u001b[0;32m----> 2\u001b[0;31m \u001b[0mdatabase_eng\u001b[0m\u001b[0;34m[\u001b[0m\u001b[0;34m'filtered_text'\u001b[0m\u001b[0;34m]\u001b[0m \u001b[0;34m=\u001b[0m \u001b[0mdatabase_eng\u001b[0m\u001b[0;34m[\u001b[0m\u001b[0;34m'filtered_text'\u001b[0m\u001b[0;34m]\u001b[0m\u001b[0;34m.\u001b[0m\u001b[0mmap\u001b[0m\u001b[0;34m(\u001b[0m\u001b[0;32mlambda\u001b[0m \u001b[0mtext\u001b[0m\u001b[0;34m:\u001b[0m \u001b[0mwnl\u001b[0m\u001b[0;34m.\u001b[0m\u001b[0mlemmatize\u001b[0m\u001b[0;34m(\u001b[0m\u001b[0mtext\u001b[0m\u001b[0;34m)\u001b[0m\u001b[0;34m)\u001b[0m\u001b[0;34m\u001b[0m\u001b[0;34m\u001b[0m\u001b[0m\n\u001b[0m\u001b[1;32m      3\u001b[0m \u001b[0;34m\u001b[0m\u001b[0m\n\u001b[1;32m      4\u001b[0m \u001b[0mdatabase_eng\u001b[0m\u001b[0;34m[\u001b[0m\u001b[0;34m'target'\u001b[0m\u001b[0;34m]\u001b[0m \u001b[0;34m=\u001b[0m \u001b[0mresul\u001b[0m\u001b[0;34m[\u001b[0m\u001b[0;34m'target'\u001b[0m\u001b[0;34m]\u001b[0m\u001b[0;34m\u001b[0m\u001b[0;34m\u001b[0m\u001b[0m\n",
            "\u001b[0;32m/usr/local/lib/python3.6/dist-packages/nltk/stem/wordnet.py\u001b[0m in \u001b[0;36mlemmatize\u001b[0;34m(self, word, pos)\u001b[0m\n\u001b[1;32m     38\u001b[0m \u001b[0;34m\u001b[0m\u001b[0m\n\u001b[1;32m     39\u001b[0m     \u001b[0;32mdef\u001b[0m \u001b[0mlemmatize\u001b[0m\u001b[0;34m(\u001b[0m\u001b[0mself\u001b[0m\u001b[0;34m,\u001b[0m \u001b[0mword\u001b[0m\u001b[0;34m,\u001b[0m \u001b[0mpos\u001b[0m\u001b[0;34m=\u001b[0m\u001b[0mNOUN\u001b[0m\u001b[0;34m)\u001b[0m\u001b[0;34m:\u001b[0m\u001b[0;34m\u001b[0m\u001b[0;34m\u001b[0m\u001b[0m\n\u001b[0;32m---> 40\u001b[0;31m         \u001b[0mlemmas\u001b[0m \u001b[0;34m=\u001b[0m \u001b[0mwordnet\u001b[0m\u001b[0;34m.\u001b[0m\u001b[0m_morphy\u001b[0m\u001b[0;34m(\u001b[0m\u001b[0mword\u001b[0m\u001b[0;34m,\u001b[0m \u001b[0mpos\u001b[0m\u001b[0;34m)\u001b[0m\u001b[0;34m\u001b[0m\u001b[0;34m\u001b[0m\u001b[0m\n\u001b[0m\u001b[1;32m     41\u001b[0m         \u001b[0;32mreturn\u001b[0m \u001b[0mmin\u001b[0m\u001b[0;34m(\u001b[0m\u001b[0mlemmas\u001b[0m\u001b[0;34m,\u001b[0m \u001b[0mkey\u001b[0m\u001b[0;34m=\u001b[0m\u001b[0mlen\u001b[0m\u001b[0;34m)\u001b[0m \u001b[0;32mif\u001b[0m \u001b[0mlemmas\u001b[0m \u001b[0;32melse\u001b[0m \u001b[0mword\u001b[0m\u001b[0;34m\u001b[0m\u001b[0;34m\u001b[0m\u001b[0m\n\u001b[1;32m     42\u001b[0m \u001b[0;34m\u001b[0m\u001b[0m\n",
            "\u001b[0;32m/usr/local/lib/python3.6/dist-packages/nltk/corpus/reader/wordnet.py\u001b[0m in \u001b[0;36m_morphy\u001b[0;34m(self, form, pos, check_exceptions)\u001b[0m\n\u001b[1;32m   1794\u001b[0m         \u001b[0;31m# 0. Check the exception lists\u001b[0m\u001b[0;34m\u001b[0m\u001b[0;34m\u001b[0m\u001b[0;34m\u001b[0m\u001b[0m\n\u001b[1;32m   1795\u001b[0m         \u001b[0;32mif\u001b[0m \u001b[0mcheck_exceptions\u001b[0m\u001b[0;34m:\u001b[0m\u001b[0;34m\u001b[0m\u001b[0;34m\u001b[0m\u001b[0m\n\u001b[0;32m-> 1796\u001b[0;31m             \u001b[0;32mif\u001b[0m \u001b[0mform\u001b[0m \u001b[0;32min\u001b[0m \u001b[0mexceptions\u001b[0m\u001b[0;34m:\u001b[0m\u001b[0;34m\u001b[0m\u001b[0;34m\u001b[0m\u001b[0m\n\u001b[0m\u001b[1;32m   1797\u001b[0m                 \u001b[0;32mreturn\u001b[0m \u001b[0mfilter_forms\u001b[0m\u001b[0;34m(\u001b[0m\u001b[0;34m[\u001b[0m\u001b[0mform\u001b[0m\u001b[0;34m]\u001b[0m \u001b[0;34m+\u001b[0m \u001b[0mexceptions\u001b[0m\u001b[0;34m[\u001b[0m\u001b[0mform\u001b[0m\u001b[0;34m]\u001b[0m\u001b[0;34m)\u001b[0m\u001b[0;34m\u001b[0m\u001b[0;34m\u001b[0m\u001b[0m\n\u001b[1;32m   1798\u001b[0m \u001b[0;34m\u001b[0m\u001b[0m\n",
            "\u001b[0;31mTypeError\u001b[0m: unhashable type: 'list'"
          ]
        }
      ]
    },
    {
      "cell_type": "code",
      "metadata": {
        "id": "7_eDcYCXhd0R"
      },
      "source": [
        "#!pip install Wordcount\r\n",
        "from wordcloud import WordCloud\r\n",
        "from nltk.tokenize import word_tokenize"
      ],
      "execution_count": 47,
      "outputs": []
    },
    {
      "cell_type": "code",
      "metadata": {
        "id": "HnMgphjWRntZ"
      },
      "source": [
        "lema = database_eng['filtered_text'].tolist()\r\n",
        "text_lema = []\r\n",
        "for liste in lema:\r\n",
        "  for i in liste:\r\n",
        "    for word in word_tokenize(i):\r\n",
        "      text_lema.append(wnl.lemmatize(word))"
      ],
      "execution_count": 49,
      "outputs": []
    },
    {
      "cell_type": "code",
      "metadata": {
        "id": "i3nd907dWiia",
        "colab": {
          "base_uri": "https://localhost:8080/",
          "height": 35
        },
        "outputId": "320cdf17-70aa-4d1c-e670-b793eae3efb2"
      },
      "source": [
        "text_lema[10]"
      ],
      "execution_count": 51,
      "outputs": [
        {
          "output_type": "execute_result",
          "data": {
            "application/vnd.google.colaboratory.intrinsic+json": {
              "type": "string"
            },
            "text/plain": [
              "'inventory'"
            ]
          },
          "metadata": {
            "tags": []
          },
          "execution_count": 51
        }
      ]
    },
    {
      "cell_type": "code",
      "metadata": {
        "id": "qIh3SDZWTxfN"
      },
      "source": [
        "from nltk.tokenize import word_tokenize\r\n",
        "from nltk.stem.wordnet import WordNetLemmatizer\r\n",
        "\r\n",
        "sentence = 'missed you'\r\n",
        "w_tokenize = (word_tokenize(sentence))\r\n",
        "\r\n",
        "for word in w_tokenize:\r\n",
        "  print(wnl.lemmatize(word))"
      ],
      "execution_count": null,
      "outputs": []
    },
    {
      "cell_type": "code",
      "metadata": {
        "id": "cCIQBO42QCf2"
      },
      "source": [
        "#!pip install Wordcloud\r\n",
        "from wordcloud import WordCloud"
      ],
      "execution_count": null,
      "outputs": []
    },
    {
      "cell_type": "code",
      "metadata": {
        "id": "rflgHjKqP3PY"
      },
      "source": [
        "spam_words = ''.join(list(database_eng[database_eng['target']==0]['filtered_text']))\r\n",
        "spam_cloud = WordCloud(width = 512,height = 512,background_color=\"white\", collocations = True).generate(spam_words)\r\n",
        "plt.figure(figsize = (10, 8), facecolor ='w')\r\n",
        "plt.imshow(spam_cloud)\r\n",
        "plt.axis('off')\r\n",
        "plt.tight_layout(pad = 0)\r\n",
        "plt.title(\"Nuage des mots chez les prêt en défauts\")\r\n",
        "plt.show()"
      ],
      "execution_count": null,
      "outputs": []
    },
    {
      "cell_type": "code",
      "metadata": {
        "id": "DhtuZQjsGeb1"
      },
      "source": [
        "msno.heatmap(resul)"
      ],
      "execution_count": null,
      "outputs": []
    },
    {
      "cell_type": "code",
      "metadata": {
        "id": "zMUJ9P4AHJto"
      },
      "source": [
        "pd.crosstab(resul.status,\"freq\")"
      ],
      "execution_count": null,
      "outputs": []
    },
    {
      "cell_type": "code",
      "metadata": {
        "id": "ahzdfcFDH8_F"
      },
      "source": [
        "resul['close_date'] = np.where(resul[\"defaulted_date\"].isnull(), resul[\"paid_date\"], resul[\"defaulted_date\"] )"
      ],
      "execution_count": null,
      "outputs": []
    },
    {
      "cell_type": "code",
      "metadata": {
        "id": "VgPgSOD4Ipdq"
      },
      "source": [
        "msno.bar(resul)"
      ],
      "execution_count": null,
      "outputs": []
    },
    {
      "cell_type": "code",
      "metadata": {
        "id": "CDUBRA3iJH-v"
      },
      "source": [
        ""
      ],
      "execution_count": null,
      "outputs": []
    },
    {
      "cell_type": "code",
      "metadata": {
        "id": "fDUa-tvwJJeE"
      },
      "source": [
        "msno.bar(resul)"
      ],
      "execution_count": null,
      "outputs": []
    },
    {
      "cell_type": "code",
      "metadata": {
        "id": "bq1YJLdHg3q0"
      },
      "source": [
        "pd.crosstab(resul.status,resul.delinquent)"
      ],
      "execution_count": null,
      "outputs": []
    },
    {
      "cell_type": "code",
      "metadata": {
        "id": "K0o4iyybFXKu"
      },
      "source": [
        "# We drop some variables with too many missing values\n",
        "var_to_delete = ['basket_amount','repayment_interval','defaulted_date', 'paid_date','delinquent']\n",
        "resul = resul.drop(var_to_delete, axis=1)"
      ],
      "execution_count": null,
      "outputs": []
    },
    {
      "cell_type": "code",
      "metadata": {
        "id": "6iWrtGQkikUb"
      },
      "source": [
        "test = resul.dropna(axis=0)\n",
        "test.shape"
      ],
      "execution_count": null,
      "outputs": []
    },
    {
      "cell_type": "code",
      "metadata": {
        "id": "BbbwwtbIfP7L"
      },
      "source": [
        "pd.crosstab(test.status,\"freq\")\n",
        "# Only paid observations have missing values "
      ],
      "execution_count": null,
      "outputs": []
    },
    {
      "cell_type": "code",
      "metadata": {
        "id": "KIt2A8fjixVS"
      },
      "source": [
        "resul = resul.dropna(axis=0)"
      ],
      "execution_count": null,
      "outputs": []
    },
    {
      "cell_type": "code",
      "metadata": {
        "id": "IV-xvzfXJePf"
      },
      "source": [
        "msno.bar(resul)\n",
        "# we are going to work with this database"
      ],
      "execution_count": null,
      "outputs": []
    },
    {
      "cell_type": "markdown",
      "metadata": {
        "id": "UbHF5lLofP7L"
      },
      "source": [
        "### Target variable"
      ]
    },
    {
      "cell_type": "code",
      "metadata": {
        "id": "mgw2Ja4FfP7M"
      },
      "source": [
        "resul.head()"
      ],
      "execution_count": null,
      "outputs": []
    },
    {
      "cell_type": "code",
      "metadata": {
        "id": "f2ZOynKGfP7M",
        "scrolled": false
      },
      "source": [
        "resul.info()"
      ],
      "execution_count": null,
      "outputs": []
    },
    {
      "cell_type": "code",
      "metadata": {
        "id": "TZrIACX1oP50"
      },
      "source": [
        "resul = resul.drop('terms.disbursal_amount', axis=1)"
      ],
      "execution_count": null,
      "outputs": []
    },
    {
      "cell_type": "code",
      "metadata": {
        "id": "ftWVPaN5fP7M"
      },
      "source": [
        "resul['funded_amount'] = pd.to_numeric(resul['funded_amount'], downcast='float')"
      ],
      "execution_count": null,
      "outputs": []
    },
    {
      "cell_type": "markdown",
      "metadata": {
        "id": "wfL4t-Pkz4Vy"
      },
      "source": [
        "# Categorical variables"
      ]
    },
    {
      "cell_type": "code",
      "metadata": {
        "colab": {
          "base_uri": "https://localhost:8080/"
        },
        "id": "sWmHlu11iC0a",
        "outputId": "9146060c-0b2d-4264-acb1-b69ac990647d"
      },
      "source": [
        "resul.sector.value_counts()"
      ],
      "execution_count": null,
      "outputs": [
        {
          "output_type": "execute_result",
          "data": {
            "text/plain": [
              "Food              951\n",
              "Retail            715\n",
              "Agriculture       533\n",
              "Clothing          278\n",
              "Services          266\n",
              "Arts               94\n",
              "Transportation     92\n",
              "Construction       75\n",
              "Manufacturing      35\n",
              "Health             30\n",
              "Housing            25\n",
              "Wholesale          11\n",
              "Personal Use        6\n",
              "Education           4\n",
              "Entertainment       2\n",
              "Name: sector, dtype: int64"
            ]
          },
          "metadata": {
            "tags": []
          },
          "execution_count": 55
        }
      ]
    },
    {
      "cell_type": "code",
      "metadata": {
        "id": "5oj0JaUSz26H"
      },
      "source": [
        "categorical_var = ['sector', 'location.country','location.town', 'terms.disbursal_date',\n",
        "       'terms.loss_liability.nonpayment', 'posted_date', 'funded_date','borrowers.gender', 'borrowers.pictured','close_date']\n",
        "date_var = ['terms.disbursal_date','posted_date', 'funded_date','close_date']\n",
        "resul[categorical_var] = resul[categorical_var].astype('category')\n",
        "resul['borrowers.gender'] = resul['borrowers.gender'].cat.codes\n",
        "resul['borrowers.pictured'] = resul['borrowers.pictured'].cat.codes\n",
        "resul['terms.loss_liability.nonpayment'] = resul['terms.loss_liability.nonpayment'].cat.codes"
      ],
      "execution_count": null,
      "outputs": []
    },
    {
      "cell_type": "code",
      "metadata": {
        "id": "70EPZkbbiLJO"
      },
      "source": [
        "# We can group the sector variable\n",
        "others = ['Manufecturing', 'Health', 'Housing', 'Wholesale', 'Personal Use', 'Education', 'Entertainment']\n",
        "resul['sector_cat'] = np.where(resul['sector'].isin(others), \"Other\", resul['sector'])"
      ],
      "execution_count": null,
      "outputs": []
    },
    {
      "cell_type": "code",
      "metadata": {
        "id": "Eh5zIWhfo3B9"
      },
      "source": [
        "# We can also group the country variable\n",
        "def country_to_continent(country_name):\n",
        "    while True:\n",
        "      try:\n",
        "        country_alpha2 = pc.country_name_to_country_alpha2(country_name)\n",
        "        country_continent_code = pc.country_alpha2_to_continent_code(country_alpha2)\n",
        "        country_continent_name = pc.convert_continent_code_to_continent_name(country_continent_code)\n",
        "        return country_continent_name\n",
        "        break\n",
        "      except KeyError:\n",
        "        return 'Unknown'\n",
        "    \n",
        "resul['continent'] = resul['location.country'].apply(country_to_continent)"
      ],
      "execution_count": null,
      "outputs": []
    },
    {
      "cell_type": "code",
      "metadata": {
        "id": "0F4puHQFw7I4"
      },
      "source": [
        ""
      ],
      "execution_count": null,
      "outputs": []
    },
    {
      "cell_type": "code",
      "metadata": {
        "colab": {
          "base_uri": "https://localhost:8080/"
        },
        "id": "SnTzDPm_pAvf",
        "outputId": "c771add8-4fd7-43cd-87eb-8e96d50ddb38"
      },
      "source": [
        "#We can create dummy variables\n",
        "resul = pd.get_dummies(resul, columns=['sector_cat','continent'], prefix = ['sector','continent'])\n",
        "resul.info()"
      ],
      "execution_count": null,
      "outputs": [
        {
          "output_type": "stream",
          "text": [
            "<class 'pandas.core.frame.DataFrame'>\n",
            "Int64Index: 3117 entries, 0 to 5000\n",
            "Data columns (total 33 columns):\n",
            " #   Column                           Non-Null Count  Dtype   \n",
            "---  ------                           --------------  -----   \n",
            " 0   id                               3117 non-null   object  \n",
            " 1   funded_amount                    3117 non-null   float32 \n",
            " 2   status                           3117 non-null   object  \n",
            " 3   sector                           3117 non-null   category\n",
            " 4   location.country                 3117 non-null   category\n",
            " 5   location.town                    3117 non-null   category\n",
            " 6   terms.disbursal_date             3117 non-null   category\n",
            " 7   terms.loss_liability.nonpayment  3117 non-null   int8    \n",
            " 8   posted_date                      3117 non-null   category\n",
            " 9   funded_date                      3117 non-null   category\n",
            " 10  amount                           3117 non-null   float64 \n",
            " 11  borrowers.gender                 3117 non-null   int8    \n",
            " 12  borrowers.pictured               3117 non-null   int8    \n",
            " 13  journal_totals.entries           3117 non-null   float64 \n",
            " 14  close_date                       3117 non-null   category\n",
            " 15  target                           3117 non-null   int64   \n",
            " 16  sector_Agriculture               3117 non-null   uint8   \n",
            " 17  sector_Arts                      3117 non-null   uint8   \n",
            " 18  sector_Clothing                  3117 non-null   uint8   \n",
            " 19  sector_Construction              3117 non-null   uint8   \n",
            " 20  sector_Food                      3117 non-null   uint8   \n",
            " 21  sector_Manufacturing             3117 non-null   uint8   \n",
            " 22  sector_Other                     3117 non-null   uint8   \n",
            " 23  sector_Retail                    3117 non-null   uint8   \n",
            " 24  sector_Services                  3117 non-null   uint8   \n",
            " 25  sector_Transportation            3117 non-null   uint8   \n",
            " 26  continent_Africa                 3117 non-null   uint8   \n",
            " 27  continent_Asia                   3117 non-null   uint8   \n",
            " 28  continent_Europe                 3117 non-null   uint8   \n",
            " 29  continent_North America          3117 non-null   uint8   \n",
            " 30  continent_Oceania                3117 non-null   uint8   \n",
            " 31  continent_South America          3117 non-null   uint8   \n",
            " 32  continent_Unknown                3117 non-null   uint8   \n",
            "dtypes: category(7), float32(1), float64(2), int64(1), int8(3), object(2), uint8(17)\n",
            "memory usage: 470.2+ KB\n"
          ],
          "name": "stdout"
        }
      ]
    },
    {
      "cell_type": "code",
      "metadata": {
        "colab": {
          "base_uri": "https://localhost:8080/",
          "height": 556
        },
        "id": "ncgTh7I9rTcs",
        "outputId": "a68ba882-dd83-48c1-ecce-db1709d94715"
      },
      "source": [
        "resul"
      ],
      "execution_count": null,
      "outputs": [
        {
          "output_type": "execute_result",
          "data": {
            "text/html": [
              "<div>\n",
              "<style scoped>\n",
              "    .dataframe tbody tr th:only-of-type {\n",
              "        vertical-align: middle;\n",
              "    }\n",
              "\n",
              "    .dataframe tbody tr th {\n",
              "        vertical-align: top;\n",
              "    }\n",
              "\n",
              "    .dataframe thead th {\n",
              "        text-align: right;\n",
              "    }\n",
              "</style>\n",
              "<table border=\"1\" class=\"dataframe\">\n",
              "  <thead>\n",
              "    <tr style=\"text-align: right;\">\n",
              "      <th></th>\n",
              "      <th>id</th>\n",
              "      <th>funded_amount</th>\n",
              "      <th>status</th>\n",
              "      <th>sector</th>\n",
              "      <th>location.country</th>\n",
              "      <th>location.town</th>\n",
              "      <th>terms.disbursal_date</th>\n",
              "      <th>terms.loss_liability.nonpayment</th>\n",
              "      <th>posted_date</th>\n",
              "      <th>funded_date</th>\n",
              "      <th>amount</th>\n",
              "      <th>borrowers.gender</th>\n",
              "      <th>borrowers.pictured</th>\n",
              "      <th>journal_totals.entries</th>\n",
              "      <th>close_date</th>\n",
              "      <th>target</th>\n",
              "      <th>sector_Agriculture</th>\n",
              "      <th>sector_Arts</th>\n",
              "      <th>sector_Clothing</th>\n",
              "      <th>sector_Construction</th>\n",
              "      <th>sector_Food</th>\n",
              "      <th>sector_Manufacturing</th>\n",
              "      <th>sector_Other</th>\n",
              "      <th>sector_Retail</th>\n",
              "      <th>sector_Services</th>\n",
              "      <th>sector_Transportation</th>\n",
              "      <th>continent_Africa</th>\n",
              "      <th>continent_Asia</th>\n",
              "      <th>continent_Europe</th>\n",
              "      <th>continent_North America</th>\n",
              "      <th>continent_Oceania</th>\n",
              "      <th>continent_South America</th>\n",
              "      <th>continent_Unknown</th>\n",
              "    </tr>\n",
              "  </thead>\n",
              "  <tbody>\n",
              "    <tr>\n",
              "      <th>0</th>\n",
              "      <td>156</td>\n",
              "      <td>500.0</td>\n",
              "      <td>paid</td>\n",
              "      <td>Construction</td>\n",
              "      <td>Nicaragua</td>\n",
              "      <td>Managua</td>\n",
              "      <td>14/04/2005</td>\n",
              "      <td>1</td>\n",
              "      <td>15/02/2006</td>\n",
              "      <td>31/03/2005</td>\n",
              "      <td>50.00</td>\n",
              "      <td>1</td>\n",
              "      <td>0</td>\n",
              "      <td>1.0</td>\n",
              "      <td>16/09/2006</td>\n",
              "      <td>0</td>\n",
              "      <td>0</td>\n",
              "      <td>0</td>\n",
              "      <td>0</td>\n",
              "      <td>1</td>\n",
              "      <td>0</td>\n",
              "      <td>0</td>\n",
              "      <td>0</td>\n",
              "      <td>0</td>\n",
              "      <td>0</td>\n",
              "      <td>0</td>\n",
              "      <td>0</td>\n",
              "      <td>0</td>\n",
              "      <td>0</td>\n",
              "      <td>1</td>\n",
              "      <td>0</td>\n",
              "      <td>0</td>\n",
              "      <td>0</td>\n",
              "    </tr>\n",
              "    <tr>\n",
              "      <th>1</th>\n",
              "      <td>173</td>\n",
              "      <td>600.0</td>\n",
              "      <td>defaulted</td>\n",
              "      <td>Construction</td>\n",
              "      <td>Gaza</td>\n",
              "      <td>Rafah</td>\n",
              "      <td>14/04/2005</td>\n",
              "      <td>0</td>\n",
              "      <td>15/02/2006</td>\n",
              "      <td>31/03/2005</td>\n",
              "      <td>50.00</td>\n",
              "      <td>1</td>\n",
              "      <td>0</td>\n",
              "      <td>7.0</td>\n",
              "      <td>11/09/2007</td>\n",
              "      <td>1</td>\n",
              "      <td>0</td>\n",
              "      <td>0</td>\n",
              "      <td>0</td>\n",
              "      <td>1</td>\n",
              "      <td>0</td>\n",
              "      <td>0</td>\n",
              "      <td>0</td>\n",
              "      <td>0</td>\n",
              "      <td>0</td>\n",
              "      <td>0</td>\n",
              "      <td>0</td>\n",
              "      <td>0</td>\n",
              "      <td>0</td>\n",
              "      <td>0</td>\n",
              "      <td>0</td>\n",
              "      <td>0</td>\n",
              "      <td>1</td>\n",
              "    </tr>\n",
              "    <tr>\n",
              "      <th>2</th>\n",
              "      <td>183</td>\n",
              "      <td>500.0</td>\n",
              "      <td>paid</td>\n",
              "      <td>Food</td>\n",
              "      <td>Honduras</td>\n",
              "      <td>Siguatepeque</td>\n",
              "      <td>14/04/2005</td>\n",
              "      <td>1</td>\n",
              "      <td>15/03/2006</td>\n",
              "      <td>31/03/2005</td>\n",
              "      <td>35.00</td>\n",
              "      <td>0</td>\n",
              "      <td>0</td>\n",
              "      <td>2.0</td>\n",
              "      <td>21/11/2006</td>\n",
              "      <td>0</td>\n",
              "      <td>0</td>\n",
              "      <td>0</td>\n",
              "      <td>0</td>\n",
              "      <td>0</td>\n",
              "      <td>1</td>\n",
              "      <td>0</td>\n",
              "      <td>0</td>\n",
              "      <td>0</td>\n",
              "      <td>0</td>\n",
              "      <td>0</td>\n",
              "      <td>0</td>\n",
              "      <td>0</td>\n",
              "      <td>0</td>\n",
              "      <td>1</td>\n",
              "      <td>0</td>\n",
              "      <td>0</td>\n",
              "      <td>0</td>\n",
              "    </tr>\n",
              "    <tr>\n",
              "      <th>4</th>\n",
              "      <td>200</td>\n",
              "      <td>575.0</td>\n",
              "      <td>paid</td>\n",
              "      <td>Services</td>\n",
              "      <td>Kenya</td>\n",
              "      <td>Ongata Rongai</td>\n",
              "      <td>14/04/2005</td>\n",
              "      <td>1</td>\n",
              "      <td>15/03/2006</td>\n",
              "      <td>31/03/2005</td>\n",
              "      <td>114.00</td>\n",
              "      <td>0</td>\n",
              "      <td>0</td>\n",
              "      <td>2.0</td>\n",
              "      <td>02/05/2007</td>\n",
              "      <td>0</td>\n",
              "      <td>0</td>\n",
              "      <td>0</td>\n",
              "      <td>0</td>\n",
              "      <td>0</td>\n",
              "      <td>0</td>\n",
              "      <td>0</td>\n",
              "      <td>0</td>\n",
              "      <td>0</td>\n",
              "      <td>1</td>\n",
              "      <td>0</td>\n",
              "      <td>1</td>\n",
              "      <td>0</td>\n",
              "      <td>0</td>\n",
              "      <td>0</td>\n",
              "      <td>0</td>\n",
              "      <td>0</td>\n",
              "      <td>0</td>\n",
              "    </tr>\n",
              "    <tr>\n",
              "      <th>5</th>\n",
              "      <td>213</td>\n",
              "      <td>225.0</td>\n",
              "      <td>paid</td>\n",
              "      <td>Food</td>\n",
              "      <td>Honduras</td>\n",
              "      <td>Danli</td>\n",
              "      <td>14/04/2005</td>\n",
              "      <td>1</td>\n",
              "      <td>15/03/2006</td>\n",
              "      <td>31/03/2005</td>\n",
              "      <td>40.00</td>\n",
              "      <td>1</td>\n",
              "      <td>0</td>\n",
              "      <td>1.0</td>\n",
              "      <td>28/11/2006</td>\n",
              "      <td>0</td>\n",
              "      <td>0</td>\n",
              "      <td>0</td>\n",
              "      <td>0</td>\n",
              "      <td>0</td>\n",
              "      <td>1</td>\n",
              "      <td>0</td>\n",
              "      <td>0</td>\n",
              "      <td>0</td>\n",
              "      <td>0</td>\n",
              "      <td>0</td>\n",
              "      <td>0</td>\n",
              "      <td>0</td>\n",
              "      <td>0</td>\n",
              "      <td>1</td>\n",
              "      <td>0</td>\n",
              "      <td>0</td>\n",
              "      <td>0</td>\n",
              "    </tr>\n",
              "    <tr>\n",
              "      <th>...</th>\n",
              "      <td>...</td>\n",
              "      <td>...</td>\n",
              "      <td>...</td>\n",
              "      <td>...</td>\n",
              "      <td>...</td>\n",
              "      <td>...</td>\n",
              "      <td>...</td>\n",
              "      <td>...</td>\n",
              "      <td>...</td>\n",
              "      <td>...</td>\n",
              "      <td>...</td>\n",
              "      <td>...</td>\n",
              "      <td>...</td>\n",
              "      <td>...</td>\n",
              "      <td>...</td>\n",
              "      <td>...</td>\n",
              "      <td>...</td>\n",
              "      <td>...</td>\n",
              "      <td>...</td>\n",
              "      <td>...</td>\n",
              "      <td>...</td>\n",
              "      <td>...</td>\n",
              "      <td>...</td>\n",
              "      <td>...</td>\n",
              "      <td>...</td>\n",
              "      <td>...</td>\n",
              "      <td>...</td>\n",
              "      <td>...</td>\n",
              "      <td>...</td>\n",
              "      <td>...</td>\n",
              "      <td>...</td>\n",
              "      <td>...</td>\n",
              "      <td>...</td>\n",
              "    </tr>\n",
              "    <tr>\n",
              "      <th>4994</th>\n",
              "      <td>102400</td>\n",
              "      <td>150.0</td>\n",
              "      <td>paid</td>\n",
              "      <td>Retail</td>\n",
              "      <td>Philippines</td>\n",
              "      <td>Purok 9b Kiwalan.  Iligan City</td>\n",
              "      <td>15/04/2009</td>\n",
              "      <td>1</td>\n",
              "      <td>17/04/2009</td>\n",
              "      <td>17/04/2009</td>\n",
              "      <td>7.89</td>\n",
              "      <td>0</td>\n",
              "      <td>0</td>\n",
              "      <td>2.0</td>\n",
              "      <td>15/09/2009</td>\n",
              "      <td>0</td>\n",
              "      <td>0</td>\n",
              "      <td>0</td>\n",
              "      <td>0</td>\n",
              "      <td>0</td>\n",
              "      <td>0</td>\n",
              "      <td>0</td>\n",
              "      <td>0</td>\n",
              "      <td>1</td>\n",
              "      <td>0</td>\n",
              "      <td>0</td>\n",
              "      <td>0</td>\n",
              "      <td>1</td>\n",
              "      <td>0</td>\n",
              "      <td>0</td>\n",
              "      <td>0</td>\n",
              "      <td>0</td>\n",
              "      <td>0</td>\n",
              "    </tr>\n",
              "    <tr>\n",
              "      <th>4995</th>\n",
              "      <td>102453</td>\n",
              "      <td>350.0</td>\n",
              "      <td>paid</td>\n",
              "      <td>Food</td>\n",
              "      <td>Nigeria</td>\n",
              "      <td>Lagos State</td>\n",
              "      <td>01/04/2009</td>\n",
              "      <td>1</td>\n",
              "      <td>17/04/2009</td>\n",
              "      <td>17/04/2009</td>\n",
              "      <td>43.75</td>\n",
              "      <td>0</td>\n",
              "      <td>0</td>\n",
              "      <td>1.0</td>\n",
              "      <td>15/12/2009</td>\n",
              "      <td>0</td>\n",
              "      <td>0</td>\n",
              "      <td>0</td>\n",
              "      <td>0</td>\n",
              "      <td>0</td>\n",
              "      <td>1</td>\n",
              "      <td>0</td>\n",
              "      <td>0</td>\n",
              "      <td>0</td>\n",
              "      <td>0</td>\n",
              "      <td>0</td>\n",
              "      <td>1</td>\n",
              "      <td>0</td>\n",
              "      <td>0</td>\n",
              "      <td>0</td>\n",
              "      <td>0</td>\n",
              "      <td>0</td>\n",
              "      <td>0</td>\n",
              "    </tr>\n",
              "    <tr>\n",
              "      <th>4998</th>\n",
              "      <td>102713</td>\n",
              "      <td>225.0</td>\n",
              "      <td>paid</td>\n",
              "      <td>Agriculture</td>\n",
              "      <td>Philippines</td>\n",
              "      <td>Cebulin. Plaridel. Misamis Occidental</td>\n",
              "      <td>20/03/2009</td>\n",
              "      <td>1</td>\n",
              "      <td>18/04/2009</td>\n",
              "      <td>18/04/2009</td>\n",
              "      <td>28.12</td>\n",
              "      <td>0</td>\n",
              "      <td>0</td>\n",
              "      <td>2.0</td>\n",
              "      <td>15/09/2009</td>\n",
              "      <td>0</td>\n",
              "      <td>1</td>\n",
              "      <td>0</td>\n",
              "      <td>0</td>\n",
              "      <td>0</td>\n",
              "      <td>0</td>\n",
              "      <td>0</td>\n",
              "      <td>0</td>\n",
              "      <td>0</td>\n",
              "      <td>0</td>\n",
              "      <td>0</td>\n",
              "      <td>0</td>\n",
              "      <td>1</td>\n",
              "      <td>0</td>\n",
              "      <td>0</td>\n",
              "      <td>0</td>\n",
              "      <td>0</td>\n",
              "      <td>0</td>\n",
              "    </tr>\n",
              "    <tr>\n",
              "      <th>4999</th>\n",
              "      <td>102744</td>\n",
              "      <td>75.0</td>\n",
              "      <td>paid</td>\n",
              "      <td>Clothing</td>\n",
              "      <td>Philippines</td>\n",
              "      <td>Bacolod. Ozamiz City. Mis. Occ.</td>\n",
              "      <td>31/03/2009</td>\n",
              "      <td>1</td>\n",
              "      <td>18/04/2009</td>\n",
              "      <td>18/04/2009</td>\n",
              "      <td>12.05</td>\n",
              "      <td>0</td>\n",
              "      <td>0</td>\n",
              "      <td>2.0</td>\n",
              "      <td>16/10/2009</td>\n",
              "      <td>0</td>\n",
              "      <td>0</td>\n",
              "      <td>0</td>\n",
              "      <td>1</td>\n",
              "      <td>0</td>\n",
              "      <td>0</td>\n",
              "      <td>0</td>\n",
              "      <td>0</td>\n",
              "      <td>0</td>\n",
              "      <td>0</td>\n",
              "      <td>0</td>\n",
              "      <td>0</td>\n",
              "      <td>1</td>\n",
              "      <td>0</td>\n",
              "      <td>0</td>\n",
              "      <td>0</td>\n",
              "      <td>0</td>\n",
              "      <td>0</td>\n",
              "    </tr>\n",
              "    <tr>\n",
              "      <th>5000</th>\n",
              "      <td>102950</td>\n",
              "      <td>475.0</td>\n",
              "      <td>paid</td>\n",
              "      <td>Food</td>\n",
              "      <td>Nigeria</td>\n",
              "      <td>Benin City</td>\n",
              "      <td>17/04/2009</td>\n",
              "      <td>1</td>\n",
              "      <td>20/04/2009</td>\n",
              "      <td>20/04/2009</td>\n",
              "      <td>59.38</td>\n",
              "      <td>0</td>\n",
              "      <td>0</td>\n",
              "      <td>1.0</td>\n",
              "      <td>15/01/2010</td>\n",
              "      <td>0</td>\n",
              "      <td>0</td>\n",
              "      <td>0</td>\n",
              "      <td>0</td>\n",
              "      <td>0</td>\n",
              "      <td>1</td>\n",
              "      <td>0</td>\n",
              "      <td>0</td>\n",
              "      <td>0</td>\n",
              "      <td>0</td>\n",
              "      <td>0</td>\n",
              "      <td>1</td>\n",
              "      <td>0</td>\n",
              "      <td>0</td>\n",
              "      <td>0</td>\n",
              "      <td>0</td>\n",
              "      <td>0</td>\n",
              "      <td>0</td>\n",
              "    </tr>\n",
              "  </tbody>\n",
              "</table>\n",
              "<p>3117 rows × 33 columns</p>\n",
              "</div>"
            ],
            "text/plain": [
              "          id  funded_amount  ... continent_South America continent_Unknown\n",
              "0        156          500.0  ...                       0                 0\n",
              "1        173          600.0  ...                       0                 1\n",
              "2        183          500.0  ...                       0                 0\n",
              "4        200          575.0  ...                       0                 0\n",
              "5        213          225.0  ...                       0                 0\n",
              "...      ...            ...  ...                     ...               ...\n",
              "4994  102400          150.0  ...                       0                 0\n",
              "4995  102453          350.0  ...                       0                 0\n",
              "4998  102713          225.0  ...                       0                 0\n",
              "4999  102744           75.0  ...                       0                 0\n",
              "5000  102950          475.0  ...                       0                 0\n",
              "\n",
              "[3117 rows x 33 columns]"
            ]
          },
          "metadata": {
            "tags": []
          },
          "execution_count": 60
        }
      ]
    },
    {
      "cell_type": "markdown",
      "metadata": {
        "id": "SvPtb6K8fP7N"
      },
      "source": [
        "# Prediction model"
      ]
    },
    {
      "cell_type": "markdown",
      "metadata": {
        "id": "swg7nu_2fP7N"
      },
      "source": [
        "## re-sampling"
      ]
    },
    {
      "cell_type": "markdown",
      "metadata": {
        "id": "l7GZ9E3HfP7N"
      },
      "source": [
        "As we saw in statistic of the target variable, we only have 100 defaulted observation,\n",
        "that is while we are going to re-sample the dataset to have at list the same number of\n",
        "inrepayment and default."
      ]
    },
    {
      "cell_type": "code",
      "metadata": {
        "colab": {
          "base_uri": "https://localhost:8080/"
        },
        "id": "EGJPBGVVfP7N",
        "outputId": "4a702414-3ad7-49e1-fcbd-cee04fd72103"
      },
      "source": [
        "resul.target.unique()"
      ],
      "execution_count": null,
      "outputs": [
        {
          "output_type": "execute_result",
          "data": {
            "text/plain": [
              "array([0, 1])"
            ]
          },
          "metadata": {
            "tags": []
          },
          "execution_count": 61
        }
      ]
    },
    {
      "cell_type": "code",
      "metadata": {
        "colab": {
          "base_uri": "https://localhost:8080/"
        },
        "id": "pUnCXEe1fP7N",
        "outputId": "09a06c24-456a-4102-abfd-88f1fbe415fe"
      },
      "source": [
        "data_def = resul.loc[resul.target==1]\n",
        "data_rep = resul.loc[resul.target==0]\n",
        "print('Base repayment : ', data_rep.shape,'\\nBase default : ',data_def.shape)"
      ],
      "execution_count": null,
      "outputs": [
        {
          "output_type": "stream",
          "text": [
            "Base repayment :  (3017, 33) \n",
            "Base default :  (100, 33)\n"
          ],
          "name": "stdout"
        }
      ]
    },
    {
      "cell_type": "code",
      "metadata": {
        "id": "-oYN6pI8fP7O"
      },
      "source": [
        "data_rep = data_rep.sample(n=100, replace = False)"
      ],
      "execution_count": null,
      "outputs": []
    },
    {
      "cell_type": "code",
      "metadata": {
        "id": "F_PMFkGufP7O"
      },
      "source": [
        "final = data_def.append(data_rep)"
      ],
      "execution_count": null,
      "outputs": []
    },
    {
      "cell_type": "code",
      "metadata": {
        "colab": {
          "base_uri": "https://localhost:8080/"
        },
        "id": "K4w1d9RSfP7O",
        "outputId": "dc73bef2-450d-4c4d-b0d8-7f5b0f3f5b72"
      },
      "source": [
        "pd.crosstab(final.target,'y')"
      ],
      "execution_count": null,
      "outputs": [
        {
          "output_type": "execute_result",
          "data": {
            "text/html": [
              "<div>\n",
              "<style scoped>\n",
              "    .dataframe tbody tr th:only-of-type {\n",
              "        vertical-align: middle;\n",
              "    }\n",
              "\n",
              "    .dataframe tbody tr th {\n",
              "        vertical-align: top;\n",
              "    }\n",
              "\n",
              "    .dataframe thead th {\n",
              "        text-align: right;\n",
              "    }\n",
              "</style>\n",
              "<table border=\"1\" class=\"dataframe\">\n",
              "  <thead>\n",
              "    <tr style=\"text-align: right;\">\n",
              "      <th>col_0</th>\n",
              "      <th>y</th>\n",
              "    </tr>\n",
              "    <tr>\n",
              "      <th>target</th>\n",
              "      <th></th>\n",
              "    </tr>\n",
              "  </thead>\n",
              "  <tbody>\n",
              "    <tr>\n",
              "      <th>0</th>\n",
              "      <td>100</td>\n",
              "    </tr>\n",
              "    <tr>\n",
              "      <th>1</th>\n",
              "      <td>100</td>\n",
              "    </tr>\n",
              "  </tbody>\n",
              "</table>\n",
              "</div>"
            ],
            "text/plain": [
              "col_0     y\n",
              "target     \n",
              "0       100\n",
              "1       100"
            ]
          },
          "metadata": {
            "tags": []
          },
          "execution_count": 65
        }
      ]
    },
    {
      "cell_type": "markdown",
      "metadata": {
        "id": "TAucGXR0fP7O"
      },
      "source": [
        "# Modelisation"
      ]
    },
    {
      "cell_type": "code",
      "metadata": {
        "id": "72Oo28C-fP7O"
      },
      "source": [
        "import statsmodels.api as sm\n",
        "from sklearn.model_selection import train_test_split\n",
        "from statsmodels.discrete.discrete_model import Probit\n",
        "from statsmodels.api import Logit\n",
        "from sklearn.linear_model import LogisticRegression\n",
        "from sklearn.model_selection import train_test_split\n",
        "from sklearn import metrics"
      ],
      "execution_count": null,
      "outputs": []
    },
    {
      "cell_type": "code",
      "metadata": {
        "id": "JAZUYmqFfP7O"
      },
      "source": [
        "Y = final['target']\n",
        "X = final.drop(['id','target','status','location.town','location.country','sector', 'sector_Agriculture', 'continent_Africa'], axis=1)\n",
        "X = X.drop(date_var, axis=1)\n",
        "X_train,X_test,Y_train,Y_test=train_test_split(X,Y,test_size=0.25,random_state=0)"
      ],
      "execution_count": null,
      "outputs": []
    },
    {
      "cell_type": "code",
      "metadata": {
        "colab": {
          "base_uri": "https://localhost:8080/"
        },
        "id": "pVuh-GJvfP7O",
        "outputId": "2bed0fe6-ec56-4f31-f2ae-28537ffa1feb"
      },
      "source": [
        "print(X_train.shape)\n",
        "print(X_test.shape)"
      ],
      "execution_count": null,
      "outputs": [
        {
          "output_type": "stream",
          "text": [
            "(150, 21)\n",
            "(50, 21)\n"
          ],
          "name": "stdout"
        }
      ]
    },
    {
      "cell_type": "code",
      "metadata": {
        "id": "Qz9-1HB-vyLv"
      },
      "source": [
        ""
      ],
      "execution_count": null,
      "outputs": []
    },
    {
      "cell_type": "code",
      "metadata": {
        "colab": {
          "base_uri": "https://localhost:8080/"
        },
        "id": "3Q-R2VSIvJiH",
        "outputId": "a990879f-b9af-407f-ed6d-2aceccdb7596"
      },
      "source": [
        "## Confusion matrix \n",
        "logreg = LogisticRegression()\n",
        "logreg.fit(X_train,Y_train)\n",
        "Y_pred=logreg.predict(X_test)\n",
        "cnf_matrix = metrics.confusion_matrix(Y_test,Y_pred)\n",
        "cnf_matrix"
      ],
      "execution_count": null,
      "outputs": [
        {
          "output_type": "stream",
          "text": [
            "/usr/local/lib/python3.6/dist-packages/sklearn/linear_model/_logistic.py:940: ConvergenceWarning: lbfgs failed to converge (status=1):\n",
            "STOP: TOTAL NO. of ITERATIONS REACHED LIMIT.\n",
            "\n",
            "Increase the number of iterations (max_iter) or scale the data as shown in:\n",
            "    https://scikit-learn.org/stable/modules/preprocessing.html\n",
            "Please also refer to the documentation for alternative solver options:\n",
            "    https://scikit-learn.org/stable/modules/linear_model.html#logistic-regression\n",
            "  extra_warning_msg=_LOGISTIC_SOLVER_CONVERGENCE_MSG)\n"
          ],
          "name": "stderr"
        },
        {
          "output_type": "execute_result",
          "data": {
            "text/plain": [
              "array([[26,  1],\n",
              "       [ 4, 19]])"
            ]
          },
          "metadata": {
            "tags": []
          },
          "execution_count": 69
        }
      ]
    },
    {
      "cell_type": "code",
      "metadata": {
        "colab": {
          "base_uri": "https://localhost:8080/",
          "height": 342
        },
        "id": "Z3w4QDOE-iB3",
        "outputId": "2a859ca2-741c-4ef6-96a0-fbbc31f20f62"
      },
      "source": [
        "class_names=[0,1] # name  of classes\n",
        "fig, ax = plt.subplots()\n",
        "tick_marks = np.arange(len(class_names))\n",
        "plt.xticks(tick_marks, class_names)\n",
        "plt.yticks(tick_marks, class_names)\n",
        "# create heatmap\n",
        "sns.heatmap(pd.DataFrame(cnf_matrix), annot=True, cmap=\"YlGnBu\" ,fmt='g')\n",
        "ax.xaxis.set_label_position(\"top\")\n",
        "plt.tight_layout()\n",
        "plt.title('Confusion matrix', y=1.1)\n",
        "plt.ylabel('Actual label')\n",
        "plt.xlabel('Predicted label')"
      ],
      "execution_count": null,
      "outputs": [
        {
          "output_type": "execute_result",
          "data": {
            "text/plain": [
              "Text(0.5, 257.44, 'Predicted label')"
            ]
          },
          "metadata": {
            "tags": []
          },
          "execution_count": 70
        },
        {
          "output_type": "display_data",
          "data": {
            "image/png": "[encoded data removed]",
            "text/plain": [
              "<Figure size 432x288 with 2 Axes>"
            ]
          },
          "metadata": {
            "tags": []
          }
        }
      ]
    },
    {
      "cell_type": "code",
      "metadata": {
        "colab": {
          "base_uri": "https://localhost:8080/"
        },
        "id": "usK4M2yG_Nze",
        "outputId": "d9d94027-b251-412b-ed11-7da296a22b3e"
      },
      "source": [
        "print(\"Accuracy:\",metrics.accuracy_score(Y_test,Y_pred))\n",
        "print(\"Precision:\",metrics.precision_score(Y_test,Y_pred))\n",
        "print(\"Recall:\",metrics.recall_score(Y_test,Y_pred))"
      ],
      "execution_count": null,
      "outputs": [
        {
          "output_type": "stream",
          "text": [
            "Accuracy: 0.9\n",
            "Precision: 0.95\n",
            "Recall: 0.8260869565217391\n"
          ],
          "name": "stdout"
        }
      ]
    },
    {
      "cell_type": "code",
      "metadata": {
        "colab": {
          "base_uri": "https://localhost:8080/",
          "height": 265
        },
        "id": "HykCB9dqfP7P",
        "outputId": "c6b20b61-643e-474f-b0b4-570a487390b9"
      },
      "source": [
        "# ROC Curve\n",
        "Y_pred_proba = logreg.predict_proba(X_test)[::,1]\n",
        "fpr, tpr, _ = metrics.roc_curve(Y_test,  Y_pred_proba)\n",
        "auc = metrics.roc_auc_score(Y_test, Y_pred_proba)\n",
        "plt.plot(fpr,tpr,label=\"Logit model, AUC=\"+str(auc))\n",
        "plt.legend(loc=4)\n",
        "plt.show()"
      ],
      "execution_count": null,
      "outputs": [
        {
          "output_type": "display_data",
          "data": {
            "image/png": "[encoded data removed]",
            "text/plain": [
              "<Figure size 432x288 with 1 Axes>"
            ]
          },
          "metadata": {
            "tags": []
          }
        }
      ]
    },
    {
      "cell_type": "markdown",
      "metadata": {
        "id": "K6qyfPyofP7M"
      },
      "source": [
        "# Statistique Descriptive"
      ]
    },
    {
      "cell_type": "code",
      "metadata": {
        "colab": {
          "base_uri": "https://localhost:8080/",
          "height": 162
        },
        "id": "609SlIhcfP7M",
        "outputId": "dbfe8f52-8624-484b-e916-3266866daa7c"
      },
      "source": [
        "data_loan.describe()"
      ],
      "execution_count": null,
      "outputs": [
        {
          "output_type": "error",
          "ename": "NameError",
          "evalue": "ignored",
          "traceback": [
            "\u001b[0;31m---------------------------------------------------------------------------\u001b[0m",
            "\u001b[0;31mNameError\u001b[0m                                 Traceback (most recent call last)",
            "\u001b[0;32m<ipython-input-73-3be308cd050f>\u001b[0m in \u001b[0;36m<module>\u001b[0;34m()\u001b[0m\n\u001b[0;32m----> 1\u001b[0;31m \u001b[0mdata_loan\u001b[0m\u001b[0;34m.\u001b[0m\u001b[0mdescribe\u001b[0m\u001b[0;34m(\u001b[0m\u001b[0;34m)\u001b[0m\u001b[0;34m\u001b[0m\u001b[0;34m\u001b[0m\u001b[0m\n\u001b[0m",
            "\u001b[0;31mNameError\u001b[0m: name 'data_loan' is not defined"
          ]
        }
      ]
    },
    {
      "cell_type": "code",
      "metadata": {
        "id": "qMy-zYslfP7M"
      },
      "source": [
        "label_counts = data_loan['borrowers.gender'].value_counts()\n",
        "plt.figure(figsize = (4,5))\n",
        "sns.barplot(label_counts.index, label_counts.values, alpha = 0.9)\n",
        "\n",
        "plt.xticks(rotation = 'vertical')\n",
        "plt.xlabel('Gender', fontsize =12)\n",
        "plt.ylabel('Counts', fontsize = 12)\n",
        "plt.show()"
      ],
      "execution_count": null,
      "outputs": []
    },
    {
      "cell_type": "code",
      "metadata": {
        "id": "a89dO0xQfP7M"
      },
      "source": [
        "data_loan.groupby('target').funded_amount.describe()"
      ],
      "execution_count": null,
      "outputs": []
    },
    {
      "cell_type": "code",
      "metadata": {
        "id": "ddazbyAGfP7N"
      },
      "source": [
        "data_loan.groupby('target').paid_amount.describe()"
      ],
      "execution_count": null,
      "outputs": []
    },
    {
      "cell_type": "code",
      "metadata": {
        "id": "TDZkO0BKfP7N"
      },
      "source": [
        "data_loan.groupby('target').amount.describe()"
      ],
      "execution_count": null,
      "outputs": []
    },
    {
      "cell_type": "code",
      "metadata": {
        "id": "00QW7ZxGfP7N"
      },
      "source": [
        "plt.rcParams['figure.figsize'] = (10, 7)\n",
        "sns.boxenplot(x = data_loan['target'], y = data_loan['amount'])\n",
        "plt.title('Relation between target and amount', fontsize = 20)\n",
        "plt.show()"
      ],
      "execution_count": null,
      "outputs": []
    },
    {
      "cell_type": "code",
      "metadata": {
        "id": "mdk5ixfyfP7N"
      },
      "source": [
        "data_loan.funded_amount.hist(bins = 20)"
      ],
      "execution_count": null,
      "outputs": []
    },
    {
      "cell_type": "code",
      "metadata": {
        "id": "t5JcKjxAfP7N"
      },
      "source": [
        "from sklearn import preprocessing"
      ],
      "execution_count": null,
      "outputs": []
    },
    {
      "cell_type": "code",
      "metadata": {
        "id": "MXTN7Z6tfP7N"
      },
      "source": [
        ""
      ],
      "execution_count": null,
      "outputs": []
    },
    {
      "cell_type": "code",
      "metadata": {
        "id": "ecjj6GUgfP7N"
      },
      "source": [
        "scaler = preprocessing.Normalizer().fit(data_loan['funded_amount'].dropna(how = \"any\").head(1000))\n",
        "X1 = scaler.transform(data_loan['funded_amount'].dropna(how = \"any\").head(1000))\n"
      ],
      "execution_count": null,
      "outputs": []
    },
    {
      "cell_type": "code",
      "metadata": {
        "id": "onBf_2JKfP7N"
      },
      "source": [
        ""
      ],
      "execution_count": null,
      "outputs": []
    },
    {
      "cell_type": "code",
      "metadata": {
        "id": "0zVYxfI_J_nb"
      },
      "source": [
        ""
      ],
      "execution_count": null,
      "outputs": []
    },
    {
      "cell_type": "code",
      "metadata": {
        "id": "1pePyXw5Pa2D"
      },
      "source": [
        ""
      ],
      "execution_count": null,
      "outputs": []
    },
    {
      "cell_type": "code",
      "metadata": {
        "id": "UWWY5T9RTugZ"
      },
      "source": [
        ""
      ],
      "execution_count": null,
      "outputs": []
    }
  ]
}