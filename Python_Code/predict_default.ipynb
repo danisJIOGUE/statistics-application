{
 "cells": [
  {
   "cell_type": "code",
   "execution_count": 5,
   "metadata": {},
   "outputs": [],
   "source": [
    "import pandas as pd\n",
    "import numpy as np\n",
    "import matplotlib.pyplot as plt"
   ]
  },
  {
   "cell_type": "code",
   "execution_count": 2,
   "metadata": {},
   "outputs": [
    {
     "data": {
      "text/plain": [
       "{'encoding': 'ISO-8859-1', 'confidence': 0.7291077209623456, 'language': ''}"
      ]
     },
     "execution_count": 2,
     "metadata": {},
     "output_type": "execute_result"
    }
   ],
   "source": [
    "#Detection of the dataset'encoding\n",
    "import chardet\n",
    "\n",
    "#Loan dataset\n",
    "with open(\"database/loans.csv\", 'rb') as f:\n",
    "    c = f.read()\n",
    "chardet.detect(c)"
   ]
  },
  {
   "cell_type": "code",
   "execution_count": 6,
   "metadata": {},
   "outputs": [
    {
     "name": "stderr",
     "output_type": "stream",
     "text": [
      "C:\\Users\\pc\\anaconda3\\lib\\site-packages\\IPython\\core\\interactiveshell.py:3063: DtypeWarning: Columns (0,3,4,11,30,32,38) have mixed types.Specify dtype option on import or set low_memory=False.\n",
      "  interactivity=interactivity, compiler=compiler, result=result)\n"
     ]
    }
   ],
   "source": [
    "loan = pd.read_csv('database/loans.csv', encoding ='ISO-8859-1',  sep=\";\")"
   ]
  },
  {
   "cell_type": "code",
   "execution_count": 3,
   "metadata": {},
   "outputs": [
    {
     "data": {
      "text/plain": [
       "{'encoding': 'utf-8', 'confidence': 0.99, 'language': ''}"
      ]
     },
     "execution_count": 3,
     "metadata": {},
     "output_type": "execute_result"
    }
   ],
   "source": [
    "#Description dataset\n",
    "with open(\"database/description.csv\", 'rb') as f:\n",
    "    c = f.read()\n",
    "chardet.detect(c)"
   ]
  },
  {
   "cell_type": "code",
   "execution_count": 7,
   "metadata": {},
   "outputs": [],
   "source": [
    "db_desc = pd.read_csv('database/description.csv', encoding ='utf-8',  sep=\";\")"
   ]
  },
  {
   "cell_type": "code",
   "execution_count": 121,
   "metadata": {},
   "outputs": [
    {
     "data": {
      "text/plain": [
       "Index(['id', 'description.languages', 'status', 'funded_amount', 'paid_amount',\n",
       "       'activity', 'sector', 'location.country_code', 'location.country',\n",
       "       'location.town', 'location.geo.level', 'partner_id',\n",
       "       'borrowers.first_name', 'borrowers.last_name', 'borrowers.gender',\n",
       "       'borrowers.pictured', 'terms.disbursal_amount',\n",
       "       'terms.disbursal_currency', 'terms.disbursal_date', 'terms.loan_amount',\n",
       "       'terms.loss_liability.nonpayment',\n",
       "       'terms.loss_liability.currency_exchange', 'posted_date', 'funded_date',\n",
       "       'journal_totals.entries', 'paid_date', 'defaulted_date',\n",
       "       'terms.local_payments.due_date', 'terms.local_payments.amount',\n",
       "       'terms.scheduled_payments.due_date', 'terms.scheduled_payments.amount',\n",
       "       'delinquent', 'video.youtube_id', 'basket_amount', 'amount',\n",
       "       'payment_id', 'local_amount', 'processed_date', 'rounded_local_amount',\n",
       "       'settlement_date', 'lat', 'lon'],\n",
       "      dtype='object')"
      ]
     },
     "execution_count": 121,
     "metadata": {},
     "output_type": "execute_result"
    }
   ],
   "source": [
    "loan.columns"
   ]
  },
  {
   "cell_type": "code",
   "execution_count": 8,
   "metadata": {},
   "outputs": [
    {
     "data": {
      "text/plain": [
       "Index(['id', 'loan_name', 'description', 'description_translated', 'loan_use',\n",
       "       'country_code', 'country_name', 'town_name', 'currency_policy',\n",
       "       'currency_exchange_coverage_rate', 'partner_id', 'lender_term',\n",
       "       'num_lenders_total', 'tags', 'borrower_names', 'borrower_genders',\n",
       "       'borrower_pictured', 'repayment_interval', 'distribution_model'],\n",
       "      dtype='object')"
      ]
     },
     "execution_count": 8,
     "metadata": {},
     "output_type": "execute_result"
    }
   ],
   "source": [
    "db_desc.columns"
   ]
  },
  {
   "cell_type": "code",
   "execution_count": 17,
   "metadata": {},
   "outputs": [
    {
     "name": "stdout",
     "output_type": "stream",
     "text": [
      "The shape (nb obs ; nb var) of the data set : \n",
      "\n",
      " loan : (42181, 42) \n",
      " description :  (3182, 19)\n"
     ]
    }
   ],
   "source": [
    "print('The shape (nb obs ; nb var) of the data set : \\n\\n loan :', loan.shape,'\\n description : ', db_desc.shape)"
   ]
  },
  {
   "cell_type": "code",
   "execution_count": 24,
   "metadata": {},
   "outputs": [
    {
     "data": {
      "text/html": [
       "<div>\n",
       "<style scoped>\n",
       "    .dataframe tbody tr th:only-of-type {\n",
       "        vertical-align: middle;\n",
       "    }\n",
       "\n",
       "    .dataframe tbody tr th {\n",
       "        vertical-align: top;\n",
       "    }\n",
       "\n",
       "    .dataframe thead th {\n",
       "        text-align: right;\n",
       "    }\n",
       "</style>\n",
       "<table border=\"1\" class=\"dataframe\">\n",
       "  <thead>\n",
       "    <tr style=\"text-align: right;\">\n",
       "      <th></th>\n",
       "      <th>id</th>\n",
       "      <th>id_desc</th>\n",
       "      <th>description</th>\n",
       "      <th>description_translated</th>\n",
       "      <th>loan_use</th>\n",
       "      <th>country_code</th>\n",
       "      <th>country_name</th>\n",
       "      <th>town_name</th>\n",
       "      <th>currency_policy</th>\n",
       "      <th>currency_exchange_coverage_rate</th>\n",
       "      <th>partner_id</th>\n",
       "      <th>lender_term</th>\n",
       "      <th>num_lenders_total</th>\n",
       "      <th>tags</th>\n",
       "      <th>borrower_names</th>\n",
       "      <th>borrower_genders</th>\n",
       "      <th>borrower_pictured</th>\n",
       "      <th>repayment_interval</th>\n",
       "      <th>distribution_model</th>\n",
       "    </tr>\n",
       "  </thead>\n",
       "  <tbody>\n",
       "    <tr>\n",
       "      <th>0</th>\n",
       "      <td>156</td>\n",
       "      <td>Marks Antonio</td>\n",
       "      <td>Through my association with the local elementa...</td>\n",
       "      <td>NaN</td>\n",
       "      <td>Purchase of tools and materials to full first ...</td>\n",
       "      <td>NI</td>\n",
       "      <td>Nicaragua</td>\n",
       "      <td>Managua</td>\n",
       "      <td>standard</td>\n",
       "      <td>NaN</td>\n",
       "      <td>5</td>\n",
       "      <td>6</td>\n",
       "      <td>1</td>\n",
       "      <td>NaN</td>\n",
       "      <td>Marks Antonio</td>\n",
       "      <td>male</td>\n",
       "      <td>true</td>\n",
       "      <td>monthly</td>\n",
       "      <td>field_partner</td>\n",
       "    </tr>\n",
       "    <tr>\n",
       "      <th>1</th>\n",
       "      <td>173</td>\n",
       "      <td>NaN</td>\n",
       "      <td>NaN</td>\n",
       "      <td>NaN</td>\n",
       "      <td>NaN</td>\n",
       "      <td>GZ</td>\n",
       "      <td>Gaza</td>\n",
       "      <td>NaN</td>\n",
       "      <td>standard</td>\n",
       "      <td>NaN</td>\n",
       "      <td>2</td>\n",
       "      <td>12</td>\n",
       "      <td>7</td>\n",
       "      <td>user_favorite</td>\n",
       "      <td>NaN</td>\n",
       "      <td>NaN</td>\n",
       "      <td>NaN</td>\n",
       "      <td>monthly</td>\n",
       "      <td>field_partner</td>\n",
       "    </tr>\n",
       "    <tr>\n",
       "      <th>2</th>\n",
       "      <td>183</td>\n",
       "      <td>Piedad Portillo</td>\n",
       "      <td>I am a baker who can do all kids of baking to ...</td>\n",
       "      <td>NaN</td>\n",
       "      <td>Money to increase inventory and happiness.</td>\n",
       "      <td>HN</td>\n",
       "      <td>Honduras</td>\n",
       "      <td>Siguatepeque</td>\n",
       "      <td>standard</td>\n",
       "      <td>NaN</td>\n",
       "      <td>5</td>\n",
       "      <td>12</td>\n",
       "      <td>3</td>\n",
       "      <td>NaN</td>\n",
       "      <td>Piedad Portillo</td>\n",
       "      <td>female</td>\n",
       "      <td>true</td>\n",
       "      <td>monthly</td>\n",
       "      <td>field_partner</td>\n",
       "    </tr>\n",
       "    <tr>\n",
       "      <th>3</th>\n",
       "      <td>186</td>\n",
       "      <td>Braulia</td>\n",
       "      <td>I make all different kinds of Ã\\xadtems for my...</td>\n",
       "      <td>NaN</td>\n",
       "      <td>Working Capital</td>\n",
       "      <td>HN</td>\n",
       "      <td>Honduras</td>\n",
       "      <td>Siguatepeque</td>\n",
       "      <td>standard</td>\n",
       "      <td>NaN</td>\n",
       "      <td>5</td>\n",
       "      <td>6</td>\n",
       "      <td>9</td>\n",
       "      <td>NaN</td>\n",
       "      <td>Braulia</td>\n",
       "      <td>female</td>\n",
       "      <td>true</td>\n",
       "      <td>monthly</td>\n",
       "      <td>field_partner</td>\n",
       "    </tr>\n",
       "    <tr>\n",
       "      <th>4</th>\n",
       "      <td>200</td>\n",
       "      <td>Joan</td>\n",
       "      <td>&lt;i&gt;This business is a member of the Golden Cro...</td>\n",
       "      <td>NaN</td>\n",
       "      <td>Expand business to one larger room.</td>\n",
       "      <td>KE</td>\n",
       "      <td>Kenya</td>\n",
       "      <td>Ongata Rongai</td>\n",
       "      <td>standard</td>\n",
       "      <td>NaN</td>\n",
       "      <td>6</td>\n",
       "      <td>12</td>\n",
       "      <td>3</td>\n",
       "      <td>NaN</td>\n",
       "      <td>Joan</td>\n",
       "      <td>female</td>\n",
       "      <td>true</td>\n",
       "      <td>monthly</td>\n",
       "      <td>field_partner</td>\n",
       "    </tr>\n",
       "  </tbody>\n",
       "</table>\n",
       "</div>"
      ],
      "text/plain": [
       "    id          id_desc                                        description  \\\n",
       "0  156    Marks Antonio  Through my association with the local elementa...   \n",
       "1  173              NaN                                                NaN   \n",
       "2  183  Piedad Portillo  I am a baker who can do all kids of baking to ...   \n",
       "3  186          Braulia  I make all different kinds of Ã\\xadtems for my...   \n",
       "4  200             Joan  <i>This business is a member of the Golden Cro...   \n",
       "\n",
       "  description_translated                                           loan_use  \\\n",
       "0                    NaN  Purchase of tools and materials to full first ...   \n",
       "1                    NaN                                                NaN   \n",
       "2                    NaN         Money to increase inventory and happiness.   \n",
       "3                    NaN                                    Working Capital   \n",
       "4                    NaN                Expand business to one larger room.   \n",
       "\n",
       "  country_code country_name      town_name currency_policy  \\\n",
       "0           NI    Nicaragua        Managua        standard   \n",
       "1           GZ         Gaza            NaN        standard   \n",
       "2           HN     Honduras   Siguatepeque        standard   \n",
       "3           HN     Honduras   Siguatepeque        standard   \n",
       "4           KE        Kenya  Ongata Rongai        standard   \n",
       "\n",
       "  currency_exchange_coverage_rate  partner_id  lender_term  num_lenders_total  \\\n",
       "0                             NaN           5            6                  1   \n",
       "1                             NaN           2           12                  7   \n",
       "2                             NaN           5           12                  3   \n",
       "3                             NaN           5            6                  9   \n",
       "4                             NaN           6           12                  3   \n",
       "\n",
       "            tags   borrower_names borrower_genders borrower_pictured  \\\n",
       "0            NaN    Marks Antonio             male              true   \n",
       "1  user_favorite              NaN              NaN               NaN   \n",
       "2            NaN  Piedad Portillo           female              true   \n",
       "3            NaN          Braulia           female              true   \n",
       "4            NaN             Joan           female              true   \n",
       "\n",
       "  repayment_interval distribution_model  \n",
       "0            monthly      field_partner  \n",
       "1            monthly      field_partner  \n",
       "2            monthly      field_partner  \n",
       "3            monthly      field_partner  \n",
       "4            monthly      field_partner  "
      ]
     },
     "execution_count": 24,
     "metadata": {},
     "output_type": "execute_result"
    }
   ],
   "source": [
    "db_desc.head()"
   ]
  },
  {
   "cell_type": "code",
   "execution_count": 25,
   "metadata": {},
   "outputs": [
    {
     "data": {
      "text/html": [
       "<div>\n",
       "<style scoped>\n",
       "    .dataframe tbody tr th:only-of-type {\n",
       "        vertical-align: middle;\n",
       "    }\n",
       "\n",
       "    .dataframe tbody tr th {\n",
       "        vertical-align: top;\n",
       "    }\n",
       "\n",
       "    .dataframe thead th {\n",
       "        text-align: right;\n",
       "    }\n",
       "</style>\n",
       "<table border=\"1\" class=\"dataframe\">\n",
       "  <thead>\n",
       "    <tr style=\"text-align: right;\">\n",
       "      <th></th>\n",
       "      <th>id</th>\n",
       "      <th>description.languages</th>\n",
       "      <th>status</th>\n",
       "      <th>funded_amount</th>\n",
       "      <th>paid_amount</th>\n",
       "      <th>activity</th>\n",
       "      <th>sector</th>\n",
       "      <th>location.country_code</th>\n",
       "      <th>location.country</th>\n",
       "      <th>location.town</th>\n",
       "      <th>...</th>\n",
       "      <th>video.youtube_id</th>\n",
       "      <th>basket_amount</th>\n",
       "      <th>amount</th>\n",
       "      <th>payment_id</th>\n",
       "      <th>local_amount</th>\n",
       "      <th>processed_date</th>\n",
       "      <th>rounded_local_amount</th>\n",
       "      <th>settlement_date</th>\n",
       "      <th>lat</th>\n",
       "      <th>lon</th>\n",
       "    </tr>\n",
       "  </thead>\n",
       "  <tbody>\n",
       "    <tr>\n",
       "      <th>0</th>\n",
       "      <td>156</td>\n",
       "      <td>en</td>\n",
       "      <td>paid</td>\n",
       "      <td>500</td>\n",
       "      <td>500</td>\n",
       "      <td>Carpentry</td>\n",
       "      <td>Construction</td>\n",
       "      <td>NI</td>\n",
       "      <td>Nicaragua</td>\n",
       "      <td>Managua</td>\n",
       "      <td>...</td>\n",
       "      <td>NaN</td>\n",
       "      <td>NaN</td>\n",
       "      <td>50.0</td>\n",
       "      <td>209.0</td>\n",
       "      <td>50</td>\n",
       "      <td>20/04/2006</td>\n",
       "      <td>50</td>\n",
       "      <td>16/09/2006</td>\n",
       "      <td>12.150833</td>\n",
       "      <td>-86.268333</td>\n",
       "    </tr>\n",
       "    <tr>\n",
       "      <th>1</th>\n",
       "      <td>156</td>\n",
       "      <td>en</td>\n",
       "      <td>paid</td>\n",
       "      <td>500</td>\n",
       "      <td>500</td>\n",
       "      <td>Carpentry</td>\n",
       "      <td>Construction</td>\n",
       "      <td>NI</td>\n",
       "      <td>Nicaragua</td>\n",
       "      <td>Managua</td>\n",
       "      <td>...</td>\n",
       "      <td>NaN</td>\n",
       "      <td>NaN</td>\n",
       "      <td>50.0</td>\n",
       "      <td>362.0</td>\n",
       "      <td>50</td>\n",
       "      <td>05/06/2006</td>\n",
       "      <td>50</td>\n",
       "      <td>16/09/2006</td>\n",
       "      <td>12.150833</td>\n",
       "      <td>-86.268333</td>\n",
       "    </tr>\n",
       "    <tr>\n",
       "      <th>2</th>\n",
       "      <td>156</td>\n",
       "      <td>en</td>\n",
       "      <td>paid</td>\n",
       "      <td>500</td>\n",
       "      <td>500</td>\n",
       "      <td>Carpentry</td>\n",
       "      <td>Construction</td>\n",
       "      <td>NI</td>\n",
       "      <td>Nicaragua</td>\n",
       "      <td>Managua</td>\n",
       "      <td>...</td>\n",
       "      <td>NaN</td>\n",
       "      <td>NaN</td>\n",
       "      <td>50.0</td>\n",
       "      <td>616.0</td>\n",
       "      <td>50</td>\n",
       "      <td>31/07/2006</td>\n",
       "      <td>50</td>\n",
       "      <td>16/09/2006</td>\n",
       "      <td>12.150833</td>\n",
       "      <td>-86.268333</td>\n",
       "    </tr>\n",
       "    <tr>\n",
       "      <th>3</th>\n",
       "      <td>156</td>\n",
       "      <td>en</td>\n",
       "      <td>paid</td>\n",
       "      <td>500</td>\n",
       "      <td>500</td>\n",
       "      <td>Carpentry</td>\n",
       "      <td>Construction</td>\n",
       "      <td>NI</td>\n",
       "      <td>Nicaragua</td>\n",
       "      <td>Managua</td>\n",
       "      <td>...</td>\n",
       "      <td>NaN</td>\n",
       "      <td>NaN</td>\n",
       "      <td>270.0</td>\n",
       "      <td>913.0</td>\n",
       "      <td>270</td>\n",
       "      <td>17/08/2006</td>\n",
       "      <td>270</td>\n",
       "      <td>16/09/2006</td>\n",
       "      <td>12.150833</td>\n",
       "      <td>-86.268333</td>\n",
       "    </tr>\n",
       "    <tr>\n",
       "      <th>4</th>\n",
       "      <td>156</td>\n",
       "      <td>en</td>\n",
       "      <td>paid</td>\n",
       "      <td>500</td>\n",
       "      <td>500</td>\n",
       "      <td>Carpentry</td>\n",
       "      <td>Construction</td>\n",
       "      <td>NI</td>\n",
       "      <td>Nicaragua</td>\n",
       "      <td>Managua</td>\n",
       "      <td>...</td>\n",
       "      <td>NaN</td>\n",
       "      <td>NaN</td>\n",
       "      <td>80.0</td>\n",
       "      <td>1283.0</td>\n",
       "      <td>80</td>\n",
       "      <td>16/09/2006</td>\n",
       "      <td>80</td>\n",
       "      <td>16/09/2006</td>\n",
       "      <td>12.150833</td>\n",
       "      <td>-86.268333</td>\n",
       "    </tr>\n",
       "  </tbody>\n",
       "</table>\n",
       "<p>5 rows × 42 columns</p>\n",
       "</div>"
      ],
      "text/plain": [
       "    id description.languages status funded_amount paid_amount   activity  \\\n",
       "0  156                    en   paid           500         500  Carpentry   \n",
       "1  156                    en   paid           500         500  Carpentry   \n",
       "2  156                    en   paid           500         500  Carpentry   \n",
       "3  156                    en   paid           500         500  Carpentry   \n",
       "4  156                    en   paid           500         500  Carpentry   \n",
       "\n",
       "         sector location.country_code location.country location.town  ...  \\\n",
       "0  Construction                    NI        Nicaragua       Managua  ...   \n",
       "1  Construction                    NI        Nicaragua       Managua  ...   \n",
       "2  Construction                    NI        Nicaragua       Managua  ...   \n",
       "3  Construction                    NI        Nicaragua       Managua  ...   \n",
       "4  Construction                    NI        Nicaragua       Managua  ...   \n",
       "\n",
       "  video.youtube_id basket_amount amount payment_id local_amount  \\\n",
       "0              NaN           NaN   50.0      209.0           50   \n",
       "1              NaN           NaN   50.0      362.0           50   \n",
       "2              NaN           NaN   50.0      616.0           50   \n",
       "3              NaN           NaN  270.0      913.0          270   \n",
       "4              NaN           NaN   80.0     1283.0           80   \n",
       "\n",
       "  processed_date rounded_local_amount settlement_date        lat        lon  \n",
       "0     20/04/2006                   50      16/09/2006  12.150833 -86.268333  \n",
       "1     05/06/2006                   50      16/09/2006  12.150833 -86.268333  \n",
       "2     31/07/2006                   50      16/09/2006  12.150833 -86.268333  \n",
       "3     17/08/2006                  270      16/09/2006  12.150833 -86.268333  \n",
       "4     16/09/2006                   80      16/09/2006  12.150833 -86.268333  \n",
       "\n",
       "[5 rows x 42 columns]"
      ]
     },
     "execution_count": 25,
     "metadata": {},
     "output_type": "execute_result"
    }
   ],
   "source": [
    "loan.head()"
   ]
  },
  {
   "cell_type": "code",
   "execution_count": 36,
   "metadata": {},
   "outputs": [
    {
     "data": {
      "text/plain": [
       "(13800, 60)"
      ]
     },
     "execution_count": 36,
     "metadata": {},
     "output_type": "execute_result"
    }
   ],
   "source": [
    "df.shape"
   ]
  },
  {
   "cell_type": "markdown",
   "metadata": {},
   "source": [
    "### Drop dupplicates observations"
   ]
  },
  {
   "cell_type": "code",
   "execution_count": 37,
   "metadata": {
    "scrolled": true
   },
   "outputs": [
    {
     "data": {
      "text/plain": [
       "id                                        37177\n",
       "description.languages                     26875\n",
       "status                                    37177\n",
       "funded_amount                             37177\n",
       "paid_amount                               36671\n",
       "activity                                  37177\n",
       "sector                                    37177\n",
       "location.country_code                     36312\n",
       "location.country                          37177\n",
       "location.town                             36536\n",
       "location.geo.level                        37154\n",
       "partner_id                                37154\n",
       "borrowers.first_name                      37148\n",
       "borrowers.last_name                       34912\n",
       "borrowers.gender                          37107\n",
       "borrowers.pictured                        37118\n",
       "terms.disbursal_amount                    37105\n",
       "terms.disbursal_currency                  37094\n",
       "terms.disbursal_date                      37118\n",
       "terms.loan_amount                         37107\n",
       "terms.loss_liability.nonpayment           37107\n",
       "terms.loss_liability.currency_exchange    37107\n",
       "posted_date                               37094\n",
       "funded_date                               37094\n",
       "journal_totals.entries                    37085\n",
       "paid_date                                 24535\n",
       "defaulted_date                              541\n",
       "terms.local_payments.due_date             37058\n",
       "terms.local_payments.amount               37058\n",
       "terms.scheduled_payments.due_date         37058\n",
       "terms.scheduled_payments.amount           37047\n",
       "delinquent                                 1673\n",
       "video.youtube_id                             78\n",
       "basket_amount                                 0\n",
       "amount                                    37083\n",
       "payment_id                                37083\n",
       "local_amount                              37083\n",
       "processed_date                            37083\n",
       "rounded_local_amount                      37083\n",
       "settlement_date                           36951\n",
       "lat                                       37083\n",
       "lon                                       37083\n",
       "dtype: int64"
      ]
     },
     "execution_count": 37,
     "metadata": {},
     "output_type": "execute_result"
    }
   ],
   "source": [
    "#stats desc on dupplicates obs\n",
    "loan.loc[loan.id.duplicated()].count()"
   ]
  },
  {
   "cell_type": "code",
   "execution_count": 70,
   "metadata": {},
   "outputs": [
    {
     "data": {
      "text/plain": [
       "True     37177\n",
       "False     5004\n",
       "Name: id, dtype: int64"
      ]
     },
     "execution_count": 70,
     "metadata": {},
     "output_type": "execute_result"
    }
   ],
   "source": [
    "#create variable dupplicates which gives the status of each id\n",
    "duplicates = loan.id.duplicated()\n",
    "duplicates.value_counts()"
   ]
  },
  {
   "cell_type": "code",
   "execution_count": 40,
   "metadata": {},
   "outputs": [],
   "source": [
    "#keeping only non dupplictes\n",
    "keep = duplicates == False"
   ]
  },
  {
   "cell_type": "code",
   "execution_count": 106,
   "metadata": {},
   "outputs": [
    {
     "data": {
      "text/html": [
       "<div>\n",
       "<style scoped>\n",
       "    .dataframe tbody tr th:only-of-type {\n",
       "        vertical-align: middle;\n",
       "    }\n",
       "\n",
       "    .dataframe tbody tr th {\n",
       "        vertical-align: top;\n",
       "    }\n",
       "\n",
       "    .dataframe thead th {\n",
       "        text-align: right;\n",
       "    }\n",
       "</style>\n",
       "<table border=\"1\" class=\"dataframe\">\n",
       "  <thead>\n",
       "    <tr style=\"text-align: right;\">\n",
       "      <th></th>\n",
       "      <th>id</th>\n",
       "      <th>description.languages</th>\n",
       "      <th>status</th>\n",
       "      <th>funded_amount</th>\n",
       "      <th>paid_amount</th>\n",
       "      <th>activity</th>\n",
       "      <th>sector</th>\n",
       "      <th>location.country_code</th>\n",
       "      <th>location.country</th>\n",
       "      <th>location.town</th>\n",
       "      <th>...</th>\n",
       "      <th>video.youtube_id</th>\n",
       "      <th>basket_amount</th>\n",
       "      <th>amount</th>\n",
       "      <th>payment_id</th>\n",
       "      <th>local_amount</th>\n",
       "      <th>processed_date</th>\n",
       "      <th>rounded_local_amount</th>\n",
       "      <th>settlement_date</th>\n",
       "      <th>lat</th>\n",
       "      <th>lon</th>\n",
       "    </tr>\n",
       "  </thead>\n",
       "  <tbody>\n",
       "    <tr>\n",
       "      <th>0</th>\n",
       "      <td>156</td>\n",
       "      <td>en</td>\n",
       "      <td>paid</td>\n",
       "      <td>500</td>\n",
       "      <td>500</td>\n",
       "      <td>Carpentry</td>\n",
       "      <td>Construction</td>\n",
       "      <td>NI</td>\n",
       "      <td>Nicaragua</td>\n",
       "      <td>Managua</td>\n",
       "      <td>...</td>\n",
       "      <td>NaN</td>\n",
       "      <td>NaN</td>\n",
       "      <td>50.0</td>\n",
       "      <td>209.0</td>\n",
       "      <td>50</td>\n",
       "      <td>20/04/2006</td>\n",
       "      <td>50</td>\n",
       "      <td>16/09/2006</td>\n",
       "      <td>12.150833</td>\n",
       "      <td>-86.268333</td>\n",
       "    </tr>\n",
       "    <tr>\n",
       "      <th>5</th>\n",
       "      <td>173</td>\n",
       "      <td>en</td>\n",
       "      <td>defaulted</td>\n",
       "      <td>600</td>\n",
       "      <td>NaN</td>\n",
       "      <td>Construction</td>\n",
       "      <td>Construction</td>\n",
       "      <td>NaN</td>\n",
       "      <td>Gaza</td>\n",
       "      <td>Rafah</td>\n",
       "      <td>...</td>\n",
       "      <td>NaN</td>\n",
       "      <td>NaN</td>\n",
       "      <td>50.0</td>\n",
       "      <td>261.0</td>\n",
       "      <td>50</td>\n",
       "      <td>27/04/2006</td>\n",
       "      <td>50</td>\n",
       "      <td>NaN</td>\n",
       "      <td>31.284167</td>\n",
       "      <td>34.250833</td>\n",
       "    </tr>\n",
       "    <tr>\n",
       "      <th>10</th>\n",
       "      <td>183</td>\n",
       "      <td>en</td>\n",
       "      <td>paid</td>\n",
       "      <td>500</td>\n",
       "      <td>500</td>\n",
       "      <td>Bakery</td>\n",
       "      <td>Food</td>\n",
       "      <td>HN</td>\n",
       "      <td>Honduras</td>\n",
       "      <td>Siguatepeque</td>\n",
       "      <td>...</td>\n",
       "      <td>NaN</td>\n",
       "      <td>NaN</td>\n",
       "      <td>35.0</td>\n",
       "      <td>200.0</td>\n",
       "      <td>35</td>\n",
       "      <td>20/04/2006</td>\n",
       "      <td>35</td>\n",
       "      <td>21/11/2006</td>\n",
       "      <td>14.600000</td>\n",
       "      <td>-87.833333</td>\n",
       "    </tr>\n",
       "    <tr>\n",
       "      <th>19</th>\n",
       "      <td>186</td>\n",
       "      <td>en</td>\n",
       "      <td>paid</td>\n",
       "      <td>500</td>\n",
       "      <td>500</td>\n",
       "      <td>Tailoring</td>\n",
       "      <td>Services</td>\n",
       "      <td>HN</td>\n",
       "      <td>Honduras</td>\n",
       "      <td>Siguatepeque</td>\n",
       "      <td>...</td>\n",
       "      <td>NaN</td>\n",
       "      <td>NaN</td>\n",
       "      <td>35.0</td>\n",
       "      <td>189.0</td>\n",
       "      <td>35</td>\n",
       "      <td>20/04/2006</td>\n",
       "      <td>35</td>\n",
       "      <td>NaN</td>\n",
       "      <td>14.600000</td>\n",
       "      <td>-87.833333</td>\n",
       "    </tr>\n",
       "    <tr>\n",
       "      <th>22</th>\n",
       "      <td>200</td>\n",
       "      <td>en</td>\n",
       "      <td>paid</td>\n",
       "      <td>575</td>\n",
       "      <td>575</td>\n",
       "      <td>Beauty Salon</td>\n",
       "      <td>Services</td>\n",
       "      <td>KE</td>\n",
       "      <td>Kenya</td>\n",
       "      <td>Ongata Rongai</td>\n",
       "      <td>...</td>\n",
       "      <td>NaN</td>\n",
       "      <td>NaN</td>\n",
       "      <td>114.0</td>\n",
       "      <td>435.0</td>\n",
       "      <td>114</td>\n",
       "      <td>12/06/2006</td>\n",
       "      <td>114</td>\n",
       "      <td>02/05/2007</td>\n",
       "      <td>-0.866667</td>\n",
       "      <td>36.433333</td>\n",
       "    </tr>\n",
       "  </tbody>\n",
       "</table>\n",
       "<p>5 rows × 42 columns</p>\n",
       "</div>"
      ],
      "text/plain": [
       "     id description.languages     status funded_amount paid_amount  \\\n",
       "0   156                    en       paid           500         500   \n",
       "5   173                    en  defaulted           600         NaN   \n",
       "10  183                    en       paid           500         500   \n",
       "19  186                    en       paid           500         500   \n",
       "22  200                    en       paid           575         575   \n",
       "\n",
       "        activity        sector location.country_code location.country  \\\n",
       "0      Carpentry  Construction                    NI        Nicaragua   \n",
       "5   Construction  Construction                   NaN             Gaza   \n",
       "10        Bakery          Food                    HN         Honduras   \n",
       "19     Tailoring      Services                    HN         Honduras   \n",
       "22  Beauty Salon      Services                    KE            Kenya   \n",
       "\n",
       "    location.town  ... video.youtube_id basket_amount amount payment_id  \\\n",
       "0         Managua  ...              NaN           NaN   50.0      209.0   \n",
       "5           Rafah  ...              NaN           NaN   50.0      261.0   \n",
       "10   Siguatepeque  ...              NaN           NaN   35.0      200.0   \n",
       "19   Siguatepeque  ...              NaN           NaN   35.0      189.0   \n",
       "22  Ongata Rongai  ...              NaN           NaN  114.0      435.0   \n",
       "\n",
       "   local_amount processed_date rounded_local_amount settlement_date  \\\n",
       "0            50     20/04/2006                   50      16/09/2006   \n",
       "5            50     27/04/2006                   50             NaN   \n",
       "10           35     20/04/2006                   35      21/11/2006   \n",
       "19           35     20/04/2006                   35             NaN   \n",
       "22          114     12/06/2006                  114      02/05/2007   \n",
       "\n",
       "          lat        lon  \n",
       "0   12.150833 -86.268333  \n",
       "5   31.284167  34.250833  \n",
       "10  14.600000 -87.833333  \n",
       "19  14.600000 -87.833333  \n",
       "22  -0.866667  36.433333  \n",
       "\n",
       "[5 rows x 42 columns]"
      ]
     },
     "execution_count": 106,
     "metadata": {},
     "output_type": "execute_result"
    }
   ],
   "source": [
    "#Database without dupplicates values\n",
    "data = loan.loc[keep,:]\n",
    "data.head()"
   ]
  },
  {
   "cell_type": "code",
   "execution_count": 107,
   "metadata": {},
   "outputs": [
    {
     "data": {
      "text/plain": [
       "(5004, 42)"
      ]
     },
     "execution_count": 107,
     "metadata": {},
     "output_type": "execute_result"
    }
   ],
   "source": [
    "data.shape"
   ]
  },
  {
   "cell_type": "code",
   "execution_count": 49,
   "metadata": {},
   "outputs": [
    {
     "data": {
      "text/plain": [
       "array(['paid', 'defaulted', 'in_repayment', '101', 'F'], dtype=object)"
      ]
     },
     "execution_count": 49,
     "metadata": {},
     "output_type": "execute_result"
    }
   ],
   "source": [
    "data.status.unique()"
   ]
  },
  {
   "cell_type": "code",
   "execution_count": 108,
   "metadata": {},
   "outputs": [
    {
     "data": {
      "text/html": [
       "<div>\n",
       "<style scoped>\n",
       "    .dataframe tbody tr th:only-of-type {\n",
       "        vertical-align: middle;\n",
       "    }\n",
       "\n",
       "    .dataframe tbody tr th {\n",
       "        vertical-align: top;\n",
       "    }\n",
       "\n",
       "    .dataframe thead th {\n",
       "        text-align: right;\n",
       "    }\n",
       "</style>\n",
       "<table border=\"1\" class=\"dataframe\">\n",
       "  <thead>\n",
       "    <tr style=\"text-align: right;\">\n",
       "      <th>col_0</th>\n",
       "      <th>freq</th>\n",
       "    </tr>\n",
       "    <tr>\n",
       "      <th>status</th>\n",
       "      <th></th>\n",
       "    </tr>\n",
       "  </thead>\n",
       "  <tbody>\n",
       "    <tr>\n",
       "      <th>101</th>\n",
       "      <td>1</td>\n",
       "    </tr>\n",
       "    <tr>\n",
       "      <th>F</th>\n",
       "      <td>1</td>\n",
       "    </tr>\n",
       "    <tr>\n",
       "      <th>defaulted</th>\n",
       "      <td>100</td>\n",
       "    </tr>\n",
       "    <tr>\n",
       "      <th>in_repayment</th>\n",
       "      <td>1818</td>\n",
       "    </tr>\n",
       "    <tr>\n",
       "      <th>paid</th>\n",
       "      <td>3084</td>\n",
       "    </tr>\n",
       "  </tbody>\n",
       "</table>\n",
       "</div>"
      ],
      "text/plain": [
       "col_0         freq\n",
       "status            \n",
       "101              1\n",
       "F                1\n",
       "defaulted      100\n",
       "in_repayment  1818\n",
       "paid          3084"
      ]
     },
     "execution_count": 108,
     "metadata": {},
     "output_type": "execute_result"
    }
   ],
   "source": [
    "#There are some mistakes in this variables\n",
    "pd.crosstab(data.status,\"freq\")"
   ]
  },
  {
   "cell_type": "code",
   "execution_count": 109,
   "metadata": {},
   "outputs": [
    {
     "data": {
      "text/html": [
       "<div>\n",
       "<style scoped>\n",
       "    .dataframe tbody tr th:only-of-type {\n",
       "        vertical-align: middle;\n",
       "    }\n",
       "\n",
       "    .dataframe tbody tr th {\n",
       "        vertical-align: top;\n",
       "    }\n",
       "\n",
       "    .dataframe thead th {\n",
       "        text-align: right;\n",
       "    }\n",
       "</style>\n",
       "<table border=\"1\" class=\"dataframe\">\n",
       "  <thead>\n",
       "    <tr style=\"text-align: right;\">\n",
       "      <th>col_0</th>\n",
       "      <th>freq</th>\n",
       "    </tr>\n",
       "    <tr>\n",
       "      <th>status</th>\n",
       "      <th></th>\n",
       "    </tr>\n",
       "  </thead>\n",
       "  <tbody>\n",
       "    <tr>\n",
       "      <th>101</th>\n",
       "      <td>25</td>\n",
       "    </tr>\n",
       "    <tr>\n",
       "      <th>F</th>\n",
       "      <td>12</td>\n",
       "    </tr>\n",
       "    <tr>\n",
       "      <th>defaulted</th>\n",
       "      <td>606</td>\n",
       "    </tr>\n",
       "    <tr>\n",
       "      <th>in_repayment</th>\n",
       "      <td>13955</td>\n",
       "    </tr>\n",
       "    <tr>\n",
       "      <th>paid</th>\n",
       "      <td>27583</td>\n",
       "    </tr>\n",
       "  </tbody>\n",
       "</table>\n",
       "</div>"
      ],
      "text/plain": [
       "col_0          freq\n",
       "status             \n",
       "101              25\n",
       "F                12\n",
       "defaulted       606\n",
       "in_repayment  13955\n",
       "paid          27583"
      ]
     },
     "execution_count": 109,
     "metadata": {},
     "output_type": "execute_result"
    }
   ],
   "source": [
    "pd.crosstab(loan.status,\"freq\")"
   ]
  },
  {
   "cell_type": "code",
   "execution_count": 110,
   "metadata": {},
   "outputs": [
    {
     "data": {
      "text/plain": [
       "(5002, 42)"
      ]
     },
     "execution_count": 110,
     "metadata": {},
     "output_type": "execute_result"
    }
   ],
   "source": [
    "#Drop modality '101' and 'F'\n",
    "data = data[data.status != '101']\n",
    "data = data[data.status != 'F']\n",
    "data.shape"
   ]
  },
  {
   "cell_type": "code",
   "execution_count": 111,
   "metadata": {
    "scrolled": true
   },
   "outputs": [
    {
     "name": "stdout",
     "output_type": "stream",
     "text": [
      "<class 'pandas.core.frame.DataFrame'>\n",
      "Int64Index: 5002 entries, 0 to 42173\n",
      "Data columns (total 42 columns):\n",
      " #   Column                                  Non-Null Count  Dtype  \n",
      "---  ------                                  --------------  -----  \n",
      " 0   id                                      5002 non-null   object \n",
      " 1   description.languages                   3265 non-null   object \n",
      " 2   status                                  5002 non-null   object \n",
      " 3   funded_amount                           5002 non-null   object \n",
      " 4   paid_amount                             4902 non-null   object \n",
      " 5   activity                                5002 non-null   object \n",
      " 6   sector                                  5002 non-null   object \n",
      " 7   location.country_code                   4960 non-null   object \n",
      " 8   location.country                        5002 non-null   object \n",
      " 9   location.town                           4869 non-null   object \n",
      " 10  location.geo.level                      5000 non-null   object \n",
      " 11  partner_id                              5000 non-null   object \n",
      " 12  borrowers.first_name                    4999 non-null   object \n",
      " 13  borrowers.last_name                     4470 non-null   object \n",
      " 14  borrowers.gender                        4995 non-null   object \n",
      " 15  borrowers.pictured                      4995 non-null   object \n",
      " 16  terms.disbursal_amount                  4995 non-null   object \n",
      " 17  terms.disbursal_currency                4995 non-null   object \n",
      " 18  terms.disbursal_date                    4995 non-null   object \n",
      " 19  terms.loan_amount                       4995 non-null   float64\n",
      " 20  terms.loss_liability.nonpayment         4995 non-null   object \n",
      " 21  terms.loss_liability.currency_exchange  4995 non-null   object \n",
      " 22  posted_date                             4995 non-null   object \n",
      " 23  funded_date                             4995 non-null   object \n",
      " 24  journal_totals.entries                  4987 non-null   float64\n",
      " 25  paid_date                               3089 non-null   object \n",
      " 26  defaulted_date                          100 non-null    object \n",
      " 27  terms.local_payments.due_date           4986 non-null   object \n",
      " 28  terms.local_payments.amount             4986 non-null   object \n",
      " 29  terms.scheduled_payments.due_date       4986 non-null   object \n",
      " 30  terms.scheduled_payments.amount         4986 non-null   object \n",
      " 31  delinquent                              246 non-null    object \n",
      " 32  video.youtube_id                        2 non-null      object \n",
      " 33  basket_amount                           0 non-null      float64\n",
      " 34  amount                                  4995 non-null   float64\n",
      " 35  payment_id                              4995 non-null   float64\n",
      " 36  local_amount                            4995 non-null   object \n",
      " 37  processed_date                          4995 non-null   object \n",
      " 38  rounded_local_amount                    4995 non-null   object \n",
      " 39  settlement_date                         4960 non-null   object \n",
      " 40  lat                                     4995 non-null   float64\n",
      " 41  lon                                     4995 non-null   float64\n",
      "dtypes: float64(7), object(35)\n",
      "memory usage: 1.6+ MB\n"
     ]
    }
   ],
   "source": [
    "data.info()"
   ]
  },
  {
   "cell_type": "code",
   "execution_count": 53,
   "metadata": {},
   "outputs": [
    {
     "data": {
      "text/plain": [
       "53"
      ]
     },
     "execution_count": 53,
     "metadata": {},
     "output_type": "execute_result"
    }
   ],
   "source": [
    "len(data['location.country'].unique())"
   ]
  },
  {
   "cell_type": "code",
   "execution_count": 54,
   "metadata": {
    "scrolled": true
   },
   "outputs": [
    {
     "data": {
      "text/plain": [
       "array(['Nicaragua', 'Gaza', 'Honduras', 'Kenya', 'Uganda', 'Bulgaria',\n",
       "       'Cambodia', 'Moldova', 'Mexico', 'Tanzania', 'Azerbaijan', 'Ghana',\n",
       "       'Samoa', 'Afghanistan', 'Bolivia', 'Ecuador', 'Viet Nam',\n",
       "       'Ukraine', 'Dominican Republic',\n",
       "       'The Democratic Republic of the Congo', 'Peru', 'Philippines',\n",
       "       'Nigeria', 'Senegal', 'Tajikistan', 'South Sudan', 'El Salvador',\n",
       "       'Togo', 'Guatemala', 'Pakistan', 'Mali', 'Lebanon', 'Paraguay',\n",
       "       'Mongolia', 'Sierra Leone', 'Costa Rica', 'Benin', 'Indonesia',\n",
       "       'Nepal', 'Rwanda', 'Iraq', 'Cameroon', \"Cote D'Ivoire\",\n",
       "       'Palestine', 'Liberia', 'United States', 'Kyrgyzstan', 'Armenia',\n",
       "       'Mozambique', 'Haiti', 'Bosnia and Herzegovina', 'BAM', 'partner'],\n",
       "      dtype=object)"
      ]
     },
     "execution_count": 54,
     "metadata": {},
     "output_type": "execute_result"
    }
   ],
   "source": [
    "data['location.country'].unique()"
   ]
  },
  {
   "cell_type": "code",
   "execution_count": 112,
   "metadata": {
    "scrolled": true
   },
   "outputs": [
    {
     "name": "stdout",
     "output_type": "stream",
     "text": [
      "0  :  id\n",
      "1  :  description.languages\n",
      "2  :  status\n",
      "3  :  funded_amount\n",
      "4  :  paid_amount\n",
      "5  :  activity\n",
      "6  :  sector\n",
      "7  :  location.country_code\n",
      "8  :  location.country\n",
      "9  :  location.town\n",
      "10  :  location.geo.level\n",
      "11  :  partner_id\n",
      "12  :  borrowers.first_name\n",
      "13  :  borrowers.last_name\n",
      "14  :  borrowers.gender\n",
      "15  :  borrowers.pictured\n",
      "16  :  terms.disbursal_amount\n",
      "17  :  terms.disbursal_currency\n",
      "18  :  terms.disbursal_date\n",
      "19  :  terms.loan_amount\n",
      "20  :  terms.loss_liability.nonpayment\n",
      "21  :  terms.loss_liability.currency_exchange\n",
      "22  :  posted_date\n",
      "23  :  funded_date\n",
      "24  :  journal_totals.entries\n",
      "25  :  paid_date\n",
      "26  :  defaulted_date\n",
      "27  :  terms.local_payments.due_date\n",
      "28  :  terms.local_payments.amount\n",
      "29  :  terms.scheduled_payments.due_date\n",
      "30  :  terms.scheduled_payments.amount\n",
      "31  :  delinquent\n",
      "32  :  video.youtube_id\n",
      "33  :  basket_amount\n",
      "34  :  amount\n",
      "35  :  payment_id\n",
      "36  :  local_amount\n",
      "37  :  processed_date\n",
      "38  :  rounded_local_amount\n",
      "39  :  settlement_date\n",
      "40  :  lat\n",
      "41  :  lon\n"
     ]
    }
   ],
   "source": [
    "#display the list of variables\n",
    "colum = data.columns.tolist()\n",
    "for i in range(len(colum)):\n",
    "    print(i,\" : \",colum[i])"
   ]
  },
  {
   "cell_type": "code",
   "execution_count": 113,
   "metadata": {},
   "outputs": [],
   "source": [
    "#list of unsual variables\n",
    "unusual = ['description.languages','country_code',\"borrowers.first_name\",'borrowers.last_name',\"borrowers.pictured\",\"journal_totals.entries\",\"video.youtube_id\",'basket_amount']\n",
    "usual = ['id','funded_amount','status','paid_amount','sector','terms.disbursal_amount','posted_date','funded_date','amount','borrowers.gender']\n",
    "#list of renames variables\n",
    "renam = ['location.country','location.town','location.geo.level','borrowers.gender','terms.disbursal_amount','terms.disbursal_currency','terms.disbursal_date','terms.loan_amount','terms.loss_liability.nonpayment','terms.loss_liability.currency_exchange','terms.local_payments.due_date','terms.local_payments.amount','terms.scheduled_payments.due_date','terms.scheduled_payments.amount']"
   ]
  },
  {
   "cell_type": "code",
   "execution_count": 80,
   "metadata": {
    "scrolled": true
   },
   "outputs": [],
   "source": [
    "#Renames some columns\n",
    "#data = data.rename({data.columns[7] : 'country_code' , data.columns[8] : 'country', data.columns[9] : 'town', data.columns[10] : 'geo_level', data.columns[14] : 'gender', data.columns[16] : 'disbursal_amount', data.columns[19] : 'loan_amount', data.columns[20] : 'non_payment'}, axis=1)"
   ]
  },
  {
   "cell_type": "code",
   "execution_count": 134,
   "metadata": {},
   "outputs": [
    {
     "data": {
      "text/plain": [
       "(5002, 10)"
      ]
     },
     "execution_count": 134,
     "metadata": {},
     "output_type": "execute_result"
    }
   ],
   "source": [
    "data = data.filter(items=usual)\n",
    "data.shape"
   ]
  },
  {
   "cell_type": "code",
   "execution_count": 135,
   "metadata": {},
   "outputs": [
    {
     "data": {
      "text/html": [
       "<div>\n",
       "<style scoped>\n",
       "    .dataframe tbody tr th:only-of-type {\n",
       "        vertical-align: middle;\n",
       "    }\n",
       "\n",
       "    .dataframe tbody tr th {\n",
       "        vertical-align: top;\n",
       "    }\n",
       "\n",
       "    .dataframe thead th {\n",
       "        text-align: right;\n",
       "    }\n",
       "</style>\n",
       "<table border=\"1\" class=\"dataframe\">\n",
       "  <thead>\n",
       "    <tr style=\"text-align: right;\">\n",
       "      <th></th>\n",
       "      <th>id</th>\n",
       "      <th>funded_amount</th>\n",
       "      <th>status</th>\n",
       "      <th>paid_amount</th>\n",
       "      <th>sector</th>\n",
       "      <th>terms.disbursal_amount</th>\n",
       "      <th>posted_date</th>\n",
       "      <th>funded_date</th>\n",
       "      <th>amount</th>\n",
       "      <th>borrowers.gender</th>\n",
       "    </tr>\n",
       "  </thead>\n",
       "  <tbody>\n",
       "    <tr>\n",
       "      <th>0</th>\n",
       "      <td>156</td>\n",
       "      <td>500</td>\n",
       "      <td>paid</td>\n",
       "      <td>500</td>\n",
       "      <td>Construction</td>\n",
       "      <td>500</td>\n",
       "      <td>15/02/2006</td>\n",
       "      <td>31/03/2005</td>\n",
       "      <td>50.0</td>\n",
       "      <td>M</td>\n",
       "    </tr>\n",
       "    <tr>\n",
       "      <th>5</th>\n",
       "      <td>173</td>\n",
       "      <td>600</td>\n",
       "      <td>defaulted</td>\n",
       "      <td>NaN</td>\n",
       "      <td>Construction</td>\n",
       "      <td>600</td>\n",
       "      <td>15/02/2006</td>\n",
       "      <td>31/03/2005</td>\n",
       "      <td>50.0</td>\n",
       "      <td>M</td>\n",
       "    </tr>\n",
       "    <tr>\n",
       "      <th>10</th>\n",
       "      <td>183</td>\n",
       "      <td>500</td>\n",
       "      <td>paid</td>\n",
       "      <td>500</td>\n",
       "      <td>Food</td>\n",
       "      <td>500</td>\n",
       "      <td>15/03/2006</td>\n",
       "      <td>31/03/2005</td>\n",
       "      <td>35.0</td>\n",
       "      <td>F</td>\n",
       "    </tr>\n",
       "    <tr>\n",
       "      <th>19</th>\n",
       "      <td>186</td>\n",
       "      <td>500</td>\n",
       "      <td>paid</td>\n",
       "      <td>500</td>\n",
       "      <td>Services</td>\n",
       "      <td>500</td>\n",
       "      <td>15/03/2006</td>\n",
       "      <td>31/03/2005</td>\n",
       "      <td>35.0</td>\n",
       "      <td>F</td>\n",
       "    </tr>\n",
       "    <tr>\n",
       "      <th>22</th>\n",
       "      <td>200</td>\n",
       "      <td>575</td>\n",
       "      <td>paid</td>\n",
       "      <td>575</td>\n",
       "      <td>Services</td>\n",
       "      <td>575</td>\n",
       "      <td>15/03/2006</td>\n",
       "      <td>31/03/2005</td>\n",
       "      <td>114.0</td>\n",
       "      <td>F</td>\n",
       "    </tr>\n",
       "  </tbody>\n",
       "</table>\n",
       "</div>"
      ],
      "text/plain": [
       "     id funded_amount     status paid_amount        sector  \\\n",
       "0   156           500       paid         500  Construction   \n",
       "5   173           600  defaulted         NaN  Construction   \n",
       "10  183           500       paid         500          Food   \n",
       "19  186           500       paid         500      Services   \n",
       "22  200           575       paid         575      Services   \n",
       "\n",
       "   terms.disbursal_amount posted_date funded_date  amount borrowers.gender  \n",
       "0                     500  15/02/2006  31/03/2005    50.0                M  \n",
       "5                     600  15/02/2006  31/03/2005    50.0                M  \n",
       "10                    500  15/03/2006  31/03/2005    35.0                F  \n",
       "19                    500  15/03/2006  31/03/2005    35.0                F  \n",
       "22                    575  15/03/2006  31/03/2005   114.0                F  "
      ]
     },
     "execution_count": 135,
     "metadata": {},
     "output_type": "execute_result"
    }
   ],
   "source": [
    "data.head()"
   ]
  },
  {
   "cell_type": "markdown",
   "metadata": {},
   "source": [
    "### Merge dataset laon with description"
   ]
  },
  {
   "cell_type": "markdown",
   "metadata": {},
   "source": [
    "These dataset do not have the same size we are going to merge them"
   ]
  },
  {
   "cell_type": "code",
   "execution_count": 154,
   "metadata": {},
   "outputs": [],
   "source": [
    "resul = pd.merge(data, db_desc, how = 'left', on = ['id','id'])"
   ]
  },
  {
   "cell_type": "code",
   "execution_count": 155,
   "metadata": {},
   "outputs": [
    {
     "data": {
      "text/plain": [
       "Index(['id', 'funded_amount', 'status', 'paid_amount', 'sector',\n",
       "       'terms.disbursal_amount', 'posted_date', 'funded_date', 'amount',\n",
       "       'borrowers.gender', 'id_desc', 'description', 'description_translated',\n",
       "       'loan_use', 'country_code', 'country_name', 'town_name',\n",
       "       'currency_policy', 'currency_exchange_coverage_rate', 'partner_id',\n",
       "       'lender_term', 'num_lenders_total', 'tags', 'borrower_names',\n",
       "       'borrower_genders', 'borrower_pictured', 'repayment_interval',\n",
       "       'distribution_model'],\n",
       "      dtype='object')"
      ]
     },
     "execution_count": 155,
     "metadata": {},
     "output_type": "execute_result"
    }
   ],
   "source": [
    "resul.columns"
   ]
  },
  {
   "cell_type": "code",
   "execution_count": 157,
   "metadata": {},
   "outputs": [],
   "source": [
    "usual.append('repayment_interval')\n",
    "usual\n",
    "resul = resul.filter(items=usual)"
   ]
  },
  {
   "cell_type": "code",
   "execution_count": 160,
   "metadata": {},
   "outputs": [
    {
     "data": {
      "text/plain": [
       "paid    1540\n",
       "Name: status, dtype: int64"
      ]
     },
     "execution_count": 160,
     "metadata": {},
     "output_type": "execute_result"
    }
   ],
   "source": [
    "resul.dropna(axis=0).status.value_counts()"
   ]
  },
  {
   "cell_type": "markdown",
   "metadata": {},
   "source": [
    "As we can see the description dataset does not bring more information. \n",
    "That is while we are going to use only loan dataset for our prediction."
   ]
  },
  {
   "cell_type": "markdown",
   "metadata": {},
   "source": [
    "### Target variable"
   ]
  },
  {
   "cell_type": "code",
   "execution_count": 161,
   "metadata": {},
   "outputs": [
    {
     "data": {
      "text/html": [
       "<div>\n",
       "<style scoped>\n",
       "    .dataframe tbody tr th:only-of-type {\n",
       "        vertical-align: middle;\n",
       "    }\n",
       "\n",
       "    .dataframe tbody tr th {\n",
       "        vertical-align: top;\n",
       "    }\n",
       "\n",
       "    .dataframe thead th {\n",
       "        text-align: right;\n",
       "    }\n",
       "</style>\n",
       "<table border=\"1\" class=\"dataframe\">\n",
       "  <thead>\n",
       "    <tr style=\"text-align: right;\">\n",
       "      <th>col_0</th>\n",
       "      <th>freq</th>\n",
       "    </tr>\n",
       "    <tr>\n",
       "      <th>status</th>\n",
       "      <th></th>\n",
       "    </tr>\n",
       "  </thead>\n",
       "  <tbody>\n",
       "    <tr>\n",
       "      <th>defaulted</th>\n",
       "      <td>100</td>\n",
       "    </tr>\n",
       "    <tr>\n",
       "      <th>in_repayment</th>\n",
       "      <td>1818</td>\n",
       "    </tr>\n",
       "    <tr>\n",
       "      <th>paid</th>\n",
       "      <td>3084</td>\n",
       "    </tr>\n",
       "  </tbody>\n",
       "</table>\n",
       "</div>"
      ],
      "text/plain": [
       "col_0         freq\n",
       "status            \n",
       "defaulted      100\n",
       "in_repayment  1818\n",
       "paid          3084"
      ]
     },
     "execution_count": 161,
     "metadata": {},
     "output_type": "execute_result"
    }
   ],
   "source": [
    "pd.crosstab(data.status,\"freq\")"
   ]
  },
  {
   "cell_type": "code",
   "execution_count": 162,
   "metadata": {},
   "outputs": [],
   "source": [
    "conditions = [\n",
    "    (data.status == 'defaulted'),\n",
    "    (data.status == 'in_repayment'),\n",
    "    (data.status == 'paid')\n",
    "]"
   ]
  },
  {
   "cell_type": "code",
   "execution_count": 163,
   "metadata": {},
   "outputs": [],
   "source": [
    "values = ['0','1','.']"
   ]
  },
  {
   "cell_type": "code",
   "execution_count": 165,
   "metadata": {},
   "outputs": [],
   "source": [
    "data['target'] = np.select(conditions, values)"
   ]
  },
  {
   "cell_type": "code",
   "execution_count": 166,
   "metadata": {},
   "outputs": [
    {
     "data": {
      "text/html": [
       "<div>\n",
       "<style scoped>\n",
       "    .dataframe tbody tr th:only-of-type {\n",
       "        vertical-align: middle;\n",
       "    }\n",
       "\n",
       "    .dataframe tbody tr th {\n",
       "        vertical-align: top;\n",
       "    }\n",
       "\n",
       "    .dataframe thead th {\n",
       "        text-align: right;\n",
       "    }\n",
       "</style>\n",
       "<table border=\"1\" class=\"dataframe\">\n",
       "  <thead>\n",
       "    <tr style=\"text-align: right;\">\n",
       "      <th>col_0</th>\n",
       "      <th>freq</th>\n",
       "    </tr>\n",
       "    <tr>\n",
       "      <th>target</th>\n",
       "      <th></th>\n",
       "    </tr>\n",
       "  </thead>\n",
       "  <tbody>\n",
       "    <tr>\n",
       "      <th>.</th>\n",
       "      <td>3084</td>\n",
       "    </tr>\n",
       "    <tr>\n",
       "      <th>0</th>\n",
       "      <td>100</td>\n",
       "    </tr>\n",
       "    <tr>\n",
       "      <th>1</th>\n",
       "      <td>1818</td>\n",
       "    </tr>\n",
       "  </tbody>\n",
       "</table>\n",
       "</div>"
      ],
      "text/plain": [
       "col_0   freq\n",
       "target      \n",
       ".       3084\n",
       "0        100\n",
       "1       1818"
      ]
     },
     "execution_count": 166,
     "metadata": {},
     "output_type": "execute_result"
    }
   ],
   "source": [
    "pd.crosstab(data.target,\"freq\")"
   ]
  },
  {
   "cell_type": "code",
   "execution_count": 167,
   "metadata": {},
   "outputs": [],
   "source": [
    "data_loan = data[data.target != '.']"
   ]
  },
  {
   "cell_type": "code",
   "execution_count": 168,
   "metadata": {},
   "outputs": [
    {
     "data": {
      "text/html": [
       "<div>\n",
       "<style scoped>\n",
       "    .dataframe tbody tr th:only-of-type {\n",
       "        vertical-align: middle;\n",
       "    }\n",
       "\n",
       "    .dataframe tbody tr th {\n",
       "        vertical-align: top;\n",
       "    }\n",
       "\n",
       "    .dataframe thead th {\n",
       "        text-align: right;\n",
       "    }\n",
       "</style>\n",
       "<table border=\"1\" class=\"dataframe\">\n",
       "  <thead>\n",
       "    <tr style=\"text-align: right;\">\n",
       "      <th>col_0</th>\n",
       "      <th>freq</th>\n",
       "    </tr>\n",
       "    <tr>\n",
       "      <th>target</th>\n",
       "      <th></th>\n",
       "    </tr>\n",
       "  </thead>\n",
       "  <tbody>\n",
       "    <tr>\n",
       "      <th>0</th>\n",
       "      <td>100</td>\n",
       "    </tr>\n",
       "    <tr>\n",
       "      <th>1</th>\n",
       "      <td>1818</td>\n",
       "    </tr>\n",
       "  </tbody>\n",
       "</table>\n",
       "</div>"
      ],
      "text/plain": [
       "col_0   freq\n",
       "target      \n",
       "0        100\n",
       "1       1818"
      ]
     },
     "execution_count": 168,
     "metadata": {},
     "output_type": "execute_result"
    }
   ],
   "source": [
    "pd.crosstab(data_loan.target,\"freq\")"
   ]
  },
  {
   "cell_type": "code",
   "execution_count": 169,
   "metadata": {},
   "outputs": [
    {
     "data": {
      "text/plain": [
       "Index(['id', 'funded_amount', 'status', 'paid_amount', 'sector',\n",
       "       'terms.disbursal_amount', 'posted_date', 'funded_date', 'amount',\n",
       "       'borrowers.gender', 'target'],\n",
       "      dtype='object')"
      ]
     },
     "execution_count": 169,
     "metadata": {},
     "output_type": "execute_result"
    }
   ],
   "source": [
    "data_loan.columns"
   ]
  },
  {
   "cell_type": "code",
   "execution_count": 173,
   "metadata": {
    "scrolled": false
   },
   "outputs": [
    {
     "name": "stdout",
     "output_type": "stream",
     "text": [
      "<class 'pandas.core.frame.DataFrame'>\n",
      "Int64Index: 1918 entries, 5 to 42173\n",
      "Data columns (total 11 columns):\n",
      " #   Column                  Non-Null Count  Dtype  \n",
      "---  ------                  --------------  -----  \n",
      " 0   id                      1918 non-null   object \n",
      " 1   funded_amount           1918 non-null   object \n",
      " 2   status                  1918 non-null   object \n",
      " 3   paid_amount             1818 non-null   object \n",
      " 4   sector                  1918 non-null   object \n",
      " 5   terms.disbursal_amount  1914 non-null   object \n",
      " 6   posted_date             1914 non-null   object \n",
      " 7   funded_date             1914 non-null   object \n",
      " 8   amount                  1914 non-null   float64\n",
      " 9   borrowers.gender        1914 non-null   object \n",
      " 10  target                  1918 non-null   object \n",
      "dtypes: float64(1), object(10)\n",
      "memory usage: 179.8+ KB\n"
     ]
    }
   ],
   "source": [
    "data_loan.info()"
   ]
  },
  {
   "cell_type": "code",
   "execution_count": 390,
   "metadata": {},
   "outputs": [
    {
     "name": "stderr",
     "output_type": "stream",
     "text": [
      "C:\\Users\\pc\\anaconda3\\lib\\site-packages\\ipykernel_launcher.py:1: SettingWithCopyWarning: \n",
      "A value is trying to be set on a copy of a slice from a DataFrame.\n",
      "Try using .loc[row_indexer,col_indexer] = value instead\n",
      "\n",
      "See the caveats in the documentation: https://pandas.pydata.org/pandas-docs/stable/user_guide/indexing.html#returning-a-view-versus-a-copy\n",
      "C:\\Users\\pc\\anaconda3\\lib\\site-packages\\ipykernel_launcher.py:2: SettingWithCopyWarning: \n",
      "A value is trying to be set on a copy of a slice from a DataFrame.\n",
      "Try using .loc[row_indexer,col_indexer] = value instead\n",
      "\n",
      "See the caveats in the documentation: https://pandas.pydata.org/pandas-docs/stable/user_guide/indexing.html#returning-a-view-versus-a-copy\n"
     ]
    }
   ],
   "source": [
    "data_loan['funded_amount'] = pd.to_numeric(data_loan['funded_amount'], downcast='float')\n",
    "data_loan['paid_amount'] = pd.to_numeric(data_loan['paid_amount'], downcast='float')"
   ]
  },
  {
   "cell_type": "code",
   "execution_count": 181,
   "metadata": {},
   "outputs": [
    {
     "data": {
      "text/plain": [
       "partner       35078\n",
       "lender         7000\n",
       "16/02/2009       13\n",
       "16/12/2008       12\n",
       "Name: terms.loss_liability.nonpayment, dtype: int64"
      ]
     },
     "execution_count": 181,
     "metadata": {},
     "output_type": "execute_result"
    }
   ],
   "source": [
    "loan['terms.loss_liability.nonpayment'].value_counts()"
   ]
  },
  {
   "cell_type": "code",
   "execution_count": null,
   "metadata": {},
   "outputs": [],
   "source": [
    "terms.loss_liability.nonpayment"
   ]
  },
  {
   "cell_type": "code",
   "execution_count": null,
   "metadata": {},
   "outputs": [],
   "source": []
  },
  {
   "cell_type": "code",
   "execution_count": null,
   "metadata": {},
   "outputs": [],
   "source": []
  },
  {
   "cell_type": "markdown",
   "metadata": {},
   "source": [
    "# Statistique Descriptive"
   ]
  },
  {
   "cell_type": "code",
   "execution_count": 170,
   "metadata": {},
   "outputs": [],
   "source": [
    "import matplotlib.pyplot as plt\n",
    "import seaborn as sns\n",
    "from subprocess import check_output\n",
    "from plotnine import *"
   ]
  },
  {
   "cell_type": "code",
   "execution_count": 187,
   "metadata": {},
   "outputs": [
    {
     "data": {
      "text/html": [
       "<div>\n",
       "<style scoped>\n",
       "    .dataframe tbody tr th:only-of-type {\n",
       "        vertical-align: middle;\n",
       "    }\n",
       "\n",
       "    .dataframe tbody tr th {\n",
       "        vertical-align: top;\n",
       "    }\n",
       "\n",
       "    .dataframe thead th {\n",
       "        text-align: right;\n",
       "    }\n",
       "</style>\n",
       "<table border=\"1\" class=\"dataframe\">\n",
       "  <thead>\n",
       "    <tr style=\"text-align: right;\">\n",
       "      <th></th>\n",
       "      <th>funded_amount</th>\n",
       "      <th>paid_amount</th>\n",
       "      <th>amount</th>\n",
       "    </tr>\n",
       "  </thead>\n",
       "  <tbody>\n",
       "    <tr>\n",
       "      <th>count</th>\n",
       "      <td>1918.000000</td>\n",
       "      <td>1818.000000</td>\n",
       "      <td>1914.000000</td>\n",
       "    </tr>\n",
       "    <tr>\n",
       "      <th>mean</th>\n",
       "      <td>699.270081</td>\n",
       "      <td>339.734680</td>\n",
       "      <td>76.386176</td>\n",
       "    </tr>\n",
       "    <tr>\n",
       "      <th>std</th>\n",
       "      <td>616.164062</td>\n",
       "      <td>359.882385</td>\n",
       "      <td>107.388272</td>\n",
       "    </tr>\n",
       "    <tr>\n",
       "      <th>min</th>\n",
       "      <td>50.000000</td>\n",
       "      <td>1.560000</td>\n",
       "      <td>0.180000</td>\n",
       "    </tr>\n",
       "    <tr>\n",
       "      <th>25%</th>\n",
       "      <td>325.000000</td>\n",
       "      <td>109.625000</td>\n",
       "      <td>27.780000</td>\n",
       "    </tr>\n",
       "    <tr>\n",
       "      <th>50%</th>\n",
       "      <td>550.000000</td>\n",
       "      <td>240.000000</td>\n",
       "      <td>50.300000</td>\n",
       "    </tr>\n",
       "    <tr>\n",
       "      <th>75%</th>\n",
       "      <td>925.000000</td>\n",
       "      <td>447.082520</td>\n",
       "      <td>84.380000</td>\n",
       "    </tr>\n",
       "    <tr>\n",
       "      <th>max</th>\n",
       "      <td>10000.000000</td>\n",
       "      <td>4353.129883</td>\n",
       "      <td>1323.170000</td>\n",
       "    </tr>\n",
       "  </tbody>\n",
       "</table>\n",
       "</div>"
      ],
      "text/plain": [
       "       funded_amount  paid_amount       amount\n",
       "count    1918.000000  1818.000000  1914.000000\n",
       "mean      699.270081   339.734680    76.386176\n",
       "std       616.164062   359.882385   107.388272\n",
       "min        50.000000     1.560000     0.180000\n",
       "25%       325.000000   109.625000    27.780000\n",
       "50%       550.000000   240.000000    50.300000\n",
       "75%       925.000000   447.082520    84.380000\n",
       "max     10000.000000  4353.129883  1323.170000"
      ]
     },
     "execution_count": 187,
     "metadata": {},
     "output_type": "execute_result"
    }
   ],
   "source": [
    "data_loan.describe()"
   ]
  },
  {
   "cell_type": "code",
   "execution_count": 188,
   "metadata": {},
   "outputs": [
    {
     "data": {
      "image/png": "[encoded data removed]",
      "text/plain": [
       "<Figure size 288x360 with 1 Axes>"
      ]
     },
     "metadata": {
      "needs_background": "light"
     },
     "output_type": "display_data"
    }
   ],
   "source": [
    "label_counts = data_loan['borrowers.gender'].value_counts()\n",
    "plt.figure(figsize = (4,5))\n",
    "sns.barplot(label_counts.index, label_counts.values, alpha = 0.9)\n",
    "\n",
    "plt.xticks(rotation = 'vertical')\n",
    "plt.xlabel('Gender', fontsize =12)\n",
    "plt.ylabel('Counts', fontsize = 12)\n",
    "plt.show()"
   ]
  },
  {
   "cell_type": "code",
   "execution_count": 189,
   "metadata": {},
   "outputs": [
    {
     "data": {
      "text/html": [
       "<div>\n",
       "<style scoped>\n",
       "    .dataframe tbody tr th:only-of-type {\n",
       "        vertical-align: middle;\n",
       "    }\n",
       "\n",
       "    .dataframe tbody tr th {\n",
       "        vertical-align: top;\n",
       "    }\n",
       "\n",
       "    .dataframe thead th {\n",
       "        text-align: right;\n",
       "    }\n",
       "</style>\n",
       "<table border=\"1\" class=\"dataframe\">\n",
       "  <thead>\n",
       "    <tr style=\"text-align: right;\">\n",
       "      <th></th>\n",
       "      <th>count</th>\n",
       "      <th>mean</th>\n",
       "      <th>std</th>\n",
       "      <th>min</th>\n",
       "      <th>25%</th>\n",
       "      <th>50%</th>\n",
       "      <th>75%</th>\n",
       "      <th>max</th>\n",
       "    </tr>\n",
       "    <tr>\n",
       "      <th>target</th>\n",
       "      <th></th>\n",
       "      <th></th>\n",
       "      <th></th>\n",
       "      <th></th>\n",
       "      <th></th>\n",
       "      <th></th>\n",
       "      <th></th>\n",
       "      <th></th>\n",
       "    </tr>\n",
       "  </thead>\n",
       "  <tbody>\n",
       "    <tr>\n",
       "      <th>0</th>\n",
       "      <td>100.0</td>\n",
       "      <td>621.500000</td>\n",
       "      <td>357.725128</td>\n",
       "      <td>75.0</td>\n",
       "      <td>300.0</td>\n",
       "      <td>587.5</td>\n",
       "      <td>900.0</td>\n",
       "      <td>1400.0</td>\n",
       "    </tr>\n",
       "    <tr>\n",
       "      <th>1</th>\n",
       "      <td>1818.0</td>\n",
       "      <td>703.547852</td>\n",
       "      <td>627.078064</td>\n",
       "      <td>50.0</td>\n",
       "      <td>350.0</td>\n",
       "      <td>550.0</td>\n",
       "      <td>925.0</td>\n",
       "      <td>10000.0</td>\n",
       "    </tr>\n",
       "  </tbody>\n",
       "</table>\n",
       "</div>"
      ],
      "text/plain": [
       "         count        mean         std   min    25%    50%    75%      max\n",
       "target                                                                    \n",
       "0        100.0  621.500000  357.725128  75.0  300.0  587.5  900.0   1400.0\n",
       "1       1818.0  703.547852  627.078064  50.0  350.0  550.0  925.0  10000.0"
      ]
     },
     "execution_count": 189,
     "metadata": {},
     "output_type": "execute_result"
    }
   ],
   "source": [
    "data_loan.groupby('target').funded_amount.describe()"
   ]
  },
  {
   "cell_type": "code",
   "execution_count": 191,
   "metadata": {},
   "outputs": [
    {
     "data": {
      "text/html": [
       "<div>\n",
       "<style scoped>\n",
       "    .dataframe tbody tr th:only-of-type {\n",
       "        vertical-align: middle;\n",
       "    }\n",
       "\n",
       "    .dataframe tbody tr th {\n",
       "        vertical-align: top;\n",
       "    }\n",
       "\n",
       "    .dataframe thead th {\n",
       "        text-align: right;\n",
       "    }\n",
       "</style>\n",
       "<table border=\"1\" class=\"dataframe\">\n",
       "  <thead>\n",
       "    <tr style=\"text-align: right;\">\n",
       "      <th></th>\n",
       "      <th>count</th>\n",
       "      <th>mean</th>\n",
       "      <th>std</th>\n",
       "      <th>min</th>\n",
       "      <th>25%</th>\n",
       "      <th>50%</th>\n",
       "      <th>75%</th>\n",
       "      <th>max</th>\n",
       "    </tr>\n",
       "    <tr>\n",
       "      <th>target</th>\n",
       "      <th></th>\n",
       "      <th></th>\n",
       "      <th></th>\n",
       "      <th></th>\n",
       "      <th></th>\n",
       "      <th></th>\n",
       "      <th></th>\n",
       "      <th></th>\n",
       "    </tr>\n",
       "  </thead>\n",
       "  <tbody>\n",
       "    <tr>\n",
       "      <th>0</th>\n",
       "      <td>0.0</td>\n",
       "      <td>NaN</td>\n",
       "      <td>NaN</td>\n",
       "      <td>NaN</td>\n",
       "      <td>NaN</td>\n",
       "      <td>NaN</td>\n",
       "      <td>NaN</td>\n",
       "      <td>NaN</td>\n",
       "    </tr>\n",
       "    <tr>\n",
       "      <th>1</th>\n",
       "      <td>1818.0</td>\n",
       "      <td>339.73468</td>\n",
       "      <td>359.882385</td>\n",
       "      <td>1.56</td>\n",
       "      <td>109.625</td>\n",
       "      <td>240.0</td>\n",
       "      <td>447.082504</td>\n",
       "      <td>4353.129883</td>\n",
       "    </tr>\n",
       "  </tbody>\n",
       "</table>\n",
       "</div>"
      ],
      "text/plain": [
       "         count       mean         std   min      25%    50%         75%  \\\n",
       "target                                                                    \n",
       "0          0.0        NaN         NaN   NaN      NaN    NaN         NaN   \n",
       "1       1818.0  339.73468  359.882385  1.56  109.625  240.0  447.082504   \n",
       "\n",
       "                max  \n",
       "target               \n",
       "0               NaN  \n",
       "1       4353.129883  "
      ]
     },
     "execution_count": 191,
     "metadata": {},
     "output_type": "execute_result"
    }
   ],
   "source": [
    "data_loan.groupby('target').paid_amount.describe()"
   ]
  },
  {
   "cell_type": "code",
   "execution_count": 190,
   "metadata": {},
   "outputs": [
    {
     "data": {
      "text/html": [
       "<div>\n",
       "<style scoped>\n",
       "    .dataframe tbody tr th:only-of-type {\n",
       "        vertical-align: middle;\n",
       "    }\n",
       "\n",
       "    .dataframe tbody tr th {\n",
       "        vertical-align: top;\n",
       "    }\n",
       "\n",
       "    .dataframe thead th {\n",
       "        text-align: right;\n",
       "    }\n",
       "</style>\n",
       "<table border=\"1\" class=\"dataframe\">\n",
       "  <thead>\n",
       "    <tr style=\"text-align: right;\">\n",
       "      <th></th>\n",
       "      <th>count</th>\n",
       "      <th>mean</th>\n",
       "      <th>std</th>\n",
       "      <th>min</th>\n",
       "      <th>25%</th>\n",
       "      <th>50%</th>\n",
       "      <th>75%</th>\n",
       "      <th>max</th>\n",
       "    </tr>\n",
       "    <tr>\n",
       "      <th>target</th>\n",
       "      <th></th>\n",
       "      <th></th>\n",
       "      <th></th>\n",
       "      <th></th>\n",
       "      <th></th>\n",
       "      <th></th>\n",
       "      <th></th>\n",
       "      <th></th>\n",
       "    </tr>\n",
       "  </thead>\n",
       "  <tbody>\n",
       "    <tr>\n",
       "      <th>0</th>\n",
       "      <td>100.0</td>\n",
       "      <td>71.186100</td>\n",
       "      <td>47.282314</td>\n",
       "      <td>6.49</td>\n",
       "      <td>30.0</td>\n",
       "      <td>66.5</td>\n",
       "      <td>100.0000</td>\n",
       "      <td>240.00</td>\n",
       "    </tr>\n",
       "    <tr>\n",
       "      <th>1</th>\n",
       "      <td>1814.0</td>\n",
       "      <td>76.672839</td>\n",
       "      <td>109.748240</td>\n",
       "      <td>0.18</td>\n",
       "      <td>27.5</td>\n",
       "      <td>50.0</td>\n",
       "      <td>84.2475</td>\n",
       "      <td>1323.17</td>\n",
       "    </tr>\n",
       "  </tbody>\n",
       "</table>\n",
       "</div>"
      ],
      "text/plain": [
       "         count       mean         std   min   25%   50%       75%      max\n",
       "target                                                                    \n",
       "0        100.0  71.186100   47.282314  6.49  30.0  66.5  100.0000   240.00\n",
       "1       1814.0  76.672839  109.748240  0.18  27.5  50.0   84.2475  1323.17"
      ]
     },
     "execution_count": 190,
     "metadata": {},
     "output_type": "execute_result"
    }
   ],
   "source": [
    "data_loan.groupby('target').amount.describe()"
   ]
  },
  {
   "cell_type": "code",
   "execution_count": 194,
   "metadata": {},
   "outputs": [
    {
     "data": {
      "image/png": "[encoded data removed]",
      "text/plain": [
       "<Figure size 720x504 with 1 Axes>"
      ]
     },
     "metadata": {
      "needs_background": "light"
     },
     "output_type": "display_data"
    }
   ],
   "source": [
    "plt.rcParams['figure.figsize'] = (10, 7)\n",
    "sns.boxenplot(x = data_loan['target'], y = data_loan['amount'])\n",
    "plt.title('Relation between target and amount', fontsize = 20)\n",
    "plt.show()"
   ]
  },
  {
   "cell_type": "code",
   "execution_count": 373,
   "metadata": {},
   "outputs": [
    {
     "data": {
      "text/plain": [
       "<matplotlib.axes._subplots.AxesSubplot at 0x17288113d88>"
      ]
     },
     "execution_count": 373,
     "metadata": {},
     "output_type": "execute_result"
    },
    {
     "data": {
      "image/png": "[encoded data removed]",
      "text/plain": [
       "<Figure size 720x504 with 1 Axes>"
      ]
     },
     "metadata": {
      "needs_background": "light"
     },
     "output_type": "display_data"
    }
   ],
   "source": [
    "data_loan.funded_amount.hist(bins = 20)"
   ]
  },
  {
   "cell_type": "code",
   "execution_count": 386,
   "metadata": {},
   "outputs": [],
   "source": [
    "from sklearn import preprocessing"
   ]
  },
  {
   "cell_type": "code",
   "execution_count": null,
   "metadata": {},
   "outputs": [],
   "source": []
  },
  {
   "cell_type": "code",
   "execution_count": 391,
   "metadata": {},
   "outputs": [
    {
     "ename": "ValueError",
     "evalue": "Expected 2D array, got 1D array instead:\narray=[  600.   300.   700.   825.   700.   300.   600.   300.  1075.   375.\n   400.   325.   800.  1000.   650.  1000.  1000.   425.   575.   400.\n  1000.   275.  1000.   800.   625.   375.   325.   650.  1450.   500.\n   425.  1075.   450.   525.   525.  1200.   425.   125.  3000.  1400.\n   550.  1000.  1000.   325.   625.  1000.   975.   325.   600.  3925.\n   250.   400.   150.   475.   500.   600.   150.   500.  1075.   275.\n   150.   150.   350.  1125.   800.   275.  2325.   375.   625.   425.\n   800.   800.   500.   700.  1075.   375.  1125.   625.   325.   950.\n   775.   850.   525.  1200.  1050.   225.   500.   625.   725.  1050.\n  1025.   700.   225.   750.   575.   925.   525.  2425.   825.  1000.\n  1200.  1575.  1150.   125.   950.   500.   900.   500.  1050.   900.\n  1000.   325.   200.  1850.   500.   700.   500.   875.   925.   875.\n   875.   800.   900.   875.   550.   525.   525.   300.   225.   350.\n   350.  2000.   800.  1000.   475.  1025.   625.   500.  1200.  1000.\n   450.  1150.   650.  1000.   750.   350.   350.   225.  1000.  1750.\n   500.   150.   150.  1000.  1000.   425.   350.   750.   550.   375.\n   825.  1250.  1000.   925.   350.   475.   350.   775.   350.  1200.\n   775.  1175.   375.   700.   450.  1125.  1000.  1000.  2700.  1000.\n  1250.   725.   325.   225.   500.   250.   675.   750.   225.  1125.\n  1075.   550.   425.   425.   525.   300.  1200.   975.   400.   250.\n   400.   325.   125.   700.   200.   275.   275.   850.   525.   275.\n   600.   225.   700.   700.   500.   500.   650.   750.   350.   350.\n   500.   575.   175.  1000.   425.   425.   650.   225.  1025.   425.\n   550.   325.   550.   675.   625.   700.   700.   500.   425.   950.\n   400.  4175.   225.   525.   425.  1000.  1000.  1500.  1000.  1000.\n  1075.   400.   525.  2000.   200.   325.   375.   375.   375.  1125.\n   375.   375.   375.   375.   625.   600.  1200.  1000.   475.   275.\n   775.   700.   600.   425.   850.   850.   250.  1175.   500.   850.\n   550.   475.   925.  1200.   150.   375.   325.   125.   400.   500.\n  1875.  1150.   550.  2000.   775.  1200.   250.  3150.  1050.   425.\n   975.   800.   875.   475.   700.   350.   775.   775.  1075.  1075.\n  1025.   525.   400.   250.   300.   525.   350.   650.   475.   700.\n   525.  1975.   475.   475.   500.   150.   650.  1075.   550.   475.\n   650.   275.   250.   675.   525.   350.   225.   675.   650.  1075.\n   175.   675.   150.   500.   550.   675.   675.   675.   275.   675.\n   550.   325.   800.   350.  1100.   225.   425.   275.   300.   325.\n   150.   500.  3550.   125.   325.   425.   200.  1100.   600.   575.\n   800.  1200.   925.   600.   375.   850.   500.  2000.  1450.   525.\n   325.   350.   250.   125.   875.   275.   275.   275.  5000.   350.\n   525.   300.  1200.  1000.   850.   225.   475.   250.   300.   750.\n   275.   250.   700.   650.   450.   500.   200.   225.   275.   600.\n   750.  1000.   625.   400.   775.   200.    75.   275.  1200.   275.\n   275.   650.   375.   375.   250.  1000.  1200.  1000.   800.   250.\n   650.  1025.   550.  1200.  2875.  1200.   500.  2450.  1025.   200.\n   900.   250.   775.  1000.   475.  1075.   900.   525.   750.   225.\n   150.   250.  1125.  1175.   225.   525.   125.   575.   900.   225.\n   225.  1225.   250.   125.   950.   550.   800.   500.  3000.   225.\n   150.   225.   375.   650.   500.   225.   700.  1000.   325.   400.\n   900.   275.   975.  1000.   875.   275.   425.   325.   650.   450.\n   500.   350.   125.   275.  1550.   250.   900.  1000.   500.   150.\n   125.   125.   175.   400.   300.  1500.   175.   500.   425.  1000.\n   250.   150.   450.   250.   100.   200.   700.   925.   375.    75.\n   425.  2075.   650.  1025.   850.  1200.  1075.   125.   425.   200.\n   700.   550.   725.   925.  1025.   225.    50.   225.   750.   650.\n   600.   525.   700.   125.   800.   550.   225.   700.  3100.   425.\n   750.   800.   525.   625.   575.   225.  1800.   450.  1100.  2000.\n  4500.   350.   875.   125.   500.   800.   575.   400.   150.  1150.\n   675.   675.   325.   300.  1000.   800.   525.  1025.   400.   350.\n   325.    75.   400.   300.   125.   425.  1100.   375.  1050.   550.\n   400.   800.   700.   700.   300.   250.  1150.  1150.   200.   350.\n   550.   250.   425.   350.   225.   575.   525.   200.   500.   825.\n   425.   300.   425.   500.   775.   650.  2000.   525.   700.   750.\n   500.   425.  1500.   775.   250.  2000.   525.  2350.   650.  1125.\n   400.   350.   300.   125.   700.   325.  1150.  1000.   500.   225.\n   175.  1200.  1150.   925.   925.   800.   225.  1775.   300.   225.\n   425.   600.   325.   600.   700.  3825.  3275.   550.   125.   125.\n   125.   225.  1875.   350.   275.   275.   300.   375.   675.   700.\n   925.  1600.   625.   275.  1175.   700.   700.  1000.   500.   225.\n   125.   125.   125.   800.   800.   525.   350.   650.   750.  4975.\n  3550.   525.   350.   950.   350.   425.  3000.   900.  1375.   375.\n   425.   525.   125.   125.   325.   900.  2500.   900.   300.   950.\n    75.  1075.   450.   575.  2575.   275.   725.   175.   125.   150.\n   375.   800.   825.   700.   625.   325.   175.   675.   850.   700.\n   800.   425.   575.   225.   500.   575.   750.  2325.   150.   525.\n   350.   825.   325.   225.   125.   150.   550.   125.   175.   100.\n   425.   300.   825.   150.    75.   450.   450.   325.   975.   150.\n   275.   300.   825.   750.   575.   575.   900.  1025.  2875.   975.\n   800.   225.   325.  1225.   700.  1200.  1125.   225.   250.   500.\n   800.   900.   700.   350.   600.   525.   350.   550.   300.   425.\n   125.  1150.  1500.  1025.   150.  1200.  1200.  1000.   175.   400.\n   850.   675.   250.   475.   550.   700.   400.   650.   300.   125.\n   625.   500.   750.   300.   300.   225.   125.   125.   625.   425.\n  1175.   150.   125.   350.   175.  3000.   700.  1150.   700.   800.\n   150.  1500.   425.   700.   175.   425.   700.   700.   800.   600.\n  1750.  1750.   800.   700.   625.   175.   175.   900.   350.  1000.\n  3325.   350.   300.  1050.   350.   700.   750.   225.   500.  1200.\n   150.   625.   475.   200.   400.   125.   300.   550.   375.   250.\n   500.   125.   800.   400.  1025.   100.  1050.   225.   700.  2200.\n   175.   775.   350.   500.  3050.   125.   250.  1075.   550.   125.\n   350.   125.   450.   900.   275.   425.   125.   125.   475.   350.\n   550.   975.  1050.  1275.   225.   175.   275.   325.   675.   350.\n   300.   400.   450.   650.   425.   675.   300.   250.   150.   125.\n   125.   125.   550.  1075.   275.   225.  1000.   550.   975.   425.\n  1775.   325.   700.  1000.   125.   125.   425.   175.   125.  1100.\n   675.  1050.   350. 10000.  1075.   700.   675.   350.   275.   250.\n   125.   125.   550.   175.   125.   375.   125.   225.   425.   125.\n   125.   575.   450.   475.   850.   350.   350.   650.    75.   475.\n   300.   875.   125.   100.   150.    75.   225.   700.   700.   375.\n   450.   650.  2375.   675.   650.  2025.   775.  3150.  3425.  3275.\n   300.  1200.   275.   125.  1500.   125.   275.   150.   275.  1075.].\nReshape your data either using array.reshape(-1, 1) if your data has a single feature or array.reshape(1, -1) if it contains a single sample.",
     "output_type": "error",
     "traceback": [
      "\u001b[1;31m---------------------------------------------------------------------------\u001b[0m",
      "\u001b[1;31mValueError\u001b[0m                                Traceback (most recent call last)",
      "\u001b[1;32m<ipython-input-391-8c074e50f52e>\u001b[0m in \u001b[0;36m<module>\u001b[1;34m\u001b[0m\n\u001b[1;32m----> 1\u001b[1;33m \u001b[0mscaler\u001b[0m \u001b[1;33m=\u001b[0m \u001b[0mpreprocessing\u001b[0m\u001b[1;33m.\u001b[0m\u001b[0mNormalizer\u001b[0m\u001b[1;33m(\u001b[0m\u001b[1;33m)\u001b[0m\u001b[1;33m.\u001b[0m\u001b[0mfit\u001b[0m\u001b[1;33m(\u001b[0m\u001b[0mdata_loan\u001b[0m\u001b[1;33m[\u001b[0m\u001b[1;34m'funded_amount'\u001b[0m\u001b[1;33m]\u001b[0m\u001b[1;33m.\u001b[0m\u001b[0mdropna\u001b[0m\u001b[1;33m(\u001b[0m\u001b[0mhow\u001b[0m \u001b[1;33m=\u001b[0m \u001b[1;34m\"any\"\u001b[0m\u001b[1;33m)\u001b[0m\u001b[1;33m.\u001b[0m\u001b[0mhead\u001b[0m\u001b[1;33m(\u001b[0m\u001b[1;36m1000\u001b[0m\u001b[1;33m)\u001b[0m\u001b[1;33m)\u001b[0m\u001b[1;33m\u001b[0m\u001b[1;33m\u001b[0m\u001b[0m\n\u001b[0m\u001b[0;32m      2\u001b[0m \u001b[0mX1\u001b[0m \u001b[1;33m=\u001b[0m \u001b[0mscaler\u001b[0m\u001b[1;33m.\u001b[0m\u001b[0mtransform\u001b[0m\u001b[1;33m(\u001b[0m\u001b[0mdata_loan\u001b[0m\u001b[1;33m[\u001b[0m\u001b[1;34m'funded_amount'\u001b[0m\u001b[1;33m]\u001b[0m\u001b[1;33m.\u001b[0m\u001b[0mdropna\u001b[0m\u001b[1;33m(\u001b[0m\u001b[0mhow\u001b[0m \u001b[1;33m=\u001b[0m \u001b[1;34m\"any\"\u001b[0m\u001b[1;33m)\u001b[0m\u001b[1;33m.\u001b[0m\u001b[0mhead\u001b[0m\u001b[1;33m(\u001b[0m\u001b[1;36m1000\u001b[0m\u001b[1;33m)\u001b[0m\u001b[1;33m)\u001b[0m\u001b[1;33m\u001b[0m\u001b[1;33m\u001b[0m\u001b[0m\n",
      "\u001b[1;32m~\\anaconda3\\lib\\site-packages\\sklearn\\preprocessing\\_data.py\u001b[0m in \u001b[0;36mfit\u001b[1;34m(self, X, y)\u001b[0m\n\u001b[0;32m   1812\u001b[0m         \u001b[0mX\u001b[0m \u001b[1;33m:\u001b[0m \u001b[0marray\u001b[0m\u001b[1;33m-\u001b[0m\u001b[0mlike\u001b[0m\u001b[1;33m\u001b[0m\u001b[1;33m\u001b[0m\u001b[0m\n\u001b[0;32m   1813\u001b[0m         \"\"\"\n\u001b[1;32m-> 1814\u001b[1;33m         \u001b[0mcheck_array\u001b[0m\u001b[1;33m(\u001b[0m\u001b[0mX\u001b[0m\u001b[1;33m,\u001b[0m \u001b[0maccept_sparse\u001b[0m\u001b[1;33m=\u001b[0m\u001b[1;34m'csr'\u001b[0m\u001b[1;33m)\u001b[0m\u001b[1;33m\u001b[0m\u001b[1;33m\u001b[0m\u001b[0m\n\u001b[0m\u001b[0;32m   1815\u001b[0m         \u001b[1;32mreturn\u001b[0m \u001b[0mself\u001b[0m\u001b[1;33m\u001b[0m\u001b[1;33m\u001b[0m\u001b[0m\n\u001b[0;32m   1816\u001b[0m \u001b[1;33m\u001b[0m\u001b[0m\n",
      "\u001b[1;32m~\\anaconda3\\lib\\site-packages\\sklearn\\utils\\validation.py\u001b[0m in \u001b[0;36mcheck_array\u001b[1;34m(array, accept_sparse, accept_large_sparse, dtype, order, copy, force_all_finite, ensure_2d, allow_nd, ensure_min_samples, ensure_min_features, warn_on_dtype, estimator)\u001b[0m\n\u001b[0;32m    554\u001b[0m                     \u001b[1;34m\"Reshape your data either using array.reshape(-1, 1) if \"\u001b[0m\u001b[1;33m\u001b[0m\u001b[1;33m\u001b[0m\u001b[0m\n\u001b[0;32m    555\u001b[0m                     \u001b[1;34m\"your data has a single feature or array.reshape(1, -1) \"\u001b[0m\u001b[1;33m\u001b[0m\u001b[1;33m\u001b[0m\u001b[0m\n\u001b[1;32m--> 556\u001b[1;33m                     \"if it contains a single sample.\".format(array))\n\u001b[0m\u001b[0;32m    557\u001b[0m \u001b[1;33m\u001b[0m\u001b[0m\n\u001b[0;32m    558\u001b[0m         \u001b[1;31m# in the future np.flexible dtypes will be handled like object dtypes\u001b[0m\u001b[1;33m\u001b[0m\u001b[1;33m\u001b[0m\u001b[1;33m\u001b[0m\u001b[0m\n",
      "\u001b[1;31mValueError\u001b[0m: Expected 2D array, got 1D array instead:\narray=[  600.   300.   700.   825.   700.   300.   600.   300.  1075.   375.\n   400.   325.   800.  1000.   650.  1000.  1000.   425.   575.   400.\n  1000.   275.  1000.   800.   625.   375.   325.   650.  1450.   500.\n   425.  1075.   450.   525.   525.  1200.   425.   125.  3000.  1400.\n   550.  1000.  1000.   325.   625.  1000.   975.   325.   600.  3925.\n   250.   400.   150.   475.   500.   600.   150.   500.  1075.   275.\n   150.   150.   350.  1125.   800.   275.  2325.   375.   625.   425.\n   800.   800.   500.   700.  1075.   375.  1125.   625.   325.   950.\n   775.   850.   525.  1200.  1050.   225.   500.   625.   725.  1050.\n  1025.   700.   225.   750.   575.   925.   525.  2425.   825.  1000.\n  1200.  1575.  1150.   125.   950.   500.   900.   500.  1050.   900.\n  1000.   325.   200.  1850.   500.   700.   500.   875.   925.   875.\n   875.   800.   900.   875.   550.   525.   525.   300.   225.   350.\n   350.  2000.   800.  1000.   475.  1025.   625.   500.  1200.  1000.\n   450.  1150.   650.  1000.   750.   350.   350.   225.  1000.  1750.\n   500.   150.   150.  1000.  1000.   425.   350.   750.   550.   375.\n   825.  1250.  1000.   925.   350.   475.   350.   775.   350.  1200.\n   775.  1175.   375.   700.   450.  1125.  1000.  1000.  2700.  1000.\n  1250.   725.   325.   225.   500.   250.   675.   750.   225.  1125.\n  1075.   550.   425.   425.   525.   300.  1200.   975.   400.   250.\n   400.   325.   125.   700.   200.   275.   275.   850.   525.   275.\n   600.   225.   700.   700.   500.   500.   650.   750.   350.   350.\n   500.   575.   175.  1000.   425.   425.   650.   225.  1025.   425.\n   550.   325.   550.   675.   625.   700.   700.   500.   425.   950.\n   400.  4175.   225.   525.   425.  1000.  1000.  1500.  1000.  1000.\n  1075.   400.   525.  2000.   200.   325.   375.   375.   375.  1125.\n   375.   375.   375.   375.   625.   600.  1200.  1000.   475.   275.\n   775.   700.   600.   425.   850.   850.   250.  1175.   500.   850.\n   550.   475.   925.  1200.   150.   375.   325.   125.   400.   500.\n  1875.  1150.   550.  2000.   775.  1200.   250.  3150.  1050.   425.\n   975.   800.   875.   475.   700.   350.   775.   775.  1075.  1075.\n  1025.   525.   400.   250.   300.   525.   350.   650.   475.   700.\n   525.  1975.   475.   475.   500.   150.   650.  1075.   550.   475.\n   650.   275.   250.   675.   525.   350.   225.   675.   650.  1075.\n   175.   675.   150.   500.   550.   675.   675.   675.   275.   675.\n   550.   325.   800.   350.  1100.   225.   425.   275.   300.   325.\n   150.   500.  3550.   125.   325.   425.   200.  1100.   600.   575.\n   800.  1200.   925.   600.   375.   850.   500.  2000.  1450.   525.\n   325.   350.   250.   125.   875.   275.   275.   275.  5000.   350.\n   525.   300.  1200.  1000.   850.   225.   475.   250.   300.   750.\n   275.   250.   700.   650.   450.   500.   200.   225.   275.   600.\n   750.  1000.   625.   400.   775.   200.    75.   275.  1200.   275.\n   275.   650.   375.   375.   250.  1000.  1200.  1000.   800.   250.\n   650.  1025.   550.  1200.  2875.  1200.   500.  2450.  1025.   200.\n   900.   250.   775.  1000.   475.  1075.   900.   525.   750.   225.\n   150.   250.  1125.  1175.   225.   525.   125.   575.   900.   225.\n   225.  1225.   250.   125.   950.   550.   800.   500.  3000.   225.\n   150.   225.   375.   650.   500.   225.   700.  1000.   325.   400.\n   900.   275.   975.  1000.   875.   275.   425.   325.   650.   450.\n   500.   350.   125.   275.  1550.   250.   900.  1000.   500.   150.\n   125.   125.   175.   400.   300.  1500.   175.   500.   425.  1000.\n   250.   150.   450.   250.   100.   200.   700.   925.   375.    75.\n   425.  2075.   650.  1025.   850.  1200.  1075.   125.   425.   200.\n   700.   550.   725.   925.  1025.   225.    50.   225.   750.   650.\n   600.   525.   700.   125.   800.   550.   225.   700.  3100.   425.\n   750.   800.   525.   625.   575.   225.  1800.   450.  1100.  2000.\n  4500.   350.   875.   125.   500.   800.   575.   400.   150.  1150.\n   675.   675.   325.   300.  1000.   800.   525.  1025.   400.   350.\n   325.    75.   400.   300.   125.   425.  1100.   375.  1050.   550.\n   400.   800.   700.   700.   300.   250.  1150.  1150.   200.   350.\n   550.   250.   425.   350.   225.   575.   525.   200.   500.   825.\n   425.   300.   425.   500.   775.   650.  2000.   525.   700.   750.\n   500.   425.  1500.   775.   250.  2000.   525.  2350.   650.  1125.\n   400.   350.   300.   125.   700.   325.  1150.  1000.   500.   225.\n   175.  1200.  1150.   925.   925.   800.   225.  1775.   300.   225.\n   425.   600.   325.   600.   700.  3825.  3275.   550.   125.   125.\n   125.   225.  1875.   350.   275.   275.   300.   375.   675.   700.\n   925.  1600.   625.   275.  1175.   700.   700.  1000.   500.   225.\n   125.   125.   125.   800.   800.   525.   350.   650.   750.  4975.\n  3550.   525.   350.   950.   350.   425.  3000.   900.  1375.   375.\n   425.   525.   125.   125.   325.   900.  2500.   900.   300.   950.\n    75.  1075.   450.   575.  2575.   275.   725.   175.   125.   150.\n   375.   800.   825.   700.   625.   325.   175.   675.   850.   700.\n   800.   425.   575.   225.   500.   575.   750.  2325.   150.   525.\n   350.   825.   325.   225.   125.   150.   550.   125.   175.   100.\n   425.   300.   825.   150.    75.   450.   450.   325.   975.   150.\n   275.   300.   825.   750.   575.   575.   900.  1025.  2875.   975.\n   800.   225.   325.  1225.   700.  1200.  1125.   225.   250.   500.\n   800.   900.   700.   350.   600.   525.   350.   550.   300.   425.\n   125.  1150.  1500.  1025.   150.  1200.  1200.  1000.   175.   400.\n   850.   675.   250.   475.   550.   700.   400.   650.   300.   125.\n   625.   500.   750.   300.   300.   225.   125.   125.   625.   425.\n  1175.   150.   125.   350.   175.  3000.   700.  1150.   700.   800.\n   150.  1500.   425.   700.   175.   425.   700.   700.   800.   600.\n  1750.  1750.   800.   700.   625.   175.   175.   900.   350.  1000.\n  3325.   350.   300.  1050.   350.   700.   750.   225.   500.  1200.\n   150.   625.   475.   200.   400.   125.   300.   550.   375.   250.\n   500.   125.   800.   400.  1025.   100.  1050.   225.   700.  2200.\n   175.   775.   350.   500.  3050.   125.   250.  1075.   550.   125.\n   350.   125.   450.   900.   275.   425.   125.   125.   475.   350.\n   550.   975.  1050.  1275.   225.   175.   275.   325.   675.   350.\n   300.   400.   450.   650.   425.   675.   300.   250.   150.   125.\n   125.   125.   550.  1075.   275.   225.  1000.   550.   975.   425.\n  1775.   325.   700.  1000.   125.   125.   425.   175.   125.  1100.\n   675.  1050.   350. 10000.  1075.   700.   675.   350.   275.   250.\n   125.   125.   550.   175.   125.   375.   125.   225.   425.   125.\n   125.   575.   450.   475.   850.   350.   350.   650.    75.   475.\n   300.   875.   125.   100.   150.    75.   225.   700.   700.   375.\n   450.   650.  2375.   675.   650.  2025.   775.  3150.  3425.  3275.\n   300.  1200.   275.   125.  1500.   125.   275.   150.   275.  1075.].\nReshape your data either using array.reshape(-1, 1) if your data has a single feature or array.reshape(1, -1) if it contains a single sample."
     ]
    }
   ],
   "source": [
    "scaler = preprocessing.Normalizer().fit(data_loan['funded_amount'].dropna(how = \"any\").head(1000))\n",
    "X1 = scaler.transform(data_loan['funded_amount'].dropna(how = \"any\").head(1000))\n"
   ]
  },
  {
   "cell_type": "code",
   "execution_count": null,
   "metadata": {},
   "outputs": [],
   "source": []
  },
  {
   "cell_type": "markdown",
   "metadata": {},
   "source": [
    "# Prediction model"
   ]
  },
  {
   "cell_type": "markdown",
   "metadata": {},
   "source": [
    "## re-sampling"
   ]
  },
  {
   "cell_type": "markdown",
   "metadata": {},
   "source": [
    "As we saw in statistic of the target variable, we only have 100 defaulted observation,\n",
    "that is while we are going to re-sample the dataset to have at list the same number of\n",
    "inrepayment and default."
   ]
  },
  {
   "cell_type": "code",
   "execution_count": 314,
   "metadata": {},
   "outputs": [
    {
     "data": {
      "text/plain": [
       "array(['0', '1'], dtype=object)"
      ]
     },
     "execution_count": 314,
     "metadata": {},
     "output_type": "execute_result"
    }
   ],
   "source": [
    "data_loan.target.unique()"
   ]
  },
  {
   "cell_type": "code",
   "execution_count": 320,
   "metadata": {},
   "outputs": [
    {
     "name": "stdout",
     "output_type": "stream",
     "text": [
      "Base repayment :  (1818, 11) \n",
      "Base default :  (100, 11)\n"
     ]
    }
   ],
   "source": [
    "data_rep = data_loan.loc[data_loan.target=='1']\n",
    "data_def = data_loan.loc[data_loan.target=='0']\n",
    "print('Base repayment : ', data_rep.shape,'\\nBase default : ',data_def.shape)"
   ]
  },
  {
   "cell_type": "code",
   "execution_count": 327,
   "metadata": {},
   "outputs": [],
   "source": [
    "data_rep = data_rep.sample(n=100, replace = False)"
   ]
  },
  {
   "cell_type": "code",
   "execution_count": 332,
   "metadata": {},
   "outputs": [],
   "source": [
    "final = data_def.append(data_rep)"
   ]
  },
  {
   "cell_type": "code",
   "execution_count": 333,
   "metadata": {},
   "outputs": [
    {
     "data": {
      "text/html": [
       "<div>\n",
       "<style scoped>\n",
       "    .dataframe tbody tr th:only-of-type {\n",
       "        vertical-align: middle;\n",
       "    }\n",
       "\n",
       "    .dataframe tbody tr th {\n",
       "        vertical-align: top;\n",
       "    }\n",
       "\n",
       "    .dataframe thead th {\n",
       "        text-align: right;\n",
       "    }\n",
       "</style>\n",
       "<table border=\"1\" class=\"dataframe\">\n",
       "  <thead>\n",
       "    <tr style=\"text-align: right;\">\n",
       "      <th>col_0</th>\n",
       "      <th>y</th>\n",
       "    </tr>\n",
       "    <tr>\n",
       "      <th>target</th>\n",
       "      <th></th>\n",
       "    </tr>\n",
       "  </thead>\n",
       "  <tbody>\n",
       "    <tr>\n",
       "      <th>0</th>\n",
       "      <td>100</td>\n",
       "    </tr>\n",
       "    <tr>\n",
       "      <th>1</th>\n",
       "      <td>100</td>\n",
       "    </tr>\n",
       "  </tbody>\n",
       "</table>\n",
       "</div>"
      ],
      "text/plain": [
       "col_0     y\n",
       "target     \n",
       "0       100\n",
       "1       100"
      ]
     },
     "execution_count": 333,
     "metadata": {},
     "output_type": "execute_result"
    }
   ],
   "source": [
    "pd.crosstab(final.target,'y')"
   ]
  },
  {
   "cell_type": "code",
   "execution_count": null,
   "metadata": {},
   "outputs": [],
   "source": []
  },
  {
   "cell_type": "markdown",
   "metadata": {},
   "source": [
    "# Modelisation"
   ]
  },
  {
   "cell_type": "code",
   "execution_count": 381,
   "metadata": {},
   "outputs": [],
   "source": [
    "from sklearn.model_selection import train_test_split"
   ]
  },
  {
   "cell_type": "code",
   "execution_count": 337,
   "metadata": {},
   "outputs": [],
   "source": [
    "df_train, df_test = train_test_split(final, test_size=0.2, random_state=10)"
   ]
  },
  {
   "cell_type": "code",
   "execution_count": 338,
   "metadata": {},
   "outputs": [
    {
     "name": "stdout",
     "output_type": "stream",
     "text": [
      "(160, 11)\n",
      "(40, 11)\n"
     ]
    }
   ],
   "source": [
    "print(df_train.shape)\n",
    "print(df_test.shape)"
   ]
  },
  {
   "cell_type": "code",
   "execution_count": 340,
   "metadata": {},
   "outputs": [
    {
     "data": {
      "text/plain": [
       "1    82\n",
       "0    78\n",
       "Name: target, dtype: int64"
      ]
     },
     "execution_count": 340,
     "metadata": {},
     "output_type": "execute_result"
    }
   ],
   "source": [
    "# Vérification\n",
    "df_train['target'].value_counts()"
   ]
  },
  {
   "cell_type": "code",
   "execution_count": 341,
   "metadata": {},
   "outputs": [
    {
     "data": {
      "text/plain": [
       "0    22\n",
       "1    18\n",
       "Name: target, dtype: int64"
      ]
     },
     "execution_count": 341,
     "metadata": {},
     "output_type": "execute_result"
    }
   ],
   "source": [
    "df_test['target'].value_counts()"
   ]
  },
  {
   "cell_type": "code",
   "execution_count": 378,
   "metadata": {},
   "outputs": [],
   "source": [
    "target_train = df_train['target'].values\n",
    "\n",
    "target_set = df_test['target'].values"
   ]
  },
  {
   "cell_type": "code",
   "execution_count": 383,
   "metadata": {},
   "outputs": [],
   "source": [
    "quanti = ['funded_amount','paid_amount','amount']\n",
    "\n",
    "X_train = df_train[quanti]\n",
    "y_train = df_train[quanti]\n",
    "\n",
    "X_test = df_test[quanti]\n",
    "y_tets = df_test[quanti]\n"
   ]
  },
  {
   "cell_type": "code",
   "execution_count": 351,
   "metadata": {},
   "outputs": [],
   "source": [
    "from sklearn.tree import DecisionTreeClassifier\n",
    "from sklearn.ensemble import RandomForestClassifier, AdaBoostClassifier\n",
    "from sklearn.svm import SVC\n",
    "from sklearn.neighbors import KNeighborsClassifier"
   ]
  },
  {
   "cell_type": "code",
   "execution_count": 384,
   "metadata": {},
   "outputs": [
    {
     "name": "stdout",
     "output_type": "stream",
     "text": [
      "<class 'pandas.core.frame.DataFrame'>\n",
      "Int64Index: 200 entries, 5 to 9199\n",
      "Data columns (total 11 columns):\n",
      " #   Column                  Non-Null Count  Dtype  \n",
      "---  ------                  --------------  -----  \n",
      " 0   id                      200 non-null    object \n",
      " 1   funded_amount           200 non-null    float32\n",
      " 2   status                  200 non-null    object \n",
      " 3   paid_amount             100 non-null    float32\n",
      " 4   sector                  200 non-null    object \n",
      " 5   terms.disbursal_amount  200 non-null    object \n",
      " 6   posted_date             200 non-null    object \n",
      " 7   funded_date             200 non-null    object \n",
      " 8   amount                  200 non-null    float64\n",
      " 9   borrowers.gender        200 non-null    object \n",
      " 10  target                  200 non-null    object \n",
      "dtypes: float32(2), float64(1), object(8)\n",
      "memory usage: 17.2+ KB\n"
     ]
    }
   ],
   "source": [
    "from sklearn.svm import LinearSVC\n",
    "final.info()"
   ]
  },
  {
   "cell_type": "code",
   "execution_count": 385,
   "metadata": {},
   "outputs": [
    {
     "ename": "ValueError",
     "evalue": "Input contains NaN, infinity or a value too large for dtype('float64').",
     "output_type": "error",
     "traceback": [
      "\u001b[1;31m---------------------------------------------------------------------------\u001b[0m",
      "\u001b[1;31mValueError\u001b[0m                                Traceback (most recent call last)",
      "\u001b[1;32m<ipython-input-385-409d3d9330eb>\u001b[0m in \u001b[0;36m<module>\u001b[1;34m\u001b[0m\n\u001b[0;32m      1\u001b[0m \u001b[1;31m#SVM\u001b[0m\u001b[1;33m\u001b[0m\u001b[1;33m\u001b[0m\u001b[1;33m\u001b[0m\u001b[0m\n\u001b[0;32m      2\u001b[0m \u001b[0mModel2\u001b[0m \u001b[1;33m=\u001b[0m \u001b[0mLinearSVC\u001b[0m\u001b[1;33m(\u001b[0m\u001b[1;33m)\u001b[0m\u001b[1;33m\u001b[0m\u001b[1;33m\u001b[0m\u001b[0m\n\u001b[1;32m----> 3\u001b[1;33m \u001b[0mModel2\u001b[0m\u001b[1;33m.\u001b[0m\u001b[0mfit\u001b[0m\u001b[1;33m(\u001b[0m\u001b[0mX_train\u001b[0m\u001b[1;33m,\u001b[0m\u001b[0my_train\u001b[0m\u001b[1;33m)\u001b[0m\u001b[1;33m\u001b[0m\u001b[1;33m\u001b[0m\u001b[0m\n\u001b[0m\u001b[0;32m      4\u001b[0m \u001b[1;31m#predictions2 = Model2.predict(counts_test)\u001b[0m\u001b[1;33m\u001b[0m\u001b[1;33m\u001b[0m\u001b[1;33m\u001b[0m\u001b[0m\n",
      "\u001b[1;32m~\\anaconda3\\lib\\site-packages\\sklearn\\svm\\_classes.py\u001b[0m in \u001b[0;36mfit\u001b[1;34m(self, X, y, sample_weight)\u001b[0m\n\u001b[0;32m    233\u001b[0m         X, y = check_X_y(X, y, accept_sparse='csr',\n\u001b[0;32m    234\u001b[0m                          \u001b[0mdtype\u001b[0m\u001b[1;33m=\u001b[0m\u001b[0mnp\u001b[0m\u001b[1;33m.\u001b[0m\u001b[0mfloat64\u001b[0m\u001b[1;33m,\u001b[0m \u001b[0morder\u001b[0m\u001b[1;33m=\u001b[0m\u001b[1;34m\"C\"\u001b[0m\u001b[1;33m,\u001b[0m\u001b[1;33m\u001b[0m\u001b[1;33m\u001b[0m\u001b[0m\n\u001b[1;32m--> 235\u001b[1;33m                          accept_large_sparse=False)\n\u001b[0m\u001b[0;32m    236\u001b[0m         \u001b[0mcheck_classification_targets\u001b[0m\u001b[1;33m(\u001b[0m\u001b[0my\u001b[0m\u001b[1;33m)\u001b[0m\u001b[1;33m\u001b[0m\u001b[1;33m\u001b[0m\u001b[0m\n\u001b[0;32m    237\u001b[0m         \u001b[0mself\u001b[0m\u001b[1;33m.\u001b[0m\u001b[0mclasses_\u001b[0m \u001b[1;33m=\u001b[0m \u001b[0mnp\u001b[0m\u001b[1;33m.\u001b[0m\u001b[0munique\u001b[0m\u001b[1;33m(\u001b[0m\u001b[0my\u001b[0m\u001b[1;33m)\u001b[0m\u001b[1;33m\u001b[0m\u001b[1;33m\u001b[0m\u001b[0m\n",
      "\u001b[1;32m~\\anaconda3\\lib\\site-packages\\sklearn\\utils\\validation.py\u001b[0m in \u001b[0;36mcheck_X_y\u001b[1;34m(X, y, accept_sparse, accept_large_sparse, dtype, order, copy, force_all_finite, ensure_2d, allow_nd, multi_output, ensure_min_samples, ensure_min_features, y_numeric, warn_on_dtype, estimator)\u001b[0m\n\u001b[0;32m    753\u001b[0m                     \u001b[0mensure_min_features\u001b[0m\u001b[1;33m=\u001b[0m\u001b[0mensure_min_features\u001b[0m\u001b[1;33m,\u001b[0m\u001b[1;33m\u001b[0m\u001b[1;33m\u001b[0m\u001b[0m\n\u001b[0;32m    754\u001b[0m                     \u001b[0mwarn_on_dtype\u001b[0m\u001b[1;33m=\u001b[0m\u001b[0mwarn_on_dtype\u001b[0m\u001b[1;33m,\u001b[0m\u001b[1;33m\u001b[0m\u001b[1;33m\u001b[0m\u001b[0m\n\u001b[1;32m--> 755\u001b[1;33m                     estimator=estimator)\n\u001b[0m\u001b[0;32m    756\u001b[0m     \u001b[1;32mif\u001b[0m \u001b[0mmulti_output\u001b[0m\u001b[1;33m:\u001b[0m\u001b[1;33m\u001b[0m\u001b[1;33m\u001b[0m\u001b[0m\n\u001b[0;32m    757\u001b[0m         y = check_array(y, 'csr', force_all_finite=True, ensure_2d=False,\n",
      "\u001b[1;32m~\\anaconda3\\lib\\site-packages\\sklearn\\utils\\validation.py\u001b[0m in \u001b[0;36mcheck_array\u001b[1;34m(array, accept_sparse, accept_large_sparse, dtype, order, copy, force_all_finite, ensure_2d, allow_nd, ensure_min_samples, ensure_min_features, warn_on_dtype, estimator)\u001b[0m\n\u001b[0;32m    576\u001b[0m         \u001b[1;32mif\u001b[0m \u001b[0mforce_all_finite\u001b[0m\u001b[1;33m:\u001b[0m\u001b[1;33m\u001b[0m\u001b[1;33m\u001b[0m\u001b[0m\n\u001b[0;32m    577\u001b[0m             _assert_all_finite(array,\n\u001b[1;32m--> 578\u001b[1;33m                                allow_nan=force_all_finite == 'allow-nan')\n\u001b[0m\u001b[0;32m    579\u001b[0m \u001b[1;33m\u001b[0m\u001b[0m\n\u001b[0;32m    580\u001b[0m     \u001b[1;32mif\u001b[0m \u001b[0mensure_min_samples\u001b[0m \u001b[1;33m>\u001b[0m \u001b[1;36m0\u001b[0m\u001b[1;33m:\u001b[0m\u001b[1;33m\u001b[0m\u001b[1;33m\u001b[0m\u001b[0m\n",
      "\u001b[1;32m~\\anaconda3\\lib\\site-packages\\sklearn\\utils\\validation.py\u001b[0m in \u001b[0;36m_assert_all_finite\u001b[1;34m(X, allow_nan, msg_dtype)\u001b[0m\n\u001b[0;32m     58\u001b[0m                     \u001b[0mmsg_err\u001b[0m\u001b[1;33m.\u001b[0m\u001b[0mformat\u001b[0m\u001b[1;33m\u001b[0m\u001b[1;33m\u001b[0m\u001b[0m\n\u001b[0;32m     59\u001b[0m                     (type_err,\n\u001b[1;32m---> 60\u001b[1;33m                      msg_dtype if msg_dtype is not None else X.dtype)\n\u001b[0m\u001b[0;32m     61\u001b[0m             )\n\u001b[0;32m     62\u001b[0m     \u001b[1;31m# for object dtype data, we only check for NaNs (GH-13254)\u001b[0m\u001b[1;33m\u001b[0m\u001b[1;33m\u001b[0m\u001b[1;33m\u001b[0m\u001b[0m\n",
      "\u001b[1;31mValueError\u001b[0m: Input contains NaN, infinity or a value too large for dtype('float64')."
     ]
    }
   ],
   "source": [
    "#SVM\n",
    "Model2 = LinearSVC()\n",
    "Model2.fit(X_train,y_train)\n",
    "#predictions2 = Model2.predict(counts_test)"
   ]
  },
  {
   "cell_type": "code",
   "execution_count": null,
   "metadata": {},
   "outputs": [],
   "source": []
  }
 ],
 "metadata": {
  "kernelspec": {
   "display_name": "Python 3",
   "language": "python",
   "name": "python3"
  },
  "language_info": {
   "codemirror_mode": {
    "name": "ipython",
    "version": 3
   },
   "file_extension": ".py",
   "mimetype": "text/x-python",
   "name": "python",
   "nbconvert_exporter": "python",
   "pygments_lexer": "ipython3",
   "version": "3.7.6"
  }
 },
 "nbformat": 4,
 "nbformat_minor": 4
}
